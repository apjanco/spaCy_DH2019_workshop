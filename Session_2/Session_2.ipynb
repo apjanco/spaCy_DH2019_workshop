{
 "cells": [
  {
   "cell_type": "markdown",
   "metadata": {},
   "source": [
    "<h2>Introduction to Python</h2>"
   ]
  },
  {
   "cell_type": "markdown",
   "metadata": {},
   "source": [
    "<h3>Session 2</h3>\n",
    "    <ul>\n",
    "        <li>Input/Ouptut</li>\n",
    "        <li>Modules</li>\n",
    "        <li>LXML</li>\n",
    "        <li>Pandas</li>\n",
    "        <li>Plotting</li>\n",
    "    </ul>"
   ]
  },
  {
   "cell_type": "markdown",
   "metadata": {},
   "source": [
    "<h2>Input/Output</h2> <br>\n",
    "<h4>Reading files</h4>\n",
    "\n",
    "To read simple txt files you can use the build-in function open().\n",
    "open() takes two arguments. The first one defines the path to the file\n",
    "you want to read. The second arugemt determines the reading mode.\n",
    "Reading modes:\n",
    "\n",
    "\"r\" - Read - Default value. Opens a file for reading, error if the file does not exist <br>\n",
    "\n",
    "\"a\" - Append - Opens a file for appending, creates the file if it does not exist <br>\n",
    "\n",
    "\"w\" - Write - Opens a file for writing, creates the file if it does not exist <br>\n",
    "\n",
    "\"x\" - Create - Creates the specified file, returns an error if the file exist <br>\n",
    "\n",
    "\"t\" - Text - Default value. Text mode <br>\n",
    "\n",
    "\"b\" - Binary - Binary mode (e.g. images) <br>\n",
    "\n",
    "After reading/appending/writing a file it is important to close it again to free memory.\n",
    "It is done with the close() method."
   ]
  },
  {
   "cell_type": "code",
   "execution_count": null,
   "metadata": {},
   "outputs": [],
   "source": [
    "data = open(\"article.txt\",\"rt\")\n",
    "print(data)\n",
    "print(type(data))\n",
    "data.close()"
   ]
  },
  {
   "cell_type": "markdown",
   "metadata": {},
   "source": [
    "If we try to print the text from article.txt, we would expect to see its content.\n",
    "Instead we get an object of the io.TextIOWrapper class. To actually read its text\n",
    "we have to use the read() method."
   ]
  },
  {
   "cell_type": "code",
   "execution_count": null,
   "metadata": {},
   "outputs": [],
   "source": [
    "data = open(\"article.txt\",\"rt\")\n",
    "text = data.read()\n",
    "print(text)\n",
    "data.close()"
   ]
  },
  {
   "cell_type": "markdown",
   "metadata": {},
   "source": [
    "Sometimes it is not necessary to read the whole file at once, since large files\n",
    "tend to block a lot of memory and could slow down our code. By looping over\n",
    "io.TextIOWrapper in a for-loop we can process each line seperatly."
   ]
  },
  {
   "cell_type": "code",
   "execution_count": null,
   "metadata": {},
   "outputs": [],
   "source": [
    "data = open(\"article.txt\",\"rt\")\n",
    "for line in data:\n",
    "    print(line)\n",
    "data.close()"
   ]
  },
  {
   "cell_type": "markdown",
   "metadata": {},
   "source": [
    "It is common to open files within a with-block. This has the advantage that the file is automatically closed again as soon as the block is left. If we store the file content in a variable we can work with it even if we closed the file."
   ]
  },
  {
   "cell_type": "code",
   "execution_count": null,
   "metadata": {},
   "outputs": [],
   "source": [
    "with open(\"article.txt\",\"rt\") as file:\n",
    "    text = file.read()\n",
    "print(text)"
   ]
  },
  {
   "cell_type": "markdown",
   "metadata": {},
   "source": [
    "<h4>Writing files</h4>\n",
    "\n",
    "In case we want to write something on our filesystem, we can use the open() function\n",
    "in a similar way. Instead of read() you have to use write(). "
   ]
  },
  {
   "cell_type": "code",
   "execution_count": null,
   "metadata": {},
   "outputs": [],
   "source": [
    "text = \"\"\n",
    "file = open(\"my_first_file.txt\",\"wt\")\n",
    "file.write(text)#\n",
    "file.close()"
   ]
  },
  {
   "cell_type": "markdown",
   "metadata": {},
   "source": [
    "Check if your first file was created correctly!\n",
    "Let's append it with another line of text."
   ]
  },
  {
   "cell_type": "code",
   "execution_count": null,
   "metadata": {},
   "outputs": [],
   "source": [
    "text = \"\"\n",
    "file = open(\"my_first_file.txt\",\"at\")\n",
    "file.write(text)\n",
    "file.close()"
   ]
  },
  {
   "cell_type": "markdown",
   "metadata": {},
   "source": [
    "<h2>Modules</h2>\n",
    "\n",
    "Fortunately, there is a large community of python users and many of them offer their code for further use. The import of foreign classes and functions is organized by so-called modules or libraries. To use and structure these for our own projects, import statements are used at the beginning of a python script.<br>\n",
    "We start with importing the numpy library."
   ]
  },
  {
   "cell_type": "code",
   "execution_count": null,
   "metadata": {},
   "outputs": [],
   "source": [
    "import numpy\n",
    "print(type(numpy))"
   ]
  },
  {
   "cell_type": "markdown",
   "metadata": {},
   "source": [
    "We could talk about numpy forever. Roughly speaking, the core of numpy is the numpy array, a data type that is very similar to the python list, but has an extensive repertoire of functions to perform very fast linear algebra calculations.\n",
    "It is build like this:"
   ]
  },
  {
   "cell_type": "code",
   "execution_count": null,
   "metadata": {
    "scrolled": true
   },
   "outputs": [],
   "source": [
    "my_array = numpy.array([1,2,3,4,5])\n",
    "print(my_array)"
   ]
  },
  {
   "cell_type": "markdown",
   "metadata": {},
   "source": [
    "If you plan on using a lot of numpy in your code it gets annoying to type \"numpy\" every single time.\n",
    "For this reason python allows to define an alias for modules like this:"
   ]
  },
  {
   "cell_type": "code",
   "execution_count": null,
   "metadata": {},
   "outputs": [],
   "source": [
    "import numpy as np\n",
    "\n",
    "my_array = np.array([1,2,3,4,5])\n",
    "print(my_array)"
   ]
  },
  {
   "cell_type": "markdown",
   "metadata": {},
   "source": [
    "Following the same logic, it is possible to import a single function or class of a module in a way that no alias is needed anymore."
   ]
  },
  {
   "cell_type": "code",
   "execution_count": null,
   "metadata": {},
   "outputs": [],
   "source": [
    "from numpy import array\n",
    "\n",
    "my_array = array([1,2,3,4,5])\n",
    "print(my_array)"
   ]
  },
  {
   "cell_type": "markdown",
   "metadata": {},
   "source": [
    "<h2>lxml</h2>\n",
    "\n",
    "lxml is a python package designed to handle xml data. It is useful to acess elements,\n",
    "attributes or text within xml and handles xpath expressions. Lets start with opening a\n",
    "xml file without lxml:"
   ]
  },
  {
   "cell_type": "code",
   "execution_count": null,
   "metadata": {},
   "outputs": [],
   "source": [
    "file = open(\"ENG18482_Gaskell.xml\",\"r\")\n",
    "xml = file.read()\n",
    "print(xml)"
   ]
  },
  {
   "cell_type": "markdown",
   "metadata": {},
   "source": [
    "This is okay, at least we can read a file this way. But basicly thats all. lxml gives us the oppotunity to work with xml. We start with the import statement."
   ]
  },
  {
   "cell_type": "code",
   "execution_count": null,
   "metadata": {},
   "outputs": [],
   "source": [
    "from lxml import etree"
   ]
  },
  {
   "cell_type": "markdown",
   "metadata": {},
   "source": [
    "lxml inherits a class for xml files, the ElementTree-class. First we need to load our xml as instance of this class:"
   ]
  },
  {
   "cell_type": "code",
   "execution_count": null,
   "metadata": {},
   "outputs": [],
   "source": [
    "xml = etree.parse(\"ENG18482_Gaskell.xml\")\n",
    "print(type(xml))"
   ]
  },
  {
   "cell_type": "markdown",
   "metadata": {},
   "source": [
    "Maybe we are intrested in headings. These should be found inside head elemtents (at least thats what elte-tei  standard promises)"
   ]
  },
  {
   "cell_type": "code",
   "execution_count": null,
   "metadata": {},
   "outputs": [],
   "source": [
    "headings = xml.findall(\"head\")\n",
    "print(headings)"
   ]
  },
  {
   "cell_type": "markdown",
   "metadata": {},
   "source": [
    "Okay, suprisingly wo got zero heading. <br>\n",
    "But looking in the xml file its clear that there\n",
    "have to some of them somewhere.<br>\n",
    "We forgot to define namespaces..."
   ]
  },
  {
   "cell_type": "code",
   "execution_count": null,
   "metadata": {
    "scrolled": true
   },
   "outputs": [],
   "source": [
    "namespace = {\"TEI\": \"http://www.tei-c.org/ns/1.0\"}\n",
    "headings = xml.xpath(\"//TEI:head\", namespaces=namespace)\n",
    "print(headings)"
   ]
  },
  {
   "cell_type": "markdown",
   "metadata": {},
   "source": [
    "We have again received rather unpleasant output. We should check the data type of headings:"
   ]
  },
  {
   "cell_type": "code",
   "execution_count": null,
   "metadata": {},
   "outputs": [],
   "source": [
    "print(type(headings))"
   ]
  },
  {
   "cell_type": "markdown",
   "metadata": {},
   "source": [
    "Okay, its a list. But what is inside this list?"
   ]
  },
  {
   "cell_type": "code",
   "execution_count": null,
   "metadata": {},
   "outputs": [],
   "source": [
    "print(type(headings[0]))"
   ]
  },
  {
   "cell_type": "markdown",
   "metadata": {},
   "source": [
    "We got instances of class etree.Element.. <br>\n",
    "If you stuble upon something you have no idea how to handle it, it's\n",
    "never a bad idea to ask at stackoverflow.com:\n",
    "https://stackoverflow.com/questions/30772943/get-inner-text-from-lxml"
   ]
  },
  {
   "cell_type": "code",
   "execution_count": null,
   "metadata": {
    "scrolled": true
   },
   "outputs": [],
   "source": [
    "print(headings[0].text)"
   ]
  },
  {
   "cell_type": "markdown",
   "metadata": {},
   "source": [
    "Alright, now we can print every heading within a for loop!!"
   ]
  },
  {
   "cell_type": "code",
   "execution_count": null,
   "metadata": {
    "scrolled": true
   },
   "outputs": [],
   "source": [
    "for heading in headings:\n",
    "    \n",
    "    print(heading.text)"
   ]
  },
  {
   "cell_type": "markdown",
   "metadata": {},
   "source": [
    "<h2>pandas</h2>\n",
    "\n",
    "One can imagine pandas as a python variant of ms excel. It is usefull\n",
    "for orangisation, storing and analysing your data alongside with its\n",
    "metadata. The basic element of pandas is the DataFrame"
   ]
  },
  {
   "cell_type": "code",
   "execution_count": null,
   "metadata": {},
   "outputs": [],
   "source": [
    "import pandas as pd"
   ]
  },
  {
   "cell_type": "code",
   "execution_count": null,
   "metadata": {},
   "outputs": [],
   "source": [
    "frame = pd.DataFrame()\n",
    "print(frame)"
   ]
  },
  {
   "cell_type": "markdown",
   "metadata": {},
   "source": [
    "A DataFrame contains an index (rows, axis 0) and columns (axis 1), along with the actual data. We start by creating an empty frame and add three named columns."
   ]
  },
  {
   "cell_type": "code",
   "execution_count": null,
   "metadata": {},
   "outputs": [],
   "source": [
    "frame = pd.DataFrame()\n",
    "frame[\"author_lastname\"] = [\"Gaskell\",\"Dickens\",\"Eliot\"]\n",
    "frame[\"author_forename\"] = [\"Elisabeth\",\"Charles\",\"George\"]\n",
    "frame[\"title\"] = [\"Mary Barton\",\"Hard Times\",\"Middlemarch\"]\n",
    "frame"
   ]
  },
  {
   "cell_type": "markdown",
   "metadata": {},
   "source": [
    "Now we can access values by selecting fields via conditions in brackets. This expression reads:\n",
    "Give me all titles of novels written by Gaskell"
   ]
  },
  {
   "cell_type": "code",
   "execution_count": null,
   "metadata": {},
   "outputs": [],
   "source": [
    "frame[frame.author_lastname == \"Gaskell\"][\"title\"]"
   ]
  },
  {
   "cell_type": "markdown",
   "metadata": {},
   "source": [
    "We can save DataFrames to our disk with to_csv().\n",
    "The sep-argument determines a character, that will be\n",
    "used to separate values. You should always make sure\n",
    "this character is not containd by any field in your\n",
    "dataFrame since it would corrupt the file and make\n",
    "it unreadable."
   ]
  },
  {
   "cell_type": "code",
   "execution_count": null,
   "metadata": {},
   "outputs": [],
   "source": [
    "frame.to_csv(\"my_first_table.tsv\", sep=\"\\t\")"
   ]
  },
  {
   "cell_type": "markdown",
   "metadata": {},
   "source": [
    "The counterpart to to_csv() is from_csv(). <br>\n",
    "Lets try to load an example file:"
   ]
  },
  {
   "cell_type": "code",
   "execution_count": null,
   "metadata": {
    "scrolled": true
   },
   "outputs": [],
   "source": [
    "frame = pd.read_csv(\"dtm_example.tsv\", sep=\"\\t\", index_col=0)\n",
    "frame"
   ]
  },
  {
   "cell_type": "markdown",
   "metadata": {},
   "source": [
    "This table holds token counts for 57 english novels. Document names are stored in\n",
    "the columns and words in its index. If we want to know how often a word is contained\n",
    "by a certain document we can just type:"
   ]
  },
  {
   "cell_type": "code",
   "execution_count": null,
   "metadata": {},
   "outputs": [],
   "source": [
    "frame.loc[\"the\",\"d01\"]"
   ]
  },
  {
   "cell_type": "markdown",
   "metadata": {},
   "source": [
    "Just as well we can compare the word frequencies of several documents and words."
   ]
  },
  {
   "cell_type": "code",
   "execution_count": null,
   "metadata": {},
   "outputs": [],
   "source": [
    "frame.loc[[\"he\",\"she\"],[\"d01\",\"d22\",\"d34\"]]"
   ]
  },
  {
   "cell_type": "markdown",
   "metadata": {},
   "source": [
    "In addition we can select values by numerical indexing:"
   ]
  },
  {
   "cell_type": "code",
   "execution_count": null,
   "metadata": {},
   "outputs": [],
   "source": [
    "frame.iloc[[1,2,4],[2,4,6]]"
   ]
  },
  {
   "cell_type": "markdown",
   "metadata": {},
   "source": [
    "In both loc and iloc \":\" can be used as wildcard (e.g. every row/column)"
   ]
  },
  {
   "cell_type": "code",
   "execution_count": null,
   "metadata": {},
   "outputs": [],
   "source": [
    "frame.iloc[[1,2],:]"
   ]
  },
  {
   "cell_type": "markdown",
   "metadata": {},
   "source": [
    "Sorting is also possible"
   ]
  },
  {
   "cell_type": "code",
   "execution_count": null,
   "metadata": {
    "scrolled": true
   },
   "outputs": [],
   "source": [
    "frame.sort_values([\"d01\"], ascending=False)"
   ]
  },
  {
   "cell_type": "markdown",
   "metadata": {},
   "source": [
    "Sometimes its usefull to flip rows and columns:"
   ]
  },
  {
   "cell_type": "code",
   "execution_count": null,
   "metadata": {
    "scrolled": true
   },
   "outputs": [],
   "source": [
    "frame = frame.T\n",
    "frame"
   ]
  },
  {
   "cell_type": "code",
   "execution_count": null,
   "metadata": {
    "scrolled": true
   },
   "outputs": [],
   "source": [
    "frame.sort_values(\"she\",ascending=False)[\"she\"]"
   ]
  },
  {
   "cell_type": "markdown",
   "metadata": {},
   "source": [
    "We can calculate the sum of a whole row or column with\n",
    "the sum() operator. The same applies for mean()."
   ]
  },
  {
   "cell_type": "code",
   "execution_count": null,
   "metadata": {},
   "outputs": [],
   "source": [
    "frame.loc[\"d01\"].sum()"
   ]
  },
  {
   "cell_type": "code",
   "execution_count": null,
   "metadata": {},
   "outputs": [],
   "source": [
    "frame[\"and\"].sum()"
   ]
  },
  {
   "cell_type": "code",
   "execution_count": null,
   "metadata": {},
   "outputs": [],
   "source": [
    "frame[\"and\"].mean()"
   ]
  },
  {
   "cell_type": "markdown",
   "metadata": {},
   "source": [
    "If we want really want to compare word counts in novels, it\n",
    "does not seem to be reasonable to look at absolute values. \n",
    "Instead we should transform our data into relative frequencies.\n",
    "To do so we have to get the total count of words in each document\n",
    "and divide every single word count by that value."
   ]
  },
  {
   "cell_type": "code",
   "execution_count": null,
   "metadata": {
    "scrolled": true
   },
   "outputs": [],
   "source": [
    "frame = frame.div(frame.sum(axis=1), axis=0)\n",
    "frame"
   ]
  },
  {
   "cell_type": "markdown",
   "metadata": {},
   "source": [
    "<h3>Plotting</h3>\n",
    "\n",
    "There are several libraries for ploting in python.\n",
    "You can look at some galeries:\n",
    "\n",
    "https://bokeh.pydata.org/en/latest/docs/gallery.html\n",
    "https://plot.ly/python/\n",
    "https://dash-gallery.plotly.host/Portal/\n",
    "https://seaborn.pydata.org/examples/index.html\n",
    "https://matplotlib.org/3.1.1/gallery/index.html\n",
    "\n",
    "While bokeh and plotly are quite advanced and strongly \n",
    "designed for web-app development. We should stick\n",
    "with matplotlib based solutions.\n",
    "\n",
    "We want to show the realive frequency for \"he\" in\n",
    "the first 5 docuemnts and choose a barplot as \n",
    "visualization. "
   ]
  },
  {
   "cell_type": "code",
   "execution_count": null,
   "metadata": {},
   "outputs": [],
   "source": [
    "import matplotlib.pyplot as plt"
   ]
  },
  {
   "cell_type": "markdown",
   "metadata": {},
   "source": [
    "To actualy plot a figure we need to type plt.show(). Lets try:"
   ]
  },
  {
   "cell_type": "code",
   "execution_count": null,
   "metadata": {},
   "outputs": [],
   "source": [
    "plt.show()"
   ]
  },
  {
   "cell_type": "code",
   "execution_count": null,
   "metadata": {},
   "outputs": [],
   "source": []
  },
  {
   "cell_type": "markdown",
   "metadata": {},
   "source": [
    "Of course we can't see anything here, since we did not define \n",
    "a figure that could have been plotted.<br>\n",
    "In order to change this, we use the function subplots() and\n",
    "configure the size of our plot"
   ]
  },
  {
   "cell_type": "code",
   "execution_count": null,
   "metadata": {},
   "outputs": [],
   "source": [
    "fig, ax = plt.subplots(figsize=(16,9))\n",
    "plt.show()"
   ]
  },
  {
   "cell_type": "markdown",
   "metadata": {},
   "source": [
    "Now we see something, but its still far from a bar plot.\n",
    "We can create barplots using plt.bar()"
   ]
  },
  {
   "cell_type": "code",
   "execution_count": null,
   "metadata": {
    "scrolled": true
   },
   "outputs": [],
   "source": [
    "fig, ax = plt.subplots(figsize=(16,9))\n",
    "plt.bar()\n",
    "plt.show()"
   ]
  },
  {
   "cell_type": "markdown",
   "metadata": {},
   "source": [
    "This Error Message is quite handy. \n",
    "We just need to add x (name of the bars) \n",
    "and height:"
   ]
  },
  {
   "cell_type": "code",
   "execution_count": null,
   "metadata": {},
   "outputs": [],
   "source": [
    "fig, ax = plt.subplots(figsize=(16,9))\n",
    "plt.bar(frame.index[:5], frame.iloc[:5,1])\n",
    "plt.show()"
   ]
  },
  {
   "cell_type": "markdown",
   "metadata": {},
   "source": [
    "Basicly thats it! But if you want to use this plot in any form of\n",
    "publication you should invest a bit of time to enhance its \n",
    "appearacne."
   ]
  },
  {
   "cell_type": "code",
   "execution_count": null,
   "metadata": {},
   "outputs": [],
   "source": [
    "fig, ax = plt.subplots(figsize=(16,9))\n",
    "plt.bar(frame.index[:5], frame.iloc[:5,1])\n",
    "plt.ylabel(\"Relative frequency of the word he\", size=18) # Label of y axis\n",
    "plt.xlabel(\"Documents\", size = 18) # Label of x axis\n",
    "ax.tick_params(labelsize=15) # Size of tick labels\n",
    "plt.show()"
   ]
  }
 ],
 "metadata": {
  "kernelspec": {
   "display_name": "spacy",
   "language": "python",
   "name": "spacy"
  },
  "language_info": {
   "codemirror_mode": {
    "name": "ipython",
    "version": 3
   },
   "file_extension": ".py",
   "mimetype": "text/x-python",
   "name": "python",
   "nbconvert_exporter": "python",
   "pygments_lexer": "ipython3",
   "version": "3.7.3"
  }
 },
 "nbformat": 4,
 "nbformat_minor": 2
}

