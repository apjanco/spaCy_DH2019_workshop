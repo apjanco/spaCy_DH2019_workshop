{
 "cells": [
  {
   "cell_type": "markdown",
   "metadata": {},
   "source": [
    "<h1>Exercises</h1>\n",
    "\n",
    "<h2>Input/Ouptut</h2>\n",
    "1. Save string a to a file:"
   ]
  },
  {
   "cell_type": "code",
   "execution_count": 2,
   "metadata": {},
   "outputs": [],
   "source": [
    "a = \"This is a small exercise\""
   ]
  },
  {
   "cell_type": "code",
   "execution_count": 3,
   "metadata": {},
   "outputs": [],
   "source": [
    "with open(\"myfile.txt\", \"wt\") as file:\n",
    "    file.write(a)"
   ]
  },
  {
   "cell_type": "markdown",
   "metadata": {},
   "source": [
    "2. Load the file again and print out its content:"
   ]
  },
  {
   "cell_type": "code",
   "execution_count": 4,
   "metadata": {},
   "outputs": [
    {
     "name": "stdout",
     "output_type": "stream",
     "text": [
      "This is a small exercise\n"
     ]
    }
   ],
   "source": [
    "with open(\"myfile.txt\",\"rt\") as file:\n",
    "    a = file.read()\n",
    "print(a)"
   ]
  },
  {
   "cell_type": "markdown",
   "metadata": {},
   "source": [
    "<h2>Modules</h2>\n",
    "3. Import the following modules:<br>\n",
    "pandas (with alias pd)<br>\n",
    "numpy (with alias np)<br>\n",
    "etree (from the library lxml)<br>\n",
    "matplotlib.pyplot (with alias plt)<br>"
   ]
  },
  {
   "cell_type": "code",
   "execution_count": 1,
   "metadata": {},
   "outputs": [],
   "source": [
    "import pandas as pd\n",
    "import numpy as np\n",
    "from lxml import etree\n",
    "import matplotlib.pyplot as plt"
   ]
  },
  {
   "cell_type": "markdown",
   "metadata": {},
   "source": [
    "<h2>lxml</h2>\n",
    "\n",
    "4. Parse the file ENG18482_Gaskell.xml and print out every title element:"
   ]
  },
  {
   "cell_type": "code",
   "execution_count": 3,
   "metadata": {},
   "outputs": [
    {
     "name": "stdout",
     "output_type": "stream",
     "text": [
      "Mary Barton: A Tale of Manchester Life : ELTeC edition\n",
      "The Project Gutenberg eBook of Mary Barton, by Elizabeth Cleghorn Gaskell\n",
      "Mary Barton: A Tale of Manchester\n",
      "Life\n"
     ]
    }
   ],
   "source": [
    "from lxml import etree\n",
    "xml = etree.parse(\"ENG18482_Gaskell.xml\")\n",
    "namespace = {\"TEI\": \"http://www.tei-c.org/ns/1.0\"}\n",
    "headings = xml.xpath(\"//TEI:title\", namespaces=namespace)\n",
    "\n",
    "for heading in headings:\n",
    "    print(heading.text)"
   ]
  },
  {
   "cell_type": "markdown",
   "metadata": {},
   "source": [
    "<h2>Pandas</h2>\n",
    "5. Create a pandas dataFrame and add list a as column with the name \"numbers\""
   ]
  },
  {
   "cell_type": "code",
   "execution_count": 4,
   "metadata": {},
   "outputs": [
    {
     "data": {
      "text/html": [
       "<div>\n",
       "<style scoped>\n",
       "    .dataframe tbody tr th:only-of-type {\n",
       "        vertical-align: middle;\n",
       "    }\n",
       "\n",
       "    .dataframe tbody tr th {\n",
       "        vertical-align: top;\n",
       "    }\n",
       "\n",
       "    .dataframe thead th {\n",
       "        text-align: right;\n",
       "    }\n",
       "</style>\n",
       "<table border=\"1\" class=\"dataframe\">\n",
       "  <thead>\n",
       "    <tr style=\"text-align: right;\">\n",
       "      <th></th>\n",
       "      <th>numbers</th>\n",
       "    </tr>\n",
       "  </thead>\n",
       "  <tbody>\n",
       "    <tr>\n",
       "      <th>0</th>\n",
       "      <td>1</td>\n",
       "    </tr>\n",
       "    <tr>\n",
       "      <th>1</th>\n",
       "      <td>2</td>\n",
       "    </tr>\n",
       "    <tr>\n",
       "      <th>2</th>\n",
       "      <td>3</td>\n",
       "    </tr>\n",
       "    <tr>\n",
       "      <th>3</th>\n",
       "      <td>4</td>\n",
       "    </tr>\n",
       "    <tr>\n",
       "      <th>4</th>\n",
       "      <td>5</td>\n",
       "    </tr>\n",
       "  </tbody>\n",
       "</table>\n",
       "</div>"
      ],
      "text/plain": [
       "   numbers\n",
       "0        1\n",
       "1        2\n",
       "2        3\n",
       "3        4\n",
       "4        5"
      ]
     },
     "execution_count": 4,
     "metadata": {},
     "output_type": "execute_result"
    }
   ],
   "source": [
    "a = [1,2,3,4,5]\n",
    "frame = pd.DataFrame()\n",
    "frame[\"numbers\"] = a\n",
    "frame"
   ]
  },
  {
   "cell_type": "markdown",
   "metadata": {},
   "source": [
    "6. Print the word count of \"me\" in dataFrame dtm for the documents d03, d32 and d56"
   ]
  },
  {
   "cell_type": "code",
   "execution_count": 5,
   "metadata": {},
   "outputs": [],
   "source": [
    "dtm = pd.read_csv(\"dtm_example.tsv\", sep=\"\\t\", index_col=0)"
   ]
  },
  {
   "cell_type": "code",
   "execution_count": 7,
   "metadata": {},
   "outputs": [
    {
     "data": {
      "text/plain": [
       "d03    865.0\n",
       "d32    520.0\n",
       "d56    850.0\n",
       "Name: me, dtype: float64"
      ]
     },
     "execution_count": 7,
     "metadata": {},
     "output_type": "execute_result"
    }
   ],
   "source": [
    "dtm.loc[\"me\",[\"d03\",\"d32\",\"d56\"]]"
   ]
  },
  {
   "cell_type": "markdown",
   "metadata": {},
   "source": [
    "7. Sort the results of exercise 6:"
   ]
  },
  {
   "cell_type": "code",
   "execution_count": 8,
   "metadata": {},
   "outputs": [
    {
     "data": {
      "text/plain": [
       "d32    520.0\n",
       "d56    850.0\n",
       "d03    865.0\n",
       "Name: me, dtype: float64"
      ]
     },
     "execution_count": 8,
     "metadata": {},
     "output_type": "execute_result"
    }
   ],
   "source": [
    "dtm.loc[\"me\",[\"d03\",\"d32\",\"d56\"]].sort_values()"
   ]
  },
  {
   "cell_type": "markdown",
   "metadata": {},
   "source": [
    "8. calculate relative frequencies of \"he\" and \"she\" "
   ]
  },
  {
   "cell_type": "code",
   "execution_count": 9,
   "metadata": {
    "scrolled": true
   },
   "outputs": [
    {
     "data": {
      "text/html": [
       "<div>\n",
       "<style scoped>\n",
       "    .dataframe tbody tr th:only-of-type {\n",
       "        vertical-align: middle;\n",
       "    }\n",
       "\n",
       "    .dataframe tbody tr th {\n",
       "        vertical-align: top;\n",
       "    }\n",
       "\n",
       "    .dataframe thead th {\n",
       "        text-align: right;\n",
       "    }\n",
       "</style>\n",
       "<table border=\"1\" class=\"dataframe\">\n",
       "  <thead>\n",
       "    <tr style=\"text-align: right;\">\n",
       "      <th></th>\n",
       "      <th>she</th>\n",
       "      <th>he</th>\n",
       "    </tr>\n",
       "  </thead>\n",
       "  <tbody>\n",
       "    <tr>\n",
       "      <th>d01</th>\n",
       "      <td>0.004002</td>\n",
       "      <td>0.029289</td>\n",
       "    </tr>\n",
       "    <tr>\n",
       "      <th>d02</th>\n",
       "      <td>0.017173</td>\n",
       "      <td>0.027381</td>\n",
       "    </tr>\n",
       "    <tr>\n",
       "      <th>d03</th>\n",
       "      <td>0.008586</td>\n",
       "      <td>0.026588</td>\n",
       "    </tr>\n",
       "    <tr>\n",
       "      <th>d04</th>\n",
       "      <td>0.010305</td>\n",
       "      <td>0.018439</td>\n",
       "    </tr>\n",
       "    <tr>\n",
       "      <th>d05</th>\n",
       "      <td>0.008249</td>\n",
       "      <td>0.022479</td>\n",
       "    </tr>\n",
       "    <tr>\n",
       "      <th>d06</th>\n",
       "      <td>0.014699</td>\n",
       "      <td>0.024726</td>\n",
       "    </tr>\n",
       "    <tr>\n",
       "      <th>d07</th>\n",
       "      <td>0.011440</td>\n",
       "      <td>0.026167</td>\n",
       "    </tr>\n",
       "    <tr>\n",
       "      <th>d08</th>\n",
       "      <td>0.008786</td>\n",
       "      <td>0.029724</td>\n",
       "    </tr>\n",
       "    <tr>\n",
       "      <th>d09</th>\n",
       "      <td>0.009557</td>\n",
       "      <td>0.018649</td>\n",
       "    </tr>\n",
       "    <tr>\n",
       "      <th>d10</th>\n",
       "      <td>0.013553</td>\n",
       "      <td>0.014978</td>\n",
       "    </tr>\n",
       "    <tr>\n",
       "      <th>d11</th>\n",
       "      <td>0.006112</td>\n",
       "      <td>0.021440</td>\n",
       "    </tr>\n",
       "    <tr>\n",
       "      <th>d12</th>\n",
       "      <td>0.007329</td>\n",
       "      <td>0.018045</td>\n",
       "    </tr>\n",
       "    <tr>\n",
       "      <th>d13</th>\n",
       "      <td>0.023420</td>\n",
       "      <td>0.022706</td>\n",
       "    </tr>\n",
       "    <tr>\n",
       "      <th>d14</th>\n",
       "      <td>0.007257</td>\n",
       "      <td>0.012870</td>\n",
       "    </tr>\n",
       "    <tr>\n",
       "      <th>d15</th>\n",
       "      <td>0.021712</td>\n",
       "      <td>0.015485</td>\n",
       "    </tr>\n",
       "    <tr>\n",
       "      <th>d16</th>\n",
       "      <td>0.005815</td>\n",
       "      <td>0.019964</td>\n",
       "    </tr>\n",
       "    <tr>\n",
       "      <th>d17</th>\n",
       "      <td>0.010427</td>\n",
       "      <td>0.021561</td>\n",
       "    </tr>\n",
       "    <tr>\n",
       "      <th>d18</th>\n",
       "      <td>0.009111</td>\n",
       "      <td>0.011020</td>\n",
       "    </tr>\n",
       "    <tr>\n",
       "      <th>d19</th>\n",
       "      <td>0.016404</td>\n",
       "      <td>0.019875</td>\n",
       "    </tr>\n",
       "    <tr>\n",
       "      <th>d20</th>\n",
       "      <td>0.010893</td>\n",
       "      <td>0.022976</td>\n",
       "    </tr>\n",
       "    <tr>\n",
       "      <th>d21</th>\n",
       "      <td>0.012411</td>\n",
       "      <td>0.019871</td>\n",
       "    </tr>\n",
       "    <tr>\n",
       "      <th>d22</th>\n",
       "      <td>0.012070</td>\n",
       "      <td>0.015506</td>\n",
       "    </tr>\n",
       "    <tr>\n",
       "      <th>d23</th>\n",
       "      <td>0.012070</td>\n",
       "      <td>0.024927</td>\n",
       "    </tr>\n",
       "    <tr>\n",
       "      <th>d24</th>\n",
       "      <td>0.016463</td>\n",
       "      <td>0.018881</td>\n",
       "    </tr>\n",
       "    <tr>\n",
       "      <th>d25</th>\n",
       "      <td>0.007002</td>\n",
       "      <td>0.033917</td>\n",
       "    </tr>\n",
       "    <tr>\n",
       "      <th>d26</th>\n",
       "      <td>0.012417</td>\n",
       "      <td>0.031782</td>\n",
       "    </tr>\n",
       "    <tr>\n",
       "      <th>d27</th>\n",
       "      <td>0.027246</td>\n",
       "      <td>0.021358</td>\n",
       "    </tr>\n",
       "    <tr>\n",
       "      <th>d28</th>\n",
       "      <td>0.004143</td>\n",
       "      <td>0.012940</td>\n",
       "    </tr>\n",
       "    <tr>\n",
       "      <th>d29</th>\n",
       "      <td>0.010973</td>\n",
       "      <td>0.021703</td>\n",
       "    </tr>\n",
       "    <tr>\n",
       "      <th>d30</th>\n",
       "      <td>0.006194</td>\n",
       "      <td>0.028654</td>\n",
       "    </tr>\n",
       "    <tr>\n",
       "      <th>d31</th>\n",
       "      <td>0.019306</td>\n",
       "      <td>0.013948</td>\n",
       "    </tr>\n",
       "    <tr>\n",
       "      <th>d32</th>\n",
       "      <td>0.010234</td>\n",
       "      <td>0.023416</td>\n",
       "    </tr>\n",
       "    <tr>\n",
       "      <th>d33</th>\n",
       "      <td>0.000906</td>\n",
       "      <td>0.021971</td>\n",
       "    </tr>\n",
       "    <tr>\n",
       "      <th>d34</th>\n",
       "      <td>0.010798</td>\n",
       "      <td>0.035098</td>\n",
       "    </tr>\n",
       "    <tr>\n",
       "      <th>d35</th>\n",
       "      <td>0.003062</td>\n",
       "      <td>0.031415</td>\n",
       "    </tr>\n",
       "    <tr>\n",
       "      <th>d36</th>\n",
       "      <td>0.013040</td>\n",
       "      <td>0.012832</td>\n",
       "    </tr>\n",
       "    <tr>\n",
       "      <th>d37</th>\n",
       "      <td>0.015004</td>\n",
       "      <td>0.017495</td>\n",
       "    </tr>\n",
       "    <tr>\n",
       "      <th>d38</th>\n",
       "      <td>0.011603</td>\n",
       "      <td>0.025007</td>\n",
       "    </tr>\n",
       "    <tr>\n",
       "      <th>d39</th>\n",
       "      <td>0.017052</td>\n",
       "      <td>0.021033</td>\n",
       "    </tr>\n",
       "    <tr>\n",
       "      <th>d40</th>\n",
       "      <td>0.008680</td>\n",
       "      <td>0.022303</td>\n",
       "    </tr>\n",
       "    <tr>\n",
       "      <th>d41</th>\n",
       "      <td>0.023622</td>\n",
       "      <td>0.021657</td>\n",
       "    </tr>\n",
       "    <tr>\n",
       "      <th>d42</th>\n",
       "      <td>0.015465</td>\n",
       "      <td>0.013525</td>\n",
       "    </tr>\n",
       "    <tr>\n",
       "      <th>d43</th>\n",
       "      <td>0.009339</td>\n",
       "      <td>0.016259</td>\n",
       "    </tr>\n",
       "    <tr>\n",
       "      <th>d44</th>\n",
       "      <td>0.006440</td>\n",
       "      <td>0.018289</td>\n",
       "    </tr>\n",
       "    <tr>\n",
       "      <th>d45</th>\n",
       "      <td>0.007675</td>\n",
       "      <td>0.017918</td>\n",
       "    </tr>\n",
       "    <tr>\n",
       "      <th>d46</th>\n",
       "      <td>0.014980</td>\n",
       "      <td>0.033058</td>\n",
       "    </tr>\n",
       "    <tr>\n",
       "      <th>d47</th>\n",
       "      <td>0.022336</td>\n",
       "      <td>0.018955</td>\n",
       "    </tr>\n",
       "    <tr>\n",
       "      <th>d48</th>\n",
       "      <td>0.011541</td>\n",
       "      <td>0.015080</td>\n",
       "    </tr>\n",
       "    <tr>\n",
       "      <th>d49</th>\n",
       "      <td>0.004104</td>\n",
       "      <td>0.019975</td>\n",
       "    </tr>\n",
       "    <tr>\n",
       "      <th>d50</th>\n",
       "      <td>0.010609</td>\n",
       "      <td>0.029758</td>\n",
       "    </tr>\n",
       "    <tr>\n",
       "      <th>d51</th>\n",
       "      <td>0.024002</td>\n",
       "      <td>0.022963</td>\n",
       "    </tr>\n",
       "    <tr>\n",
       "      <th>d52</th>\n",
       "      <td>0.009506</td>\n",
       "      <td>0.018196</td>\n",
       "    </tr>\n",
       "    <tr>\n",
       "      <th>d53</th>\n",
       "      <td>0.004782</td>\n",
       "      <td>0.018554</td>\n",
       "    </tr>\n",
       "    <tr>\n",
       "      <th>d54</th>\n",
       "      <td>0.015058</td>\n",
       "      <td>0.024993</td>\n",
       "    </tr>\n",
       "    <tr>\n",
       "      <th>d55</th>\n",
       "      <td>0.014573</td>\n",
       "      <td>0.029244</td>\n",
       "    </tr>\n",
       "    <tr>\n",
       "      <th>d56</th>\n",
       "      <td>0.015131</td>\n",
       "      <td>0.018193</td>\n",
       "    </tr>\n",
       "    <tr>\n",
       "      <th>d57</th>\n",
       "      <td>0.006212</td>\n",
       "      <td>0.019539</td>\n",
       "    </tr>\n",
       "  </tbody>\n",
       "</table>\n",
       "</div>"
      ],
      "text/plain": [
       "          she        he\n",
       "d01  0.004002  0.029289\n",
       "d02  0.017173  0.027381\n",
       "d03  0.008586  0.026588\n",
       "d04  0.010305  0.018439\n",
       "d05  0.008249  0.022479\n",
       "d06  0.014699  0.024726\n",
       "d07  0.011440  0.026167\n",
       "d08  0.008786  0.029724\n",
       "d09  0.009557  0.018649\n",
       "d10  0.013553  0.014978\n",
       "d11  0.006112  0.021440\n",
       "d12  0.007329  0.018045\n",
       "d13  0.023420  0.022706\n",
       "d14  0.007257  0.012870\n",
       "d15  0.021712  0.015485\n",
       "d16  0.005815  0.019964\n",
       "d17  0.010427  0.021561\n",
       "d18  0.009111  0.011020\n",
       "d19  0.016404  0.019875\n",
       "d20  0.010893  0.022976\n",
       "d21  0.012411  0.019871\n",
       "d22  0.012070  0.015506\n",
       "d23  0.012070  0.024927\n",
       "d24  0.016463  0.018881\n",
       "d25  0.007002  0.033917\n",
       "d26  0.012417  0.031782\n",
       "d27  0.027246  0.021358\n",
       "d28  0.004143  0.012940\n",
       "d29  0.010973  0.021703\n",
       "d30  0.006194  0.028654\n",
       "d31  0.019306  0.013948\n",
       "d32  0.010234  0.023416\n",
       "d33  0.000906  0.021971\n",
       "d34  0.010798  0.035098\n",
       "d35  0.003062  0.031415\n",
       "d36  0.013040  0.012832\n",
       "d37  0.015004  0.017495\n",
       "d38  0.011603  0.025007\n",
       "d39  0.017052  0.021033\n",
       "d40  0.008680  0.022303\n",
       "d41  0.023622  0.021657\n",
       "d42  0.015465  0.013525\n",
       "d43  0.009339  0.016259\n",
       "d44  0.006440  0.018289\n",
       "d45  0.007675  0.017918\n",
       "d46  0.014980  0.033058\n",
       "d47  0.022336  0.018955\n",
       "d48  0.011541  0.015080\n",
       "d49  0.004104  0.019975\n",
       "d50  0.010609  0.029758\n",
       "d51  0.024002  0.022963\n",
       "d52  0.009506  0.018196\n",
       "d53  0.004782  0.018554\n",
       "d54  0.015058  0.024993\n",
       "d55  0.014573  0.029244\n",
       "d56  0.015131  0.018193\n",
       "d57  0.006212  0.019539"
      ]
     },
     "execution_count": 9,
     "metadata": {},
     "output_type": "execute_result"
    }
   ],
   "source": [
    "dtm = dtm.T\n",
    "dtm = dtm.div(dtm.sum(axis=1), axis=0)\n",
    "dtm = dtm.loc[:, [\"she\",\"he\"]]\n",
    "dtm"
   ]
  },
  {
   "cell_type": "markdown",
   "metadata": {},
   "source": [
    "<h2>matplotlib</h2>\n",
    "9. Take a look at the scatterplot documentation at: <br>\n",
    "https://matplotlib.org/3.1.1/api/_as_gen/matplotlib.pyplot.scatter.html"
   ]
  },
  {
   "cell_type": "markdown",
   "metadata": {},
   "source": [
    "10. Create a scatterplot, where: <br>\n",
    "x axis: frequency of she<br>\n",
    "y axis: frequency of he<br>\n",
    "points: documents<br>"
   ]
  },
  {
   "cell_type": "code",
   "execution_count": 36,
   "metadata": {},
   "outputs": [
    {
     "data": {
      "image/png": "[encoded data removed]",
      "text/plain": [
       "<Figure size 720x720 with 1 Axes>"
      ]
     },
     "metadata": {
      "needs_background": "light"
     },
     "output_type": "display_data"
    }
   ],
   "source": [
    "fig, ax = plt.subplots(figsize=(10,10))\n",
    "plt.scatter(dtm[\"she\"],dtm[\"he\"])\n",
    "\n",
    "plt.xlabel(\"she\", size=20)\n",
    "plt.ylabel(\"he\", size=20)\n",
    "plt.xlim(0,0.04)\n",
    "plt.ylim(0,0.04)\n",
    "x = np.linspace(-5,5,100)\n",
    "y = 1*x+0\n",
    "plt.plot(x,y)\n",
    "plt.show()"
   ]
  }
 ],
 "metadata": {
  "kernelspec": {
   "display_name": "Python 3",
   "language": "python",
   "name": "python3"
  },
  "language_info": {
   "codemirror_mode": {
    "name": "ipython",
    "version": 3
   },
   "file_extension": ".py",
   "mimetype": "text/x-python",
   "name": "python",
   "nbconvert_exporter": "python",
   "pygments_lexer": "ipython3",
   "version": "3.7.3"
  }
 },
 "nbformat": 4,
 "nbformat_minor": 2
}
