{
 "cells": [
  {
   "cell_type": "code",
   "execution_count": 1,
   "metadata": {},
   "outputs": [
    {
     "ename": "ModuleNotFoundError",
     "evalue": "No module named 'geopandas'",
     "output_type": "error",
     "traceback": [
      "\u001b[0;31m---------------------------------------------------------------------------\u001b[0m",
      "\u001b[0;31mModuleNotFoundError\u001b[0m                       Traceback (most recent call last)",
      "\u001b[0;32m<ipython-input-1-1fe3ddb834ea>\u001b[0m in \u001b[0;36m<module>\u001b[0;34m\u001b[0m\n\u001b[1;32m     13\u001b[0m \u001b[0;34m\u001b[0m\u001b[0m\n\u001b[1;32m     14\u001b[0m \u001b[0;32mimport\u001b[0m \u001b[0mstandoffconverter\u001b[0m\u001b[0;34m\u001b[0m\u001b[0;34m\u001b[0m\u001b[0m\n\u001b[0;32m---> 15\u001b[0;31m \u001b[0;32mimport\u001b[0m \u001b[0mgeo_helper\u001b[0m\u001b[0;34m\u001b[0m\u001b[0;34m\u001b[0m\u001b[0m\n\u001b[0m\u001b[1;32m     16\u001b[0m \u001b[0;32mimport\u001b[0m \u001b[0miso3166\u001b[0m\u001b[0;34m\u001b[0m\u001b[0;34m\u001b[0m\u001b[0m\n\u001b[1;32m     17\u001b[0m \u001b[0;34m\u001b[0m\u001b[0m\n",
      "\u001b[0;32m~/projects/spaCy_workshops/Session_4/geo_helper.py\u001b[0m in \u001b[0;36m<module>\u001b[0;34m\u001b[0m\n\u001b[1;32m      2\u001b[0m \u001b[0;32mfrom\u001b[0m \u001b[0mmatplotlib\u001b[0m \u001b[0;32mimport\u001b[0m \u001b[0mcm\u001b[0m\u001b[0;34m\u001b[0m\u001b[0;34m\u001b[0m\u001b[0m\n\u001b[1;32m      3\u001b[0m \u001b[0;32mimport\u001b[0m \u001b[0mpandas\u001b[0m \u001b[0;32mas\u001b[0m \u001b[0mpd\u001b[0m\u001b[0;34m\u001b[0m\u001b[0;34m\u001b[0m\u001b[0m\n\u001b[0;32m----> 4\u001b[0;31m \u001b[0;32mimport\u001b[0m \u001b[0mgeopandas\u001b[0m \u001b[0;32mas\u001b[0m \u001b[0mgpd\u001b[0m\u001b[0;34m\u001b[0m\u001b[0;34m\u001b[0m\u001b[0m\n\u001b[0m\u001b[1;32m      5\u001b[0m \u001b[0;32mimport\u001b[0m \u001b[0mjson\u001b[0m\u001b[0;34m\u001b[0m\u001b[0;34m\u001b[0m\u001b[0m\n\u001b[1;32m      6\u001b[0m \u001b[0;32mimport\u001b[0m \u001b[0murllib\u001b[0m\u001b[0;34m\u001b[0m\u001b[0;34m\u001b[0m\u001b[0m\n",
      "\u001b[0;31mModuleNotFoundError\u001b[0m: No module named 'geopandas'"
     ]
    }
   ],
   "source": [
    "%load_ext autoreload\n",
    "%autoreload 2\n",
    "\n",
    "from os import path, listdir\n",
    "import urllib.request\n",
    "import json\n",
    "from collections import Counter\n",
    "import copy\n",
    "\n",
    "from tqdm import tqdm_notebook as tqdm\n",
    "\n",
    "import spacy\n",
    "\n",
    "import standoffconverter\n",
    "import geo_helper\n",
    "import iso3166\n",
    "\n",
    "import numpy as np\n",
    "import pandas as pd\n",
    "import matplotlib.pyplot as plt\n",
    "\n",
    "from lxml import etree\n",
    "\n",
    "import ELTeC_dataloader"
   ]
  },
  {
   "cell_type": "code",
   "execution_count": null,
   "metadata": {},
   "outputs": [],
   "source": [
    "file_names = [fn for fn in ELTeC_dataloader.get_file_descriptors()]\n",
    "\n",
    "IN_DIR = file_names[0].split(\"/ELTeC-fra/\")[0] + \"/ELTeC-fra/\"\n",
    "file_names = [fn.split(IN_DIR)[1] for fn in file_names]"
   ]
  },
  {
   "cell_type": "markdown",
   "metadata": {},
   "source": [
    "# Spacy & TEI"
   ]
  },
  {
   "cell_type": "markdown",
   "metadata": {},
   "source": [
    "## Standoff Converter"
   ]
  },
  {
   "cell_type": "code",
   "execution_count": null,
   "metadata": {},
   "outputs": [],
   "source": [
    "def chunks(l, n):\n",
    "    \"\"\"Yield successive n-sized chunks from l.\"\"\"\n",
    "    for i in range(0, len(l), n):\n",
    "        yield l[i:i + n]\n",
    "from IPython.display import HTML, display\n",
    "import tabulate\n",
    "\n",
    "display(HTML(tabulate.tabulate(chunks(sorted(file_names, key=lambda x: x.split(\"_\")[1]), 6), tablefmt='html')))"
   ]
  },
  {
   "cell_type": "code",
   "execution_count": null,
   "metadata": {
    "scrolled": false
   },
   "outputs": [],
   "source": [
    "CHOSEN_XMLS = [\n",
    "    \"FRA0037_Erckmann.xml\",\n",
    "    \"FRA0027_Erckmann.xml\",\n",
    "    \"FRA0038_Erckmann.xml\"\n",
    "]\n",
    "\n",
    "standoffs = []\n",
    "\n",
    "for fn in tqdm(CHOSEN_XMLS):\n",
    "    tree = etree.fromstring(open(path.join(IN_DIR, fn), \"rb\").read())\n",
    "    so = standoffconverter.Standoff()\n",
    "    so.from_lxml_tree(tree)\n",
    "    standoffs.append(so)\n"
   ]
  },
  {
   "cell_type": "code",
   "execution_count": null,
   "metadata": {},
   "outputs": [],
   "source": [
    "nlp = spacy.load(\"fr_core_news_sm\")\n",
    "nlp.max_length = max(map(lambda so: len(so.plain), standoffs))"
   ]
  },
  {
   "cell_type": "markdown",
   "metadata": {},
   "source": [
    "## Adding extensions"
   ]
  },
  {
   "cell_type": "code",
   "execution_count": null,
   "metadata": {},
   "outputs": [],
   "source": [
    "spacy.tokens.Doc.set_extension('author', default=None, force=True)"
   ]
  },
  {
   "cell_type": "code",
   "execution_count": null,
   "metadata": {},
   "outputs": [],
   "source": [
    "docs = []\n",
    "for so in tqdm(standoffs):\n",
    "\n",
    "    doc = nlp(so.plain)\n",
    "        \n",
    "    author_it = list(filter(lambda x: x[\"tag\"] == \"{http://www.tei-c.org/ns/1.0}author\", so.standoffs))\n",
    "    if len(author_it) > 0:\n",
    "        author = author_it[0]\n",
    "        author = so.plain[author[\"begin\"]:author[\"end\"]]\n",
    "    \n",
    "    doc._.set(\"author\", author)\n",
    "    docs.append(doc)"
   ]
  },
  {
   "cell_type": "code",
   "execution_count": null,
   "metadata": {},
   "outputs": [],
   "source": [
    "docs[0]._.author"
   ]
  },
  {
   "cell_type": "markdown",
   "metadata": {},
   "source": [
    "## Automated Markup: NER"
   ]
  },
  {
   "cell_type": "code",
   "execution_count": null,
   "metadata": {},
   "outputs": [],
   "source": [
    "locations = []\n",
    "for idoc, doc in enumerate(docs):\n",
    "    for ent in doc.ents:\n",
    "        if ent.label_ == \"LOC\":\n",
    "            tpl = tuple(t.lemma_ for t in ent if t.pos_ == \"PROPN\")\n",
    "            if len(tpl) == 1:\n",
    "                locations.append({\n",
    "                    \"idoc\": idoc,\n",
    "                    \"start\": ent.start,\n",
    "                    \"end\": ent.end,\n",
    "                    \"query_str\" : tpl[0]\n",
    "                })\n",
    "            elif len(tpl) > 1:\n",
    "                locations.append(\n",
    "                    {\n",
    "                    \"idoc\": idoc,\n",
    "                    \"start\": ent.start,\n",
    "                    \"end\": ent.end,\n",
    "                    \"query_str\" : \" \".join(tpl)\n",
    "                })\n",
    "            else:\n",
    "                pass"
   ]
  },
  {
   "cell_type": "code",
   "execution_count": null,
   "metadata": {},
   "outputs": [],
   "source": [
    "locations = pd.DataFrame(locations)\n",
    "locations = locations[[\"idoc\", \"start\", \"end\", \"query_str\"]]\n",
    "locations\n",
    "\n",
    "cnt = Counter(locations.query_str)"
   ]
  },
  {
   "cell_type": "markdown",
   "metadata": {},
   "source": [
    "## Enriching entity with Geo data"
   ]
  },
  {
   "cell_type": "code",
   "execution_count": null,
   "metadata": {
    "scrolled": false
   },
   "outputs": [],
   "source": [
    "locations[\"country\"] = None\n",
    "cnt_iso_a3 = {}\n",
    "for k,v in tqdm(cnt.most_common(10)):\n",
    "    iso_k = geo_helper.get_iso_a3_of_str(k)\n",
    "    if iso_k not in cnt_iso_a3:\n",
    "        cnt_iso_a3[iso_k] = 0\n",
    "    cnt_iso_a3[iso_k] += v\n",
    "    locations.loc[locations.query_str==k, \"country\"] = iso_k"
   ]
  },
  {
   "cell_type": "code",
   "execution_count": null,
   "metadata": {},
   "outputs": [],
   "source": [
    "locations[~locations.country.isnull()].sample(10)"
   ]
  },
  {
   "cell_type": "code",
   "execution_count": null,
   "metadata": {},
   "outputs": [],
   "source": [
    "if None in cnt_iso_a3:\n",
    "    del cnt_iso_a3[None]\n",
    "labels,values = zip(*cnt_iso_a3.items())\n",
    "labels = np.array(labels)\n",
    "values = np.array(values)\n",
    "sorter = np.argsort(values)[::-1]\n",
    "labels = labels[sorter][:15]\n",
    "values = values[sorter][:15]\n",
    "\n",
    "plt.figure(figsize=[10,8])\n",
    "plt.title(\"Number of mentions of places grouped by country of destination.\")\n",
    "plt.bar(range(len(values)),values)\n",
    "plt.ylabel(\"# mentions\")\n",
    "_ = plt.xticks(range(len(values)), [iso3166.countries.get(l).name for l in labels], rotation=90)"
   ]
  },
  {
   "cell_type": "code",
   "execution_count": null,
   "metadata": {},
   "outputs": [],
   "source": [
    "geo_helper.plot_countries(cnt_iso_a3)"
   ]
  },
  {
   "cell_type": "markdown",
   "metadata": {},
   "source": [
    "## Span Level Custom Attributes"
   ]
  },
  {
   "cell_type": "code",
   "execution_count": null,
   "metadata": {},
   "outputs": [],
   "source": [
    "spacy.tokens.Span.set_extension(\n",
    "    'country_of_entity',\n",
    "    default=None,\n",
    "    force=True\n",
    ")\n",
    "\n",
    "locations = pd.DataFrame(locations)\n",
    "\n",
    "for idoc,doc in enumerate(docs):\n",
    "    clocations = locations[np.logical_and(\n",
    "        ~locations.country.isnull(),\n",
    "        locations.idoc == idoc\n",
    "    )]\n",
    "    so = standoffs[idoc]\n",
    "    so.add_spacy_annotations(\n",
    "        doc,\n",
    "        clocations.start.tolist(),\n",
    "        [\"location\"]*len(clocations),\n",
    "        [{\"iso_a3\":a3} for a3 in clocations.country]\n",
    "    )\n",
    "    \n",
    "    for _, loc in locations[locations.idoc == idoc].iterrows():\n",
    "        doc[loc.start:loc.end]._.country_of_entity = loc.country\n",
    "        \n",
    "        "
   ]
  },
  {
   "cell_type": "code",
   "execution_count": null,
   "metadata": {},
   "outputs": [],
   "source": [
    "str_ = so.to_xml()"
   ]
  },
  {
   "cell_type": "code",
   "execution_count": null,
   "metadata": {
    "scrolled": false
   },
   "outputs": [],
   "source": [
    "print(str_[:10000])"
   ]
  },
  {
   "cell_type": "code",
   "execution_count": null,
   "metadata": {},
   "outputs": [],
   "source": []
  }
 ],
 "metadata": {
  "kernelspec": {
   "display_name": "Python 3",
   "language": "python",
   "name": "python3"
  },
  "language_info": {
   "codemirror_mode": {
    "name": "ipython",
    "version": 3
   },
   "file_extension": ".py",
   "mimetype": "text/x-python",
   "name": "python",
   "nbconvert_exporter": "python",
   "pygments_lexer": "ipython3",
   "version": "3.7.3"
  }
 },
 "nbformat": 4,
 "nbformat_minor": 2
}
