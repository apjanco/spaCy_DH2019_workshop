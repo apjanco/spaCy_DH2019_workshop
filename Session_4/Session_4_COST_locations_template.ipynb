{
 "cells": [
  {
   "cell_type": "code",
   "execution_count": null,
   "metadata": {},
   "outputs": [],
   "source": [
    "%load_ext autoreload\n",
    "%autoreload 2\n",
    "\n",
    "from os import path, listdir\n",
    "import urllib.request\n",
    "import json\n",
    "from collections import Counter\n",
    "import copy\n",
    "\n",
    "from tqdm import tqdm_notebook as tqdm\n",
    "\n",
    "import spacy\n",
    "\n",
    "import standoffconverter\n",
    "import geo_helper\n",
    "import iso3166\n",
    "\n",
    "import numpy as np\n",
    "import pandas as pd\n",
    "import matplotlib.pyplot as plt\n",
    "\n",
    "from lxml import etree\n",
    "\n",
    "import ELTeC_dataloader"
   ]
  },
  {
   "cell_type": "code",
   "execution_count": null,
   "metadata": {},
   "outputs": [],
   "source": [
    "file_names = [fn for fn in ELTeC_dataloader.get_file_descriptors()]\n",
    "\n",
    "IN_DIR = file_names[0].split(\"/ELTeC-fra/\")[0] + \"/ELTeC-fra/\"\n",
    "file_names = [fn.split(IN_DIR)[1] for fn in file_names]"
   ]
  },
  {
   "cell_type": "markdown",
   "metadata": {},
   "source": [
    "# Spacy & TEI"
   ]
  },
  {
   "cell_type": "markdown",
   "metadata": {},
   "source": [
    "## Standoff Converter"
   ]
  },
  {
   "cell_type": "code",
   "execution_count": null,
   "metadata": {},
   "outputs": [],
   "source": [
    "def chunks(l, n):\n",
    "    \"\"\"Yield successive n-sized chunks from l.\"\"\"\n",
    "    for i in range(0, len(l), n):\n",
    "        yield l[i:i + n]\n",
    "from IPython.display import HTML, display\n",
    "import tabulate\n",
    "\n",
    "display(HTML(tabulate.tabulate(chunks(sorted(file_names, key=lambda x: x.split(\"_\")[1]), 6), tablefmt='html')))"
   ]
  },
  {
   "cell_type": "code",
   "execution_count": null,
   "metadata": {
    "scrolled": false
   },
   "outputs": [],
   "source": [
    "#\n",
    "# Choose some files and parse into standoff xml\n",
    "# "
   ]
  },
  {
   "cell_type": "code",
   "execution_count": null,
   "metadata": {},
   "outputs": [],
   "source": [
    "#\n",
    "# load and initialize spacy model\n",
    "#"
   ]
  },
  {
   "cell_type": "code",
   "execution_count": null,
   "metadata": {},
   "outputs": [],
   "source": [
    "# add extension attribute"
   ]
  },
  {
   "cell_type": "code",
   "execution_count": null,
   "metadata": {},
   "outputs": [],
   "source": [
    "#\n",
    "# parse document plain strings into spacy and add our custom attribute\n",
    "#"
   ]
  },
  {
   "cell_type": "code",
   "execution_count": null,
   "metadata": {},
   "outputs": [],
   "source": [
    "#\n",
    "# did it work?\n",
    "#"
   ]
  },
  {
   "cell_type": "markdown",
   "metadata": {},
   "source": [
    "## Automated Markup: NER"
   ]
  },
  {
   "cell_type": "code",
   "execution_count": null,
   "metadata": {},
   "outputs": [],
   "source": [
    "# \n",
    "# identifying location references in the text\n",
    "# "
   ]
  },
  {
   "cell_type": "code",
   "execution_count": null,
   "metadata": {},
   "outputs": [],
   "source": [
    "#\n",
    "# turn locations into a pandas dataframe and into a counter\n",
    "#"
   ]
  },
  {
   "cell_type": "markdown",
   "metadata": {},
   "source": [
    "## Enriching entity with Geo data"
   ]
  },
  {
   "cell_type": "code",
   "execution_count": null,
   "metadata": {
    "scrolled": false
   },
   "outputs": [],
   "source": [
    "#\n",
    "# retrieving country information for each reference\n",
    "#"
   ]
  },
  {
   "cell_type": "code",
   "execution_count": null,
   "metadata": {},
   "outputs": [],
   "source": [
    "#\n",
    "# looking at some results\n",
    "#"
   ]
  },
  {
   "cell_type": "code",
   "execution_count": null,
   "metadata": {},
   "outputs": [],
   "source": [
    "if None in cnt_iso_a3:\n",
    "    del cnt_iso_a3[None]\n",
    "labels,values = zip(*cnt_iso_a3.items())\n",
    "labels = np.array(labels)\n",
    "values = np.array(values)\n",
    "sorter = np.argsort(values)[::-1]\n",
    "labels = labels[sorter][:15]\n",
    "values = values[sorter][:15]\n",
    "\n",
    "plt.figure(figsize=[10,8])\n",
    "plt.title(\"Number of mentions of places grouped by country of destination.\")\n",
    "plt.bar(range(len(values)),values)\n",
    "plt.ylabel(\"# mentions\")\n",
    "_ = plt.xticks(range(len(values)), [iso3166.countries.get(l).name for l in labels], rotation=90)"
   ]
  },
  {
   "cell_type": "code",
   "execution_count": null,
   "metadata": {},
   "outputs": [],
   "source": [
    "geo_helper.plot_countries(cnt_iso_a3)"
   ]
  },
  {
   "cell_type": "markdown",
   "metadata": {},
   "source": [
    "## Span Level Custom Attributes"
   ]
  },
  {
   "cell_type": "code",
   "execution_count": null,
   "metadata": {},
   "outputs": [],
   "source": [
    "#\n",
    "# init span level attribute\n",
    "#\n",
    "\n",
    "locations = pd.DataFrame(locations)\n",
    "\n",
    "for idoc,doc in enumerate(docs):\n",
    "\n",
    "    clocations = locations[np.logical_and(\n",
    "        ~locations.country.isnull(),\n",
    "        locations.idoc == idoc\n",
    "    )]\n",
    "    \n",
    "    #\n",
    "    # adding the country information to the spacy attribute AND to the standoff\n",
    "    #\n",
    "    "
   ]
  },
  {
   "cell_type": "code",
   "execution_count": null,
   "metadata": {},
   "outputs": [],
   "source": [
    "str_ = so.to_xml()"
   ]
  },
  {
   "cell_type": "code",
   "execution_count": null,
   "metadata": {
    "scrolled": false
   },
   "outputs": [],
   "source": [
    "print(str_[:10000])"
   ]
  },
  {
   "cell_type": "code",
   "execution_count": null,
   "metadata": {},
   "outputs": [],
   "source": []
  }
 ],
 "metadata": {
  "kernelspec": {
   "display_name": "Python 3",
   "language": "python",
   "name": "python3"
  },
  "language_info": {
   "codemirror_mode": {
    "name": "ipython",
    "version": 3
   },
   "file_extension": ".py",
   "mimetype": "text/x-python",
   "name": "python",
   "nbconvert_exporter": "python",
   "pygments_lexer": "ipython3",
   "version": "3.7.4"
  }
 },
 "nbformat": 4,
 "nbformat_minor": 2
}
