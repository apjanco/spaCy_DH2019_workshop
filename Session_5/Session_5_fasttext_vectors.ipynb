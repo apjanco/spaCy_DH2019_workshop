{
 "cells": [
  {
   "cell_type": "markdown",
   "metadata": {},
   "source": [
    "##  Fasttext to spaCy word embeddings\n",
    "fasttext provides word vectors for 157 different languages (https://fasttext.cc/docs/en/crawl-vectors.html ). In this example, we show how to load vectors for the dutch model and store it as spacy model.\n",
    "\n",
    "```python\n",
    "path_to_cc_XX_300_vec = \"downloads/cc.nl.300.vec\"\n",
    "\n",
    "try:\n",
    "    nlp = spacy.load(\"fasttext_model_nl\")\n",
    "\n",
    "except OSError:\n",
    "\n",
    "    from spacy.lang.nl import Dutch\n",
    "    nlp = Dutch()\n",
    "\n",
    "    with open(path_to_cc_XX_300_vec, 'rb') as file_:\n",
    "        header = file_.readline()\n",
    "        nr_row, nr_dim = header.split()\n",
    "        nlp.vocab.reset_vectors(width=int(nr_dim))\n",
    "        for line in file_:\n",
    "            line = line.rstrip().decode('utf8')\n",
    "            pieces = line.rsplit(' ', int(nr_dim))\n",
    "            word = pieces[0]\n",
    "            vector = np.asarray([float(v) for v in pieces[1:]], dtype='f')\n",
    "            nlp.vocab.set_vector(word, vector)  # add the vectors to the vocab\n",
    "\n",
    "    nlp.to_disk('fasttext_model_nl')\n",
    "    ```"
   ]
  },
  {
   "cell_type": "code",
   "execution_count": null,
   "metadata": {},
   "outputs": [],
   "source": [
    "import spacy \n",
    "import numpy as np\n",
    "\n",
    "path_to_cc_XX_300_vec = \"downloads/cc.nl.300.vec\"\n",
    "\n",
    "\n",
    "\n",
    "from spacy.lang.nl import Dutch\n",
    "nlp = Dutch()\n",
    "\n",
    "with open(path_to_cc_XX_300_vec, 'rb') as file_:\n",
    "    header = file_.readline()\n",
    "    nr_row, nr_dim = header.split()\n",
    "    nlp.vocab.reset_vectors(width=int(nr_dim))\n",
    "    for line in file_:\n",
    "        line = line.rstrip().decode('utf8')\n",
    "        pieces = line.rsplit(' ', int(nr_dim))\n",
    "        word = pieces[0]\n",
    "        vector = np.asarray([float(v) for v in pieces[1:]], dtype='f')\n",
    "        nlp.vocab.set_vector(word, vector)  # add the vectors to the vocab\n",
    "\n",
    "nlp.to_disk('fasttext_model_nl')"
   ]
  },
  {
   "cell_type": "markdown",
   "metadata": {},
   "source": [
    "**Guide:** [Word Vectors and Semantic Similarity](https://spacy.io/usage/vectors-similarity)"
   ]
  },
  {
   "cell_type": "code",
   "execution_count": null,
   "metadata": {},
   "outputs": [],
   "source": [
    "nlp = spacy.load('fasttext_model_nl')\n",
    "doc = nlp('Blijf jezelf; alle anderen zijn al bezet.')\n",
    "for token in doc:\n",
    "    print(token.text, token.has_vector, token.vector_norm, token.is_oov)"
   ]
  },
  {
   "cell_type": "code",
   "execution_count": null,
   "metadata": {},
   "outputs": [],
   "source": [
    "def most_similar(word):\n",
    "    by_similarity = sorted(word.vocab, key=lambda w: word.similarity(w), reverse=True)\n",
    "    return [w.orth_ for w in by_similarity[:10]]\n",
    "\n",
    "most_similar(nlp.vocab['alle'])\n"
   ]
  },
  {
   "cell_type": "code",
   "execution_count": null,
   "metadata": {},
   "outputs": [],
   "source": [
    "import plotly.graph_objects as go\n",
    "\n",
    "x = []\n",
    "y = []\n",
    "\n",
    "for token in doc:\n",
    "    x.append(token.vector_norm)\n",
    "    y.append(token.text)\n",
    "    \n",
    "fig = go.Figure(data=go.Scatter(\n",
    "    x=x,\n",
    "    y=y,\n",
    "    mode='markers',\n",
    "))\n",
    "\n",
    "fig.show()"
   ]
  },
  {
   "cell_type": "code",
   "execution_count": null,
   "metadata": {},
   "outputs": [],
   "source": [
    "doc1 = nlp(\"Doe maar Normaal, dan doe je al gek genoeg\")\n",
    "doc2 = nlp(\"Nu komt de aap uit de mouw \")\n",
    "doc1.similarity(doc2)"
   ]
  },
  {
   "cell_type": "markdown",
   "metadata": {},
   "source": [
    "## Multilingual word embeddings \n",
    "[MUSE (Multilingual Unsupervised and Supervised Embeddings)](https://github.com/facebookresearch/MUSE)\n",
    "![](https://github.com/facebookresearch/MUSE/raw/master/outline_all.png)"
   ]
  },
  {
   "cell_type": "code",
   "execution_count": null,
   "metadata": {},
   "outputs": [],
   "source": []
  }
 ],
 "metadata": {
  "kernelspec": {
   "display_name": "Python 3",
   "language": "python",
   "name": "python3"
  },
  "language_info": {
   "codemirror_mode": {
    "name": "ipython",
    "version": 3
   },
   "file_extension": ".py",
   "mimetype": "text/x-python",
   "name": "python",
   "nbconvert_exporter": "python",
   "pygments_lexer": "ipython3",
   "version": "3.7.3"
  }
 },
 "nbformat": 4,
 "nbformat_minor": 2
}
