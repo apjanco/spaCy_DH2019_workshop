{
 "cells": [
  {
   "cell_type": "markdown",
   "metadata": {},
   "source": [
    "![](top.png)\n",
    "\n",
    "---\n",
    "\n",
    "[Prodigy Documentation](https://spacy.apjan.co/docs/)\n",
    "\n",
    "Basic NER with pre-trained spaCy models ([source](https://towardsdatascience.com/named-entity-recognition-with-nltk-and-spacy-8c4a7d88e7da))"
   ]
  },
  {
   "cell_type": "code",
   "execution_count": 1,
   "metadata": {},
   "outputs": [
    {
     "data": {
      "text/html": [
       "<div class=\"entities\" style=\"line-height: 2.5; direction: ltr\">The COST Action Distant Reading for European Literary History is issuing a Call for Applications for its third Training School, hosted by \n",
       "<mark class=\"entity\" style=\"background: #7aecec; padding: 0.45em 0.6em; margin: 0 0.25em; line-height: 1; border-radius: 0.35em; box-decoration-break: clone; -webkit-box-decoration-break: clone\">\n",
       "    the Centre for Digital Humanities – Eötvös Loránd University\n",
       "    <span style=\"font-size: 0.8em; font-weight: bold; line-height: 1; border-radius: 0.35em; text-transform: uppercase; vertical-align: middle; margin-left: 0.5rem\">ORG</span>\n",
       "</mark>\n",
       " in \n",
       "<mark class=\"entity\" style=\"background: #feca74; padding: 0.45em 0.6em; margin: 0 0.25em; line-height: 1; border-radius: 0.35em; box-decoration-break: clone; -webkit-box-decoration-break: clone\">\n",
       "    Budapest\n",
       "    <span style=\"font-size: 0.8em; font-weight: bold; line-height: 1; border-radius: 0.35em; text-transform: uppercase; vertical-align: middle; margin-left: 0.5rem\">GPE</span>\n",
       "</mark>\n",
       " from \n",
       "<mark class=\"entity\" style=\"background: #bfe1d9; padding: 0.45em 0.6em; margin: 0 0.25em; line-height: 1; border-radius: 0.35em; box-decoration-break: clone; -webkit-box-decoration-break: clone\">\n",
       "    September 23 to 25\n",
       "    <span style=\"font-size: 0.8em; font-weight: bold; line-height: 1; border-radius: 0.35em; text-transform: uppercase; vertical-align: middle; margin-left: 0.5rem\">DATE</span>\n",
       "</mark>\n",
       ", and co-located with the DH_Budapest 2019 conference \n",
       "</div>"
      ],
      "text/plain": [
       "<IPython.core.display.HTML object>"
      ]
     },
     "metadata": {},
     "output_type": "display_data"
    }
   ],
   "source": [
    "import os \n",
    "import pickle\n",
    "import spacy\n",
    "from spacy import displacy\n",
    "from collections import Counter\n",
    "import en_core_web_sm\n",
    "\n",
    "nlp = en_core_web_sm.load()\n",
    "spec = {\"tei\":\"http://www.tei-c.org/ns/1.0\"}\n",
    "\n",
    "doc = nlp(\n",
    "    \"\"\"The COST Action Distant Reading for European Literary History is issuing a Call for Applications for its third Training School, hosted by the Centre for Digital Humanities – Eötvös Loránd University in Budapest from September 23 to 25, and co-located with the DH_Budapest 2019 conference \n",
    "\"\"\"\n",
    ")\n",
    "displacy.render(doc, style=\"ent\")"
   ]
  },
  {
   "cell_type": "markdown",
   "metadata": {},
   "source": [
    "> Here is a [simple web app](https://explosion.ai/demos/displacy-ent) that you can use to quickly evaluate how useful an existing model would be for your current text or project.  For many languages, there are several possible [models](https://spacy.io/usage/models#languages).  This tool can be used to evaluate the results from different models.    "
   ]
  },
  {
   "cell_type": "markdown",
   "metadata": {},
   "source": [
    "## Problem:\n",
    "*This works very well for many 20th and 21st century texts.  But what about early modern English?*"
   ]
  },
  {
   "cell_type": "code",
   "execution_count": 2,
   "metadata": {
    "scrolled": true
   },
   "outputs": [
    {
     "data": {
      "text/html": [
       "<div class=\"entities\" style=\"line-height: 2.5; direction: ltr\">ITEM because that the kings most deare \n",
       "<mark class=\"entity\" style=\"background: #aa9cfc; padding: 0.45em 0.6em; margin: 0 0.25em; line-height: 1; border-radius: 0.35em; box-decoration-break: clone; -webkit-box-decoration-break: clone\">\n",
       "    Uncle\n",
       "    <span style=\"font-size: 0.8em; font-weight: bold; line-height: 1; border-radius: 0.35em; text-transform: uppercase; vertical-align: middle; margin-left: 0.5rem\">PERSON</span>\n",
       "</mark>\n",
       ", the king of \n",
       "<mark class=\"entity\" style=\"background: #7aecec; padding: 0.45em 0.6em; margin: 0 0.25em; line-height: 1; border-radius: 0.35em; box-decoration-break: clone; -webkit-box-decoration-break: clone\">\n",
       "    Denmarke\n",
       "    <span style=\"font-size: 0.8em; font-weight: bold; line-height: 1; border-radius: 0.35em; text-transform: uppercase; vertical-align: middle; margin-left: 0.5rem\">ORG</span>\n",
       "</mark>\n",
       ", \n",
       "<mark class=\"entity\" style=\"background: #7aecec; padding: 0.45em 0.6em; margin: 0 0.25em; line-height: 1; border-radius: 0.35em; box-decoration-break: clone; -webkit-box-decoration-break: clone\">\n",
       "    Norway &amp; Sweveland\n",
       "    <span style=\"font-size: 0.8em; font-weight: bold; line-height: 1; border-radius: 0.35em; text-transform: uppercase; vertical-align: middle; margin-left: 0.5rem\">ORG</span>\n",
       "</mark>\n",
       ", as the same our soveraigne Lord the king of his intimation hath understood, considering the manifold &amp; great losses, perils, hurts and damage which have late happened aswell to him and his, as to other foraines and strangers, and also friends and speciall subjects of our said soveraigne Lord the king of his \n",
       "<mark class=\"entity\" style=\"background: #ff9561; padding: 0.45em 0.6em; margin: 0 0.25em; line-height: 1; border-radius: 0.35em; box-decoration-break: clone; -webkit-box-decoration-break: clone\">\n",
       "    Realme of England\n",
       "    <span style=\"font-size: 0.8em; font-weight: bold; line-height: 1; border-radius: 0.35em; text-transform: uppercase; vertical-align: middle; margin-left: 0.5rem\">LOC</span>\n",
       "</mark>\n",
       ", by ye going in, entring &amp; passage of such forain &amp; strange persons into his realme of \n",
       "<mark class=\"entity\" style=\"background: #7aecec; padding: 0.45em 0.6em; margin: 0 0.25em; line-height: 1; border-radius: 0.35em; box-decoration-break: clone; -webkit-box-decoration-break: clone\">\n",
       "    Norwey &amp;\n",
       "    <span style=\"font-size: 0.8em; font-weight: bold; line-height: 1; border-radius: 0.35em; text-transform: uppercase; vertical-align: middle; margin-left: 0.5rem\">ORG</span>\n",
       "</mark>\n",
       " other dominions, streits, territories, jurisdictions &amp; places subdued and subject to him, specially into his \n",
       "<mark class=\"entity\" style=\"background: #7aecec; padding: 0.45em 0.6em; margin: 0 0.25em; line-height: 1; border-radius: 0.35em; box-decoration-break: clone; -webkit-box-decoration-break: clone\">\n",
       "    Iles of Fynmarke\n",
       "    <span style=\"font-size: 0.8em; font-weight: bold; line-height: 1; border-radius: 0.35em; text-transform: uppercase; vertical-align: middle; margin-left: 0.5rem\">ORG</span>\n",
       "</mark>\n",
       ", and elswhere, aswell in their persons as their things and goods</div>"
      ],
      "text/plain": [
       "<IPython.core.display.HTML object>"
      ]
     },
     "metadata": {},
     "output_type": "display_data"
    }
   ],
   "source": [
    "doc = nlp(\n",
    "    \"ITEM because that the kings most deare Uncle, the king of Denmarke, Norway & Sweveland, as the same our soveraigne Lord the king of his intimation hath understood, considering the manifold & great losses, perils, hurts and damage which have late happened aswell to him and his, as to other foraines and strangers, and also friends and speciall subjects of our said soveraigne Lord the king of his Realme of England, by ye going in, entring & passage of such forain & strange persons into his realme of Norwey & other dominions, streits, territories, jurisdictions & places subdued and subject to him, specially into his Iles of Fynmarke, and elswhere, aswell in their persons as their things and goods\"\n",
    ")\n",
    "displacy.render(doc, style=\"ent\")"
   ]
  },
  {
   "cell_type": "markdown",
   "metadata": {},
   "source": [
    "## Introduction to ✨Prodigy\n",
    "\n",
    "Prodigy is an annotation tool for active machine teaching.  Prodigy makes it possible to quickly experiment and improve models with relatively little data, time and typically only one annotator.  Prodigy will sort a model's results by certainty, and ask for human input where the results are most ambiguous. Prodigy stores these annotations and uses them to update the model.  Machine teaching can be used to: \n",
    "\n",
    "- improve an existing model for a specific context or set of documents\n",
    "- add a new entity or category to a text model \n",
    "- custom image categorization and object recognition\n",
    "\n",
    "*While spaCy is a free and open-source library, Prodigy is a commercial product that requires a license. Researchers at degree-granting academic institutions can obtain a free research license [here](https://prodi.gy/forms/research-license).*"
   ]
  },
  {
   "cell_type": "markdown",
   "metadata": {},
   "source": [
    "### In this example, our goal is to teach an existing English-language model to identify early modern place names.\n",
    "\n",
    "There are several approaches that we could take to this problem.  Different approaches can lend better or worse results and experimentation is an essential part of any machine learning project. \n",
    "\n",
    "### How can we teach a statistical language model that Sweveland is a place?\n",
    "\n"
   ]
  },
  {
   "cell_type": "markdown",
   "metadata": {},
   "source": [
    "**Manual annotation**\n",
    "\n",
    "Some researchers may prefer to add seed annotations using the `ner.manual` recipe. For certain personalities, myself included, this is actually kind of fun and a good way to think about the text and the goals of your experiment.  We'll discuss how Prodigy can be used as a manual annotation tool near the end of this session.\n",
    "\n",
    "If you only have a few seed terms you can also add them as an argument with `ner.teach en_core_web_lg ... --seeds \"digital,humanities,utrecht,netherlands,spacy,workshop\"`[(source)](https://support.prodi.gy/t/train-a-new-ner-entity-with-multi-word-tokens/227/3) \n",
    "\n",
    "In our current case, we're going to provide as many examples of place names as possible.  Note that with spaCy, we are working with place names as [patterns](https://spacy.apjan.co/docs/#match-patterns) so the model can learn that place names often have several parts.  \n",
    "\n",
    "**Seed term patterns** \n",
    "\n",
    "We're going to give the model as many examples of historic place names as we can to get the learning process started. To do this, I have chosen to mine a text that has already been markedup in TEI with early modern place names and is available from the Perseus Project.  We're going to use Richard Hakluyt's [*The Principal Navigations, Voyages, Traffiques, and Discoveries of the English Nation* (1599)](http://www.perseus.tufts.edu/hopper/text?doc=Perseus%3Atext%3A1999.03.0070%3Anarrative%3D1).  I have chosen an English-language example because we'll be annotating the text in this workshop and English is a working language of DH2019.  However, you can work with texts in [any language](https://spacy.io/usage/adding-languages) even those that do not have an existing spaCy language model ([colonial Zapotec](https://ticha.haverford.edu/) for example!).  \n",
    "\n",
    "\n",
    "\n",
    "\n",
    "**New category or existing?** \n",
    "\n",
    "We will need to choose whether we want to add a new entity to the model (let's call it \"PLACE\") or improve the existing \"GPE\" (Geopolitical entity, i.e. countries, cities, states) for our historic places.  Either one works.  If we improve an existing entity, we retain the existing training and examples. A new entity makes it easier to distinguish between what we have taught the model and previous training.  This can also address potential bias in previous training data.  For that reason, we'll add \"PLACE\" as a new category.     "
   ]
  },
  {
   "cell_type": "markdown",
   "metadata": {},
   "source": [
    "### Download the TEI files from Persius \n",
    "- We're going to extract a list of all the place names from the text to create a patterns JSONL file.\n",
    "- We'll also extract the raw text to create a set of training documents. "
   ]
  },
  {
   "cell_type": "markdown",
   "metadata": {},
   "source": [
    "We are going to download the table of contents and create a list of the 937 segments of the document. We will then get each page, remove the place names (`<name type=\"place\">Utrect</name>`) and add them to a places list."
   ]
  },
  {
   "cell_type": "code",
   "execution_count": 3,
   "metadata": {},
   "outputs": [
    {
     "name": "stdout",
     "output_type": "stream",
     "text": [
      "pickles loaded\n"
     ]
    }
   ],
   "source": [
    "from urllib.request import urlopen\n",
    "from lxml import etree\n",
    "\n",
    "def tei_loader(url):\n",
    "    tei = urlopen(url).read()\n",
    "    return etree.XML(tei)\n",
    "\n",
    "table_of_contents_url = \"http://www.perseus.tufts.edu/hopper/xmltoc?doc=Perseus%3Atext%3A1999.03.0070%3Anarrative%3D1\"\n",
    "table_of_contents_xml = tei_loader(table_of_contents_url)\n",
    "\n",
    "if not os.path.exists('refs.pickle'):\n",
    "    chunks = table_of_contents_xml.xpath(\"//chunk[@ref]\")\n",
    "    refs = [chunk.get('ref') for chunk in chunks] \n",
    "    # an example ref 'Perseus%3Atext%3A1999.03.0070%3Anarrative%3D6'\n",
    "\n",
    "\n",
    "    places = []\n",
    "\n",
    "    for ref in refs:\n",
    "\n",
    "        url = 'http://www.perseus.tufts.edu/hopper/xmlchunk?doc=' + ref\n",
    "        try:\n",
    "            tei = tei_loader(url)\n",
    "\n",
    "            #get all <name type='place'> tags\n",
    "            for place in tei.findall(\".//name[@type='place']\", namespaces=spec):\n",
    "                places.append(place.text.replace('\\n',''))\n",
    "        except Exception as e:\n",
    "            print(e)\n",
    "            \n",
    "    pickle.dump(places, open('places.pickle', 'wb'))\n",
    "    pickle.dump(refs, open('refs.pickle', 'wb'))\n",
    "\n",
    "else:\n",
    "    places = pickle.load(open('places.pickle', 'rb'))\n",
    "    refs = pickle.load(open('refs.pickle', 'rb'))\n",
    "    print('pickles loaded')\n"
   ]
  },
  {
   "cell_type": "code",
   "execution_count": 4,
   "metadata": {
    "scrolled": true
   },
   "outputs": [
    {
     "name": "stdout",
     "output_type": "stream",
     "text": [
      "number of documents:  937\n",
      "number of places found:  2279\n"
     ]
    },
    {
     "data": {
      "text/plain": [
       "'York'"
      ]
     },
     "execution_count": 4,
     "metadata": {},
     "output_type": "execute_result"
    }
   ],
   "source": [
    "print('number of documents: ', len(refs))\n",
    "print('number of places found: ', len(set(places)))\n",
    "places[9]"
   ]
  },
  {
   "cell_type": "markdown",
   "metadata": {},
   "source": [
    "### Create a patterns.jsonl file with seed terms.  \n",
    "These terms provide examples that the model can use to learn the new category. It is good to use as many terms as are practical; preferably several hundred. Further examples of patterns files can be found [here](https://github.com/explosion/prodigy-recipes/tree/master/example-patterns). There is a very helpful tool for creating patterns that are relevant to your projects and texts [here](https://explosion.ai/demos/matcher).\n"
   ]
  },
  {
   "cell_type": "code",
   "execution_count": 5,
   "metadata": {},
   "outputs": [],
   "source": [
    "import json\n",
    "new_label = 'PLACE'\n",
    "\n",
    "if not os.path.exists('patterns.jsonl'):\n",
    "    with open('patterns.jsonl','w') as f:\n",
    "        for place in set(places):   # A set is used here to remove duplicate place names\n",
    "            \n",
    "            row = {}\n",
    "                \n",
    "            row['label'] = new_label\n",
    "            row['pattern'] = []\n",
    "            for token in place.split():\n",
    "                pattern = {}\n",
    "                pattern['lower'] = token.lower()\n",
    "                row['pattern'].append(pattern)\n",
    "        \n",
    "            f.write(str(json.dumps(row) +'\\n')) \n",
    "            \n",
    "        '''Polite intervention:  \n",
    "        Sweveland is not in our list of historic and beautiful places, but is essential to the narrative of this notebook.\n",
    "        To correct this error, the line below has been added, with appologies to our colleagues from Sweveland'''\n",
    "        row = {\"label\": \"PLACE\", \"pattern\": [{\"lower\": \"sweveland\"}]}\n",
    "        f.write(json.dumps(row))"
   ]
  },
  {
   "cell_type": "code",
   "execution_count": 6,
   "metadata": {
    "scrolled": false
   },
   "outputs": [
    {
     "name": "stdout",
     "output_type": "stream",
     "text": [
      "{\"label\": \"PLACE\", \"pattern\": [{\"lower\": \"wardhouse\"}]}\n",
      "{\"label\": \"PLACE\", \"pattern\": [{\"lower\": \"sea\"}, {\"lower\": \"southwest\"}]}\n",
      "{\"label\": \"PLACE\", \"pattern\": [{\"lower\": \"silauria\"}]}\n",
      "\n"
     ]
    }
   ],
   "source": [
    "with open('patterns.jsonl','r') as f:\n",
    "    print(f.read()[:185])"
   ]
  },
  {
   "cell_type": "code",
   "execution_count": 7,
   "metadata": {},
   "outputs": [
    {
     "name": "stdout",
     "output_type": "stream",
     "text": [
      "The file already exists. This process takes several minutes. To re-run, change process_anew to True. You can also adjust the percentage of the corpus to be gathered.\n"
     ]
    }
   ],
   "source": [
    "#Now to extract the full text\n",
    "percent_of_texts_to_process = 0.05 \n",
    "'''We are only using a tiny portion of the text for annotation.  \n",
    "Unlike many machine learning tasks, in this case, more text data for annotations does not necessarily\n",
    "improve learning. More text will dramatically increase Prodigy's memory usage, so keep that in mind.'''\n",
    "\n",
    "end_index = int(len(refs) * percent_of_texts_to_process)\n",
    "\n",
    "if os.path.exists(\"principal_navigations.txt\"):\n",
    "    print(\n",
    "        \"The file already exists. This process takes several minutes. To re-run, change process_anew to True. You can also adjust the percentage of the corpus to be gathered.\"\n",
    "    )\n",
    "    \n",
    "process_anew = False\n",
    "if process_anew:\n",
    "    txts = []\n",
    "    for ref in refs[:end_index]:\n",
    "\n",
    "        url = 'http://www.perseus.tufts.edu/hopper/xmlchunk?doc=' + ref\n",
    "        try:\n",
    "            tei = tei_loader(url)\n",
    "\n",
    "            new_txt = []\n",
    "            for body in tei.iter('body'):\n",
    "                new_txt.append(''.join(body.itertext()).strip().replace('\\n',''))\n",
    "                txts.append(''.join(new_txt))\n",
    "\n",
    "        except Exception as e:\n",
    "            print(e)\n",
    "            \n",
    "\n",
    "    full_text = [\n",
    "        txt.replace(\"        \", \" \").replace(\"   \", \" \").replace(\"  \", \" \")\n",
    "        for txt in txts\n",
    "    ]\n",
    "    \n",
    "    with open('principal_navigations.txt','w') as f:\n",
    "        f.write(str(full_text))"
   ]
  },
  {
   "cell_type": "code",
   "execution_count": 8,
   "metadata": {},
   "outputs": [
    {
     "name": "stdout",
     "output_type": "stream",
     "text": [
      "['A branch of a Statute made in the eight yeere of Henry the sixt, for the trade to Norwey, Sweveland, Den marke, and Fynmarke. ITEM because that the kings most deare Uncle, the kingof Denmarke, Norway & Sweveland, as the same oursoveraigne Lord the king of his intimation hath understood, considering the manifold & great losses, perils,hurts and damage which have late happened aswell tohim and his, as to other foraines and strangers, and alsofriends and speciall subjects of our said soveraigne Lordthe king of his Realme of England, by ye going in,entring & passage of such forain & strange pers\n"
     ]
    }
   ],
   "source": [
    "with open('principal_navigations.txt','r') as f: \n",
    "    print(f.read()[:600])\n",
    "    "
   ]
  },
  {
   "cell_type": "markdown",
   "metadata": {},
   "source": [
    "## With patterns and text files created, we can now work with ✨Prodigy!"
   ]
  },
  {
   "cell_type": "markdown",
   "metadata": {},
   "source": [
    "The `dataset` command will create a database table to save your annotations. The default is sqlite, but you can connect to [MySQL or postgres](https://spacy.apjan.co/docs/#database-setup)"
   ]
  },
  {
   "cell_type": "code",
   "execution_count": 9,
   "metadata": {
    "scrolled": true
   },
   "outputs": [
    {
     "name": "stdout",
     "output_type": "stream",
     "text": [
      "\r\n",
      "  ✨  \u001b[38;5;197mERROR:\u001b[0m 'DH-Budapest' already exists in database SQLite.\r\n",
      "\r\n"
     ]
    }
   ],
   "source": [
    "!prodigy dataset DH-Budapest \"A dataset for British historic places\" --author Andy"
   ]
  },
  {
   "cell_type": "markdown",
   "metadata": {},
   "source": [
    "If you'd like to delete a dataset:   \n",
    "\n",
    "`prodigy drop historic_places`\n",
    "\n"
   ]
  },
  {
   "cell_type": "markdown",
   "metadata": {},
   "source": [
    "## A. Plain text to TEI. \n"
   ]
  },
  {
   "cell_type": "markdown",
   "metadata": {},
   "source": [
    "To start the annotation application for a named entity recognition task, we use the `ner.teach` recipe. Similar [built-in recipes](https://spacy.apjan.co/docs/#built-in-recipes) are available for: \n",
    "- text categorization (textcat.teach) \n",
    "- part of speech tagging (pos.teach)  \n",
    "- vectors & terminology (terms.teach)\n",
    "- computer vision (image.manual)\n",
    "\n",
    "In the command below, we use the `ner.teach` recipe to annotate the `historic_places` dataset, using the `en_core_web_sm` model to add the new entity `PLACE` after loading the patterns in `patterns.jsonl`.  \n",
    "\n",
    "*Click on the stop button to intterupt the kernel when you're done.*"
   ]
  },
  {
   "cell_type": "code",
   "execution_count": 10,
   "metadata": {
    "scrolled": false
   },
   "outputs": [
    {
     "name": "stdout",
     "output_type": "stream",
     "text": [
      "Using 1 labels: PLACE\n",
      "\n",
      "  ✨  Starting the web server at http://localhost:8080 ...\n",
      "  Open the app in your browser and start annotating!\n",
      "\n",
      "Task queue depth is 1\n",
      "^C\n",
      "\n",
      "Saved 61 annotations to database SQLite\n",
      "Dataset: DH-Budapest\n",
      "Session ID: 2019-10-07_12-01-17\n",
      "\n"
     ]
    }
   ],
   "source": [
    "!prodigy ner.teach DH-Budapest en_core_web_sm principal_navigations.txt --label PLACE --patterns patterns.jsonl"
   ]
  },
  {
   "cell_type": "markdown",
   "metadata": {},
   "source": [
    "Once you have completed adding annotations, the next step is to train the model.  \n",
    "\n",
    "In the command below, we use `ner.batch-train` to use the annotations in the `historic_places` dataset to train the `en_core_web_sm` model on the new entity `PLACE`.  We then save the updated model as `new_model`."
   ]
  },
  {
   "cell_type": "code",
   "execution_count": 11,
   "metadata": {
    "scrolled": true
   },
   "outputs": [
    {
     "name": "stdout",
     "output_type": "stream",
     "text": [
      "Using 1 labels: PLACE\n",
      "\n",
      "Loaded model en_core_web_sm\n",
      "Using 50% of accept/reject examples (10) for evaluation\n",
      "Using 100% of remaining examples (10) for training\n",
      "Dropout: 0.2  Batch size: 4  Iterations: 10  \n",
      "\n",
      "\n",
      "BEFORE      0.000            \n",
      "Correct     \u001b[38;5;77m0\u001b[0m  \n",
      "Incorrect   \u001b[38;5;197m13\u001b[0m\n",
      "Entities    56               \n",
      "Unknown     0                \n",
      "\n",
      "#            LOSS         RIGHT        WRONG        ENTS         SKIP         ACCURACY  \n",
      "01           620.858      0            13           232          0            0.000     \n",
      "02           661.659      1            12           198          0            0.077     \n",
      "03           656.434      1            12           112          0            0.077     \n",
      "04           631.189      0            13           72           0            0.000     \n",
      "05           594.486      0            13           47           0            0.000     \n",
      "06           567.271      0            13           30           0            0.000     \n",
      "07           588.344      1            12           34           0            0.077     \n",
      "08           558.764      2            11           47           0            0.154     \n",
      "09           560.224      3            10           53           0            0.231     \n",
      "10           494.803      3            10           37           0            0.231     \n",
      "\n",
      "Correct     \u001b[38;5;77m3\u001b[0m  \n",
      "Incorrect   \u001b[38;5;197m10\u001b[0m\n",
      "Baseline    0.000            \n",
      "Accuracy    0.231            \n",
      "\n",
      "\n",
      "Model: /home/ajanco/projects/spaCy_workshops/Session_6/new_model\n",
      "Training data: /home/ajanco/projects/spaCy_workshops/Session_6/new_model/training.jsonl\n",
      "Evaluation data: /home/ajanco/projects/spaCy_workshops/Session_6/new_model/evaluation.jsonl\n"
     ]
    }
   ],
   "source": [
    "!prodigy ner.batch-train DH-Budapest en_core_web_sm --label PLACE --output new_model "
   ]
  },
  {
   "cell_type": "markdown",
   "metadata": {},
   "source": [
    "If you think the model would benefit from more training you can run this process again to load and update `new_model`.  You can also add the `--n-iter` argument to specify the number of iterations."
   ]
  },
  {
   "cell_type": "code",
   "execution_count": 13,
   "metadata": {
    "scrolled": false
   },
   "outputs": [
    {
     "name": "stdout",
     "output_type": "stream",
     "text": [
      "Using 1 labels: PLACE\n",
      "\n",
      "Loaded model new_model\n",
      "Using 50% of accept/reject examples (10) for evaluation\n",
      "Using 100% of remaining examples (10) for training\n",
      "Dropout: 0.2  Batch size: 4  Iterations: 120  \n",
      "\n",
      "\n",
      "BEFORE      0.231            \n",
      "Correct     \u001b[38;5;77m3\u001b[0m  \n",
      "Incorrect   \u001b[38;5;197m10\u001b[0m\n",
      "Entities    53               \n",
      "Unknown     48               \n",
      "\n",
      "#            LOSS         RIGHT        WRONG        ENTS         SKIP         ACCURACY  \n",
      "01           273.957      2            11           21           0            0.154     \n",
      "02           175.063      2            11           15           0            0.154     \n",
      "03           113.121      2            11           14           0            0.154     \n",
      "04           120.217      4            9            15           0            0.308     \n",
      "05           145.320      4            9            17           0            0.308     \n",
      "06           139.278      3            10           10           0            0.231     \n",
      "07           132.138      3            10           9            0            0.231     \n",
      "08           69.385       3            10           8            0            0.231     \n",
      "09           60.760       3            10           9            0            0.231     \n",
      "10           62.988       3            10           9            0            0.231     \n",
      "11           57.903       3            10           8            0            0.231     \n",
      "12           60.097       3            10           7            0            0.231     \n",
      "13           58.241       2            11           6            0            0.154     \n",
      "14           92.562       4            9            11           0            0.308     \n",
      "15           88.761       4            9            10           0            0.308     \n",
      "16           100.339      4            9            11           0            0.308     \n",
      "17           136.263      6            7            16           0            0.462     \n",
      "18           79.746       5            8            21           0            0.385     \n",
      "19           91.618       6            7            22           0            0.462     \n",
      "20           78.265       4            9            19           0            0.308     \n",
      "21           38.636       3            10           17           0            0.231     \n",
      "22           46.299       4            9            14           0            0.308     \n",
      "23           67.237       3            10           12           0            0.231     \n",
      "24           87.967       4            9            11           0            0.308     \n",
      "25           58.261       4            9            11           0            0.308     \n",
      "26           47.002       4            9            12           0            0.308     \n",
      "27           50.918       4            9            12           0            0.308     \n",
      "28           95.458       4            9            12           0            0.308     \n",
      "29           58.232       4            9            13           0            0.308     \n",
      "30           97.662       4            9            13           0            0.308     \n",
      "31           83.862       5            8            16           0            0.385     \n",
      "32           47.577       5            8            16           0            0.385     \n",
      "33           55.916       5            8            18           0            0.385     \n",
      "34           63.016       5            8            19           0            0.385     \n",
      "35           76.540       5            8            19           0            0.385     \n",
      "36           88.646       5            8            18           0            0.385     \n",
      "37           119.031      5            8            17           0            0.385     \n",
      "38           88.398       5            8            16           0            0.385     \n",
      "39           67.252       5            8            16           0            0.385     \n",
      "40           83.577       5            8            16           0            0.385     \n",
      "41           94.004       6            7            17           0            0.462     \n",
      "42           95.804       6            7            18           0            0.462     \n",
      "43           63.665       6            7            19           0            0.462     \n",
      "44           116.037      6            7            19           0            0.462     \n",
      "45           87.992       6            7            19           0            0.462     \n",
      "46           62.364       6            7            19           0            0.462     \n",
      "47           68.088       6            7            20           0            0.462     \n",
      "48           66.640       6            7            19           0            0.462     \n",
      "49           46.689       6            7            18           0            0.462     \n",
      "50           54.354       6            7            18           0            0.462     \n",
      "51           75.312       6            7            18           0            0.462     \n",
      "52           38.347       6            7            18           0            0.462     \n",
      "53           85.108       6            7            18           0            0.462     \n",
      "54           39.068       6            7            18           0            0.462     \n",
      "55           82.662       6            7            17           0            0.462     \n",
      "56           62.556       6            7            17           0            0.462     \n",
      "57           75.912       7            6            18           0            0.538     \n",
      "58           110.773      7            6            18           0            0.538     \n",
      "59           99.832       7            6            19           0            0.538     \n",
      "60           52.663       7            6            17           0            0.538     \n",
      "61           85.813       7            6            17           0            0.538     \n",
      "62           35.978       7            6            17           0            0.538     \n",
      "63           47.640       7            6            17           0            0.538     \n",
      "64           65.920       7            6            17           0            0.538     \n",
      "65           40.822       8            5            18           0            0.615     \n",
      "66           49.323       8            5            18           0            0.615     \n",
      "67           64.183       8            5            18           0            0.615     \n",
      "68           61.067       8            5            18           0            0.615     \n",
      "69           35.744       8            5            18           0            0.615     \n",
      "70           69.303       8            5            18           0            0.615     \n",
      "71           78.074       8            5            18           0            0.615     \n",
      "72           70.414       9            4            19           0            0.692     \n",
      "73           68.610       10           3            20           0            0.769     \n",
      "74           60.008       10           3            20           0            0.769     \n",
      "75           67.332       10           3            20           0            0.769     \n",
      "76           88.782       10           3            21           0            0.769     \n",
      "77           37.358       10           3            21           0            0.769     \n",
      "78           57.531       10           3            21           0            0.769     \n",
      "79           28.342       10           3            21           0            0.769     \n",
      "80           61.498       10           3            20           0            0.769     \n",
      "81           42.217       10           3            21           0            0.769     \n",
      "82           78.169       10           3            21           0            0.769     \n",
      "83           100.419      10           3            21           0            0.769     \n",
      "84           58.662       10           3            21           0            0.769     \n",
      "85           115.132      10           3            21           0            0.769     \n",
      "86           59.669       10           3            21           0            0.769     \n",
      "87           48.741       10           3            21           0            0.769     \n",
      "88           39.607       10           3            21           0            0.769     \n",
      "89           71.154       10           3            21           0            0.769     \n",
      "90           77.745       10           3            21           0            0.769     \n",
      "91           86.128       10           3            21           0            0.769     \n",
      "92           31.846       10           3            21           0            0.769     \n",
      "93           46.078       10           3            21           0            0.769     \n",
      "94           56.523       10           3            21           0            0.769     \n",
      "95           58.319       10           3            21           0            0.769     \n",
      "96           82.214       10           3            21           0            0.769     \n",
      "97           78.004       10           3            21           0            0.769     \n",
      "98           46.305       10           3            21           0            0.769     \n",
      "99           47.212       10           3            21           0            0.769     \n",
      "100          50.580       11           2            21           0            0.846     \n",
      "101          26.439       11           2            21           0            0.846     \n",
      "102          23.953       11           2            21           0            0.846     \n",
      "103          65.090       11           2            21           0            0.846     \n",
      "104          57.727       11           2            21           0            0.846     \n",
      "105          31.820       11           2            21           0            0.846     \n",
      "106          40.248       11           2            21           0            0.846     \n",
      "107          35.021       11           2            21           0            0.846     \n",
      "108          34.249       11           2            21           0            0.846     \n",
      "109          49.265       11           2            21           0            0.846     \n",
      "110          42.123       11           2            21           0            0.846     \n",
      "111          68.663       11           2            21           0            0.846     \n",
      "112          33.437       11           2            21           0            0.846     \n",
      "113          47.484       11           2            21           0            0.846     \n",
      "114          26.145       11           2            21           0            0.846     \n",
      "115          59.525       11           2            21           0            0.846     \n",
      "116          70.007       11           2            21           0            0.846     \n",
      "117          74.560       11           2            21           0            0.846     \n",
      "118          61.861       11           2            21           0            0.846     \n",
      "119          53.566       11           2            22           0            0.846     \n",
      "120          37.342       11           2            22           0            0.846     \n",
      "\n",
      "Correct     \u001b[38;5;77m11\u001b[0m\n",
      "Incorrect   \u001b[38;5;197m2\u001b[0m\n",
      "Baseline    0.231           \n",
      "Accuracy    0.846           \n",
      "\n",
      "\n",
      "Model: /home/ajanco/projects/spaCy_workshops/Session_6/new_model\n",
      "Training data: /home/ajanco/projects/spaCy_workshops/Session_6/new_model/training.jsonl\n",
      "Evaluation data: /home/ajanco/projects/spaCy_workshops/Session_6/new_model/evaluation.jsonl\n"
     ]
    }
   ],
   "source": [
    "!prodigy ner.batch-train DH-Budapest new_model --output new_model --label PLACE --n-iter 120"
   ]
  },
  {
   "cell_type": "markdown",
   "metadata": {},
   "source": [
    "Would our model improve with more data?"
   ]
  },
  {
   "cell_type": "code",
   "execution_count": 12,
   "metadata": {},
   "outputs": [
    {
     "name": "stdout",
     "output_type": "stream",
     "text": [
      "Using 1 labels: PLACE\n",
      "\n",
      "Starting with model new_model\n",
      "Dropout: 0.2  Batch size: 32  Iterations: 10  Samples: 4\n",
      "\n",
      "%            RIGHT        WRONG        ACCURACY  \n",
      "25%          1            5            0.17         \u001b[38;5;77m+0.17\u001b[0m         \n",
      "50%          0            6            0.00         \u001b[38;5;197m-0.17\u001b[0m        \n",
      "75%          0            6            0.00         \u001b[38;5;197m+0.00\u001b[0m        \n",
      "100%         0            6            0.00         \u001b[38;5;197m+0.00\u001b[0m        \n"
     ]
    }
   ],
   "source": [
    "!prodigy ner.train-curve DH-Budapest new_model --label PLACE --n-iter 10 --eval-split 0.2 --dropout 0.2  --n-samples 4 "
   ]
  },
  {
   "cell_type": "markdown",
   "metadata": {},
   "source": [
    "To load and see the results of our new model "
   ]
  },
  {
   "cell_type": "code",
   "execution_count": 14,
   "metadata": {
    "scrolled": true
   },
   "outputs": [
    {
     "data": {
      "text/html": [
       "<div class=\"entities\" style=\"line-height: 2.5; direction: ltr\">ITEM because that the kings most deare Uncle, the king of \n",
       "<mark class=\"entity\" style=\"background: #ddd; padding: 0.45em 0.6em; margin: 0 0.25em; line-height: 1; border-radius: 0.35em; box-decoration-break: clone; -webkit-box-decoration-break: clone\">\n",
       "    Denmarke\n",
       "    <span style=\"font-size: 0.8em; font-weight: bold; line-height: 1; border-radius: 0.35em; text-transform: uppercase; vertical-align: middle; margin-left: 0.5rem\">PLACE</span>\n",
       "</mark>\n",
       ", \n",
       "<mark class=\"entity\" style=\"background: #ddd; padding: 0.45em 0.6em; margin: 0 0.25em; line-height: 1; border-radius: 0.35em; box-decoration-break: clone; -webkit-box-decoration-break: clone\">\n",
       "    Norway\n",
       "    <span style=\"font-size: 0.8em; font-weight: bold; line-height: 1; border-radius: 0.35em; text-transform: uppercase; vertical-align: middle; margin-left: 0.5rem\">PLACE</span>\n",
       "</mark>\n",
       " &amp; \n",
       "<mark class=\"entity\" style=\"background: #ddd; padding: 0.45em 0.6em; margin: 0 0.25em; line-height: 1; border-radius: 0.35em; box-decoration-break: clone; -webkit-box-decoration-break: clone\">\n",
       "    Sweveland\n",
       "    <span style=\"font-size: 0.8em; font-weight: bold; line-height: 1; border-radius: 0.35em; text-transform: uppercase; vertical-align: middle; margin-left: 0.5rem\">PLACE</span>\n",
       "</mark>\n",
       ", as the same our soveraigne Lord the king of his intimation hath understood, considering the manifold &amp; great losses, perils, hurts and damage which have late happened aswell to him and his, as to other foraines and strangers, and also friends and speciall subjects of our said soveraigne Lord the king of his \n",
       "<mark class=\"entity\" style=\"background: #ddd; padding: 0.45em 0.6em; margin: 0 0.25em; line-height: 1; border-radius: 0.35em; box-decoration-break: clone; -webkit-box-decoration-break: clone\">\n",
       "    Realme of England\n",
       "    <span style=\"font-size: 0.8em; font-weight: bold; line-height: 1; border-radius: 0.35em; text-transform: uppercase; vertical-align: middle; margin-left: 0.5rem\">PLACE</span>\n",
       "</mark>\n",
       ", by ye going in, entring &amp; passage of such forain &amp; strange persons into his realme of Norwey &amp; other dominions, streits, territories, jurisdictions &amp; places subdued and subject to him, specially into his \n",
       "<mark class=\"entity\" style=\"background: #ddd; padding: 0.45em 0.6em; margin: 0 0.25em; line-height: 1; border-radius: 0.35em; box-decoration-break: clone; -webkit-box-decoration-break: clone\">\n",
       "    Iles of Fynmarke\n",
       "    <span style=\"font-size: 0.8em; font-weight: bold; line-height: 1; border-radius: 0.35em; text-transform: uppercase; vertical-align: middle; margin-left: 0.5rem\">PLACE</span>\n",
       "</mark>\n",
       ", and elswhere, aswell in their persons as their things and goods</div>"
      ],
      "text/plain": [
       "<IPython.core.display.HTML object>"
      ]
     },
     "metadata": {},
     "output_type": "display_data"
    }
   ],
   "source": [
    "import spacy\n",
    "\n",
    "nlp = spacy.load(\"new_model\")\n",
    "doc = nlp(\n",
    "    \"ITEM because that the kings most deare Uncle, the king of Denmarke, Norway & Sweveland, as the same our soveraigne Lord the king of his intimation hath understood, considering the manifold & great losses, perils, hurts and damage which have late happened aswell to him and his, as to other foraines and strangers, and also friends and speciall subjects of our said soveraigne Lord the king of his Realme of England, by ye going in, entring & passage of such forain & strange persons into his realme of Norwey & other dominions, streits, territories, jurisdictions & places subdued and subject to him, specially into his Iles of Fynmarke, and elswhere, aswell in their persons as their things and goods\"\n",
    ")\n",
    "displacy.render(doc, style=\"ent\")"
   ]
  },
  {
   "cell_type": "markdown",
   "metadata": {},
   "source": [
    "That's not too bad.  What about a text that the model has never seen before? Let's try Çelebi Evliya's [Narrative of travels in Europe, Asia, and Africa](https://archive.org/details/narrativeoftrave01evli/page/n4)"
   ]
  },
  {
   "cell_type": "code",
   "execution_count": 15,
   "metadata": {},
   "outputs": [
    {
     "name": "stdout",
     "output_type": "stream",
     "text": [
      "0 of the place entities were in the training data\n"
     ]
    },
    {
     "data": {
      "text/html": [
       "<div class=\"entities\" style=\"line-height: 2.5; direction: ltr\">The army marched from \n",
       "<mark class=\"entity\" style=\"background: #ddd; padding: 0.45em 0.6em; margin: 0 0.25em; line-height: 1; border-radius: 0.35em; box-decoration-break: clone; -webkit-box-decoration-break: clone\">\n",
       "    Konia\n",
       "    <span style=\"font-size: 0.8em; font-weight: bold; line-height: 1; border-radius: 0.35em; text-transform: uppercase; vertical-align: middle; margin-left: 0.5rem\">PLACE</span>\n",
       "</mark>\n",
       " to \n",
       "<mark class=\"entity\" style=\"background: #ddd; padding: 0.45em 0.6em; margin: 0 0.25em; line-height: 1; border-radius: 0.35em; box-decoration-break: clone; -webkit-box-decoration-break: clone\">\n",
       "    Kaiseria\n",
       "    <span style=\"font-size: 0.8em; font-weight: bold; line-height: 1; border-radius: 0.35em; text-transform: uppercase; vertical-align: middle; margin-left: 0.5rem\">PLACE</span>\n",
       "</mark>\n",
       " (\n",
       "<mark class=\"entity\" style=\"background: #ddd; padding: 0.45em 0.6em; margin: 0 0.25em; line-height: 1; border-radius: 0.35em; box-decoration-break: clone; -webkit-box-decoration-break: clone\">\n",
       "    Caesarea\n",
       "    <span style=\"font-size: 0.8em; font-weight: bold; line-height: 1; border-radius: 0.35em; text-transform: uppercase; vertical-align: middle; margin-left: 0.5rem\">PLACE</span>\n",
       "</mark>\n",
       "), and thence to \n",
       "<mark class=\"entity\" style=\"background: #ddd; padding: 0.45em 0.6em; margin: 0 0.25em; line-height: 1; border-radius: 0.35em; box-decoration-break: clone; -webkit-box-decoration-break: clone\">\n",
       "    Sivas\n",
       "    <span style=\"font-size: 0.8em; font-weight: bold; line-height: 1; border-radius: 0.35em; text-transform: uppercase; vertical-align: middle; margin-left: 0.5rem\">PLACE</span>\n",
       "</mark>\n",
       ", where the feast of the \n",
       "<mark class=\"entity\" style=\"background: #ddd; padding: 0.45em 0.6em; margin: 0 0.25em; line-height: 1; border-radius: 0.35em; box-decoration-break: clone; -webkit-box-decoration-break: clone\">\n",
       "    Korbân\n",
       "    <span style=\"font-size: 0.8em; font-weight: bold; line-height: 1; border-radius: 0.35em; text-transform: uppercase; vertical-align: middle; margin-left: 0.5rem\">PLACE</span>\n",
       "</mark>\n",
       " (sacrifice) was celebrated. Here Mustafâ Pâshâ, the emperor's favourite, was promoted to the rank of second vezir, and called into the divân. The army then continued its march to Erzerum. Besides tiie guns provided by the commander-in-chief, there were forty large guns dragged by two thousand pairs of buftaloes. The army entered the castle of \n",
       "<mark class=\"entity\" style=\"background: #ddd; padding: 0.45em 0.6em; margin: 0 0.25em; line-height: 1; border-radius: 0.35em; box-decoration-break: clone; -webkit-box-decoration-break: clone\">\n",
       "    Kazmaghan\n",
       "    <span style=\"font-size: 0.8em; font-weight: bold; line-height: 1; border-radius: 0.35em; text-transform: uppercase; vertical-align: middle; margin-left: 0.5rem\">PLACE</span>\n",
       "</mark>\n",
       ", and halted under the walls of Eriviin in the year 1044 (1634).  \n",
       "</div>"
      ],
      "text/plain": [
       "<IPython.core.display.HTML object>"
      ]
     },
     "metadata": {},
     "output_type": "display_data"
    }
   ],
   "source": [
    "import spacy\n",
    "\n",
    "nlp = spacy.load(\"new_model\")\n",
    "doc = nlp(\n",
    "    \"\"\"The army marched from Konia to Kaiseria (Caesarea), and thence to Sivas, where the feast of the Korbân (sacrifice) was celebrated. Here Mustafâ Pâshâ, the emperor's favourite, was promoted to the rank of second vezir, and called into the divân. The army then continued its march to Erzerum. Besides tiie guns provided by the commander-in-chief, there were forty large guns dragged by two thousand pairs of buftaloes. The army entered the castle of Kazmaghan, and halted under the walls of Eriviin in the year 1044 (1634).  \n",
    "\"\"\"\n",
    ")\n",
    "\n",
    "counter = 0\n",
    "for ent in doc.ents:\n",
    "    if ent.text in places:\n",
    "        print(ent.text, ent.start_char, ent.end_char, ent.label_)\n",
    "        counter += 1\n",
    "\n",
    "print(f\"{counter} of the place entities were in the training data\")\n",
    "displacy.render(doc, style=\"ent\")"
   ]
  },
  {
   "cell_type": "markdown",
   "metadata": {},
   "source": [
    "Mustafâ Pâshâ is a person, but the model has done as passable job. Let's use our model to automatically identify historical place names and produce a markedup TEI document. "
   ]
  },
  {
   "cell_type": "code",
   "execution_count": 16,
   "metadata": {},
   "outputs": [
    {
     "data": {
      "text/plain": [
       "'The army marched from <name type=\"place\">Konia</name> to <name type=\"place\">Kaiseria</name> (<name type=\"place\">Caesarea</name>), and thence to <name type=\"place\">Sivas</name>, where the feast of the <name type=\"place\">Korbân</name> (sacrifice) was celebrated. Here Mustafâ Pâshâ, the emperor \\'s favourite, was promoted to the rank of second vezir, and called into the divân. The army then continued its march to Erzerum. Besides tiie guns provided by the commander - in - chief, there were forty large guns dragged by two thousand pairs of buftaloes. The army entered the castle of <name type=\"place\">Kazmaghan</name>, and halted under the walls of Eriviin in the year 1044 (1634)'"
      ]
     },
     "execution_count": 16,
     "metadata": {},
     "output_type": "execute_result"
    }
   ],
   "source": [
    "text = \"\"\"The army marched from Konia to Kaiseria (Caesarea), and thence to Sivas, where the feast of the Korbân (sacrifice) was celebrated. Here Mustafâ Pâshâ, the emperor's favourite, was promoted to the rank of second vezir, and called into the divân. The army then continued its march to Erzerum. Besides tiie guns provided by the commander-in-chief, there were forty large guns dragged by two thousand pairs of buftaloes. The army entered the castle of Kazmaghan, and halted under the walls of Eriviin in the year 1044 (1634).\"\"\"  \n",
    "\n",
    "import spacy\n",
    "nlp = spacy.load('new_model')\n",
    "doc = nlp(text)\n",
    "text_list = [i.text for i in doc]\n",
    "\n",
    "for token in doc:\n",
    "    if token.ent_type_ == 'PLACE': \n",
    "        text_list[token.i] = '<name type=\"place\">' + text_list[token.i] + '</name>'\n",
    "\n",
    "punct = ['.',\"'\",',',')',':',';']\n",
    "\n",
    "text=''\n",
    "for i, token in enumerate(text_list):\n",
    "    try:\n",
    "        if text_list[i+1] in punct:\n",
    "            text += token\n",
    "\n",
    "        else: \n",
    "            text += token + ' '\n",
    "        \n",
    "    except IndexError:\n",
    "        pass\n",
    "   \n",
    "    \n",
    "text.replace('\\n','').replace('( ','(')"
   ]
  },
  {
   "cell_type": "code",
   "execution_count": 17,
   "metadata": {},
   "outputs": [],
   "source": [
    "# save text as tei \n",
    "filename = 'my_tei.xml'\n",
    "language = 'en'\n",
    "\n",
    "tei_string = f\"\"\"\n",
    "<TEI.2>\n",
    "  <text lang=\"{language}\">\n",
    "    <body>\n",
    "        <p>\n",
    "            {text}\n",
    "        </p>\n",
    "    </body>\n",
    "  </text>\n",
    "</TEI.2>\n",
    "\"\"\"\n",
    "doc = etree.fromstring(tei_string)\n",
    "tree = etree.ElementTree(doc)\n",
    "tree.write(f'{filename}', pretty_print=True, xml_declaration=False,   encoding=\"utf-8\")\n"
   ]
  },
  {
   "cell_type": "code",
   "execution_count": 18,
   "metadata": {},
   "outputs": [
    {
     "name": "stdout",
     "output_type": "stream",
     "text": [
      "<TEI.2>\n",
      "  <text lang=\"en\">\n",
      "    <body>\n",
      "        <p>\n",
      "            The army marched from <name type=\"place\">Konia</name> to <name type=\"place\">Kaiseria</name> ( <name type=\"place\">Caesarea</name>), and thence to <name type=\"place\">Sivas</name>, where the feast of the <name type=\"place\">Korbân</name> ( sacrifice) was celebrated. Here Mustafâ Pâshâ, the emperor 's favourite, was promoted to the rank of second vezir, and called into the divân. The army then continued its march to Erzerum. Besides tiie guns provided by the commander - in - chief, there were forty large guns dragged by two thousand pairs of buftaloes. The army entered the castle of <name type=\"place\">Kazmaghan</name>, and halted under the walls of Eriviin in the year 1044 ( 1634)\n",
      "        </p>\n",
      "    </body>\n",
      "  </text>\n",
      "</TEI.2>\n",
      "\n"
     ]
    }
   ],
   "source": [
    "with open('my_tei.xml','r') as f:\n",
    "    print(f.read())"
   ]
  },
  {
   "cell_type": "markdown",
   "metadata": {},
   "source": [
    "### B. TEI to TEI\n"
   ]
  },
  {
   "cell_type": "code",
   "execution_count": null,
   "metadata": {},
   "outputs": [],
   "source": [
    "!prodigy dataset tei_to_tei \"A dataset for British historic places for the TEI to TEI section\" --author Andy"
   ]
  },
  {
   "cell_type": "markdown",
   "metadata": {},
   "source": [
    "The cell below uses David Lassner's [standoff converter](https://github.com/millawell/standoffconverter).  The tree_to_standoff() function returns a tuple with the plain text at index 0, a list of dictionaries for each xml tag at 1. Each tag contains the 'begin' and 'end' index in the text, the 'tag' as well as a dictionary of attributes ['attrib'] and ['depth'] \n",
    "\n",
    "```json\n",
    "[{'begin': 0, 'tag': 'TEI.2', 'attrib': {}, 'depth': 0, 'end': 51499},  ... ]\n",
    "```"
   ]
  },
  {
   "cell_type": "code",
   "execution_count": null,
   "metadata": {},
   "outputs": [],
   "source": [
    "import json\n",
    "import srsly   #https://pypi.org/project/srsly/\n",
    "import standoffconverter\n",
    "\n",
    "url = 'http://www.perseus.tufts.edu/hopper/xmlchunk?doc=' + refs[2]\n",
    "print(url)\n",
    "\n",
    "tei = urlopen(url).read()\n",
    "tei = etree.XML(tei)\n",
    "\n",
    "jsonl = {}\n",
    "standoff = standoffconverter.tree_to_standoff(tei)\n",
    "jsonl[\"text\"] = standoff[0]\n",
    "with open('my_tei.jsonl', 'w') as outfile:  \n",
    "    json.dump(jsonl, outfile)\n",
    "\n",
    "show = False \n",
    "if show:\n",
    "    with open('my_tei.jsonl','r') as fr:\n",
    "            jsonl = fr.read()\n",
    "            print(json.loads(jsonl)['text'])\n",
    "    "
   ]
  },
  {
   "cell_type": "code",
   "execution_count": null,
   "metadata": {},
   "outputs": [],
   "source": [
    "!prodigy ner.teach tei_to_tei en_core_web_sm my_tei.jsonl --patterns patterns.jsonl"
   ]
  },
  {
   "cell_type": "code",
   "execution_count": null,
   "metadata": {},
   "outputs": [],
   "source": [
    "import json\n",
    "import standoffconverter\n",
    "\n",
    "url = 'http://www.perseus.tufts.edu/hopper/xmlchunk?doc=' + refs[1]\n",
    "print(url)\n",
    "\n",
    "tei = urlopen(url).read()\n",
    "\n",
    "tree = etree.XML(tei)\n",
    "\n",
    "standoff = standoffconverter.Standoff()\n",
    "\n",
    "standoff.from_lxml_tree(tree)\n",
    "\n",
    "jsonl = {}\n",
    "\n",
    "text = standoff.plain\n",
    "nlp = spacy.load('new_model')\n",
    "doc = nlp(text)\n",
    "\n",
    "for ent in doc.ents:\n",
    "\n",
    "    new_tag = {}\n",
    "    new_tag['begin'] = ent.start_char\n",
    "    new_tag['end'] = ent.end_char\n",
    "    new_tag['tag'] = ent.label_  # change PERSON to a valid TEI label\n",
    "    new_tag['attrib'] = {}\n",
    "    new_tag['depth'] = 0\n",
    "    standoff.standoffs.append(new_tag)\n",
    "\n",
    "    \n",
    "new = standoff.to_xml()\n",
    "new"
   ]
  },
  {
   "cell_type": "markdown",
   "metadata": {},
   "source": [
    "## Prodigy as a manual annotation tool \n",
    "text > tei manual markup"
   ]
  },
  {
   "cell_type": "code",
   "execution_count": null,
   "metadata": {},
   "outputs": [],
   "source": [
    "text = \"\"\"The army marched from Konia to Kaiseria (Caesarea), and thence to Sivas, where the feast of the Korbân (sacrifice) was celebrated. Here Mustafâ Pâshâ, the emperor's favourite, was promoted to the rank of second vezir, and called into the divân. The army then continued its march to Erzerum. Besides tiie guns provided by the commander-in-chief, there were forty large guns dragged by two thousand pairs of buftaloes. The army entered the castle of Kazmaghan, and halted under the walls of Eriviin in the year 1044 (1634).\"\"\"  \n",
    "with open('text2tei.txt','w') as f:\n",
    "    f.write(text)"
   ]
  },
  {
   "cell_type": "code",
   "execution_count": null,
   "metadata": {},
   "outputs": [],
   "source": [
    "!prodigy dataset text2tei \"A dataset for British historic places with text input\" --author Andy"
   ]
  },
  {
   "cell_type": "code",
   "execution_count": null,
   "metadata": {},
   "outputs": [],
   "source": [
    "!prodigy ner.manual text2tei en_core_web_sm text2tei.txt"
   ]
  },
  {
   "cell_type": "code",
   "execution_count": null,
   "metadata": {},
   "outputs": [],
   "source": [
    "!prodigy db-out text2tei ."
   ]
  },
  {
   "cell_type": "code",
   "execution_count": null,
   "metadata": {},
   "outputs": [],
   "source": [
    "with open('text2tei.jsonl','r') as f:\n",
    "    jsonl = json.loads(f.read())\n",
    "    print(jsonl['spans'])"
   ]
  },
  {
   "cell_type": "code",
   "execution_count": null,
   "metadata": {},
   "outputs": [],
   "source": [
    "import json \n",
    "\n",
    "def jsonl_to_xml(jsonl):    \n",
    "    jsonl = json.loads(jsonl)\n",
    "    text = jsonl['text']\n",
    "    offset = 0\n",
    "    \n",
    "    for span in jsonl['spans']:\n",
    "\n",
    "        new_text = f\"<{span['label']}>\" + text[span[\"start\"] +offset : span[\"end\"] + offset] +  f\"</{span['label']}>\" \n",
    "        text = text[:span[\"start\"] + offset] + new_text + text[span[\"end\"] + offset:]\n",
    "        offset += len(new_text) - (span[\"end\"] - span[\"start\"])\n",
    "    \n",
    "    return text\n",
    "        \n",
    "\n",
    "with open('text2tei.jsonl','r') as f:\n",
    "    jsonl = f.read()\n",
    "    xml = jsonl_to_xml(jsonl)\n",
    "    print(xml)"
   ]
  },
  {
   "cell_type": "code",
   "execution_count": null,
   "metadata": {
    "scrolled": true
   },
   "outputs": [],
   "source": [
    "# save text as tei \n",
    "filename = 'annotated_tei.xml'\n",
    "language = 'en'\n",
    "\n",
    "tei_string = f\"\"\"\n",
    "<TEI.2>\n",
    "  <text lang=\"{language}\">\n",
    "    <body>\n",
    "        <p>\n",
    "            {xml}\n",
    "        </p>\n",
    "    </body>\n",
    "  </text>\n",
    "</TEI.2>\n",
    "\"\"\"\n",
    "doc = etree.fromstring(tei_string)\n",
    "tree = etree.ElementTree(doc)\n",
    "tree.write(f'{filename}', pretty_print=True, xml_declaration=False,   encoding=\"utf-8\")\n",
    "\n",
    "with open(filename,'r') as f:\n",
    "    print(f.read())"
   ]
  },
  {
   "cell_type": "markdown",
   "metadata": {},
   "source": [
    "For complex annotation tasks, see [brat](https://brat.nlplab.org/index.html), ([demo](http://weaver.nlplab.org/~brat/demo/latest/#/))"
   ]
  },
  {
   "cell_type": "markdown",
   "metadata": {},
   "source": [
    "# Thank you for your attention!  How might you use spaCy and Prodigy in your research? "
   ]
  },
  {
   "cell_type": "code",
   "execution_count": null,
   "metadata": {},
   "outputs": [],
   "source": []
  }
 ],
 "metadata": {
  "kernelspec": {
   "display_name": "Python 3",
   "language": "python",
   "name": "python3"
  },
  "language_info": {
   "codemirror_mode": {
    "name": "ipython",
    "version": 3
   },
   "file_extension": ".py",
   "mimetype": "text/x-python",
   "name": "python",
   "nbconvert_exporter": "python",
   "pygments_lexer": "ipython3",
   "version": "3.7.4"
  }
 },
 "nbformat": 4,
 "nbformat_minor": 2
}
