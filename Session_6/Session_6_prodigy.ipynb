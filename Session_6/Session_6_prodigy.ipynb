{
 "cells": [
  {
   "cell_type": "markdown",
   "metadata": {},
   "source": [
    "![](top.png)\n",
    "\n",
    "---\n",
    "\n",
    "[Prodigy Documentation](https://spacy.apjan.co/docs/)\n",
    "\n",
    "Basic NER with pre-trained spaCy models ([source](https://towardsdatascience.com/named-entity-recognition-with-nltk-and-spacy-8c4a7d88e7da))"
   ]
  },
  {
   "cell_type": "code",
   "execution_count": null,
   "metadata": {},
   "outputs": [],
   "source": [
    "import os \n",
    "import pickle\n",
    "import spacy\n",
    "from spacy import displacy\n",
    "from collections import Counter\n",
    "import en_core_web_sm\n",
    "\n",
    "nlp = en_core_web_sm.load()\n",
    "spec = {\"tei\":\"http://www.tei-c.org/ns/1.0\"}\n",
    "\n",
    "doc = nlp(\n",
    "    \"\"\"The COST Action Distant Reading for European Literary History is issuing a Call for Applications for its third Training School, hosted by the Centre for Digital Humanities – Eötvös Loránd University in Budapest from September 23 to 25, and co-located with the DH_Budapest 2019 conference \n",
    "\"\"\"\n",
    ")\n",
    "displacy.render(doc, style=\"ent\")"
   ]
  },
  {
   "cell_type": "markdown",
   "metadata": {},
   "source": [
    "> Here is a [simple web app](https://explosion.ai/demos/displacy-ent) that you can use to quickly evaluate how useful an existing model would be for your current text or project.  For many languages, there are several possible [models](https://spacy.io/usage/models#languages).  This tool can be used to evaluate the results from different models.    "
   ]
  },
  {
   "cell_type": "markdown",
   "metadata": {},
   "source": [
    "## Problem:\n",
    "*This works very well for many 20th and 21st century texts.  But what about early modern English?*"
   ]
  },
  {
   "cell_type": "code",
   "execution_count": null,
   "metadata": {
    "scrolled": true
   },
   "outputs": [],
   "source": [
    "doc = nlp(\n",
    "    \"ITEM because that the kings most deare Uncle, the king of Denmarke, Norway & Sweveland, as the same our soveraigne Lord the king of his intimation hath understood, considering the manifold & great losses, perils, hurts and damage which have late happened aswell to him and his, as to other foraines and strangers, and also friends and speciall subjects of our said soveraigne Lord the king of his Realme of England, by ye going in, entring & passage of such forain & strange persons into his realme of Norwey & other dominions, streits, territories, jurisdictions & places subdued and subject to him, specially into his Iles of Fynmarke, and elswhere, aswell in their persons as their things and goods\"\n",
    ")\n",
    "displacy.render(doc, style=\"ent\")"
   ]
  },
  {
   "cell_type": "markdown",
   "metadata": {},
   "source": [
    "## Introduction to ✨Prodigy\n",
    "\n",
    "Prodigy is an annotation tool for active machine teaching.  Prodigy makes it possible to quickly experiment and improve models with relatively little data, time and typically only one annotator.  Prodigy will sort a model's results by certainty, and ask for human input where the results are most ambiguous. Prodigy stores these annotations and uses them to update the model.  Machine teaching can be used to: \n",
    "\n",
    "- improve an existing model for a specific context or set of documents\n",
    "- add a new entity or category to a text model \n",
    "- custom image categorization and object recognition\n",
    "\n",
    "*While spaCy is a free and open-source library, Prodigy is a commercial product that requires a license. Researchers at degree-granting academic institutions can obtain a free research license [here](https://prodi.gy/forms/research-license).*"
   ]
  },
  {
   "cell_type": "markdown",
   "metadata": {},
   "source": [
    "### In this example, our goal is to teach an existing English-language model to identify early modern place names.\n",
    "\n",
    "There are several approaches that we could take to this problem.  Different approaches can lend better or worse results and experimentation is an essential part of any machine learning project. \n",
    "\n",
    "### How can we teach a statistical language model that Sweveland is a place?\n",
    "\n"
   ]
  },
  {
   "cell_type": "markdown",
   "metadata": {},
   "source": [
    "**Manual annotation**\n",
    "\n",
    "Some researchers may prefer to add seed annotations using the `ner.manual` recipe. For certain personalities, myself included, this is actually kind of fun and a good way to think about the text and the goals of your experiment.  We'll discuss how Prodigy can be used as a manual annotation tool near the end of this session.\n",
    "\n",
    "If you only have a few seed terms you can also add them as an argument with `ner.teach en_core_web_lg ... --seeds \"digital,humanities,utrecht,netherlands,spacy,workshop\"`[(source)](https://support.prodi.gy/t/train-a-new-ner-entity-with-multi-word-tokens/227/3) \n",
    "\n",
    "In our current case, we're going to provide as many examples of place names as possible.  Note that with spaCy, we are working with place names as [patterns](https://spacy.apjan.co/docs/#match-patterns) so the model can learn that place names often have several parts.  \n",
    "\n",
    "**Seed term patterns** \n",
    "\n",
    "We're going to give the model as many examples of historic place names as we can to get the learning process started. To do this, I have chosen to mine a text that has already been markedup in TEI with early modern place names and is available from the Perseus Project.  We're going to use Richard Hakluyt's [*The Principal Navigations, Voyages, Traffiques, and Discoveries of the English Nation* (1599)](http://www.perseus.tufts.edu/hopper/text?doc=Perseus%3Atext%3A1999.03.0070%3Anarrative%3D1).  I have chosen an English-language example because we'll be annotating the text in this workshop and English is a working language of DH2019.  However, you can work with texts in [any language](https://spacy.io/usage/adding-languages) even those that do not have an existing spaCy language model ([colonial Zapotec](https://ticha.haverford.edu/) for example!).  \n",
    "\n",
    "\n",
    "\n",
    "\n",
    "**New category or existing?** \n",
    "\n",
    "We will need to choose whether we want to add a new entity to the model (let's call it \"PLACE\") or improve the existing \"GPE\" (Geopolitical entity, i.e. countries, cities, states) for our historic places.  Either one works.  If we improve an existing entity, we retain the existing training and examples. A new entity makes it easier to distinguish between what we have taught the model and previous training.  This can also address potential bias in previous training data.  For that reason, we'll add \"PLACE\" as a new category.     "
   ]
  },
  {
   "cell_type": "markdown",
   "metadata": {},
   "source": [
    "### Download the TEI files from Persius \n",
    "- We're going to extract a list of all the place names from the text to create a patterns JSONL file.\n",
    "- We'll also extract the raw text to create a set of training documents. "
   ]
  },
  {
   "cell_type": "markdown",
   "metadata": {},
   "source": [
    "We are going to download the table of contents and create a list of the 937 segments of the document. We will then get each page, remove the place names (`<name type=\"place\">Utrect</name>`) and add them to a places list."
   ]
  },
  {
   "cell_type": "code",
   "execution_count": null,
   "metadata": {},
   "outputs": [],
   "source": [
    "from urllib.request import urlopen\n",
    "from lxml import etree\n",
    "\n",
    "def tei_loader(url):\n",
    "    tei = urlopen(url).read()\n",
    "    return etree.XML(tei)\n",
    "\n",
    "table_of_contents_url = \"http://www.perseus.tufts.edu/hopper/xmltoc?doc=Perseus%3Atext%3A1999.03.0070%3Anarrative%3D1\"\n",
    "table_of_contents_xml = tei_loader(table_of_contents_url)\n",
    "\n",
    "if not os.path.exists('refs.pickle'):\n",
    "    chunks = table_of_contents_xml.xpath(\"//chunk[@ref]\")\n",
    "    refs = [chunk.get('ref') for chunk in chunks] \n",
    "    # an example ref 'Perseus%3Atext%3A1999.03.0070%3Anarrative%3D6'\n",
    "\n",
    "\n",
    "    places = []\n",
    "\n",
    "    for ref in refs:\n",
    "\n",
    "        url = 'http://www.perseus.tufts.edu/hopper/xmlchunk?doc=' + ref\n",
    "        try:\n",
    "            tei = tei_loader(url)\n",
    "\n",
    "            #get all <name type='place'> tags\n",
    "            for place in tei.findall(\".//name[@type='place']\", namespaces=spec):\n",
    "                places.append(place.text.replace('\\n',''))\n",
    "        except Exception as e:\n",
    "            print(e)\n",
    "            \n",
    "    pickle.dump(places, open('places.pickle', 'wb'))\n",
    "    pickle.dump(refs, open('refs.pickle', 'wb'))\n",
    "\n",
    "else:\n",
    "    places = pickle.load(open('places.pickle', 'rb'))\n",
    "    refs = pickle.load(open('refs.pickle', 'rb'))\n",
    "    print('pickles loaded')\n"
   ]
  },
  {
   "cell_type": "code",
   "execution_count": null,
   "metadata": {
    "scrolled": true
   },
   "outputs": [],
   "source": [
    "print('number of documents: ', len(refs))\n",
    "print('number of places found: ', len(set(places)))\n",
    "places[9]"
   ]
  },
  {
   "cell_type": "markdown",
   "metadata": {},
   "source": [
    "### Create a patterns.jsonl file with seed terms.  \n",
    "These terms provide examples that the model can use to learn the new category. It is good to use as many terms as are practical; preferably several hundred. Further examples of patterns files can be found [here](https://github.com/explosion/prodigy-recipes/tree/master/example-patterns). There is a very helpful tool for creating patterns that are relevant to your projects and texts [here](https://explosion.ai/demos/matcher).\n"
   ]
  },
  {
   "cell_type": "code",
   "execution_count": null,
   "metadata": {},
   "outputs": [],
   "source": [
    "import json\n",
    "new_label = 'PLACE'\n",
    "\n",
    "if not os.path.exists('patterns.jsonl'):\n",
    "    with open('patterns.jsonl','w') as f:\n",
    "        for place in set(places):   # A set is used here to remove duplicate place names\n",
    "            \n",
    "            row = {}\n",
    "                \n",
    "            row['label'] = new_label\n",
    "            row['pattern'] = []\n",
    "            for token in place.split():\n",
    "                pattern = {}\n",
    "                pattern['lower'] = token.lower()\n",
    "                row['pattern'].append(pattern)\n",
    "        \n",
    "            f.write(str(json.dumps(row) +'\\n')) \n",
    "            \n",
    "        '''Polite intervention:  \n",
    "        Sweveland is not in our list of historic and beautiful places, but is essential to the narrative of this notebook.\n",
    "        To correct this error, the line below has been added, with appologies to our colleagues from Sweveland'''\n",
    "        row = {\"label\": \"PLACE\", \"pattern\": [{\"lower\": \"sweveland\"}]}\n",
    "        f.write(json.dumps(row))"
   ]
  },
  {
   "cell_type": "code",
   "execution_count": null,
   "metadata": {
    "scrolled": false
   },
   "outputs": [],
   "source": [
    "with open('patterns.jsonl','r') as f:\n",
    "    print(f.read()[:185])"
   ]
  },
  {
   "cell_type": "code",
   "execution_count": null,
   "metadata": {},
   "outputs": [],
   "source": [
    "#Now to extract the full text\n",
    "percent_of_texts_to_process = 0.05 \n",
    "'''We are only using a tiny portion of the text for annotation.  \n",
    "Unlike many machine learning tasks, in this case, more text data for annotations does not necessarily\n",
    "improve learning. More text will dramatically increase Prodigy's memory usage, so keep that in mind.'''\n",
    "\n",
    "end_index = int(len(refs) * percent_of_texts_to_process)\n",
    "\n",
    "if os.path.exists(\"principal_navigations.txt\"):\n",
    "    print(\n",
    "        \"The file already exists. This process takes several minutes. To re-run, change process_anew to True. You can also adjust the percentage of the corpus to be gathered.\"\n",
    "    )\n",
    "    \n",
    "process_anew = False\n",
    "if process_anew:\n",
    "    txts = []\n",
    "    for ref in refs[:end_index]:\n",
    "\n",
    "        url = 'http://www.perseus.tufts.edu/hopper/xmlchunk?doc=' + ref\n",
    "        try:\n",
    "            tei = tei_loader(url)\n",
    "\n",
    "            new_txt = []\n",
    "            for body in tei.iter('body'):\n",
    "                new_txt.append(''.join(body.itertext()).strip().replace('\\n',''))\n",
    "                txts.append(''.join(new_txt))\n",
    "\n",
    "        except Exception as e:\n",
    "            print(e)\n",
    "            \n",
    "\n",
    "    full_text = [\n",
    "        txt.replace(\"        \", \" \").replace(\"   \", \" \").replace(\"  \", \" \")\n",
    "        for txt in txts\n",
    "    ]\n",
    "    \n",
    "    with open('principal_navigations.txt','w') as f:\n",
    "        f.write(str(full_text))"
   ]
  },
  {
   "cell_type": "code",
   "execution_count": null,
   "metadata": {},
   "outputs": [],
   "source": [
    "with open('principal_navigations.txt','r') as f: \n",
    "    print(f.read()[:600])\n",
    "    "
   ]
  },
  {
   "cell_type": "markdown",
   "metadata": {},
   "source": [
    "## With patterns and text files created, we can now work with ✨Prodigy!"
   ]
  },
  {
   "cell_type": "markdown",
   "metadata": {},
   "source": [
    "The `dataset` command will create a database table to save your annotations. The default is sqlite, but you can connect to [MySQL or postgres](https://spacy.apjan.co/docs/#database-setup)"
   ]
  },
  {
   "cell_type": "code",
   "execution_count": null,
   "metadata": {
    "scrolled": true
   },
   "outputs": [],
   "source": [
    "!prodigy dataset DH-Budapest \"A dataset for British historic places\" --author Andy"
   ]
  },
  {
   "cell_type": "markdown",
   "metadata": {},
   "source": [
    "If you'd like to delete a dataset:   \n",
    "\n",
    "`prodigy drop historic_places`\n",
    "\n"
   ]
  },
  {
   "cell_type": "markdown",
   "metadata": {},
   "source": [
    "## A. Plain text to TEI. \n"
   ]
  },
  {
   "cell_type": "markdown",
   "metadata": {},
   "source": [
    "To start the annotation application for a named entity recognition task, we use the `ner.teach` recipe. Similar [built-in recipes](https://spacy.apjan.co/docs/#built-in-recipes) are available for: \n",
    "- text categorization (textcat.teach) \n",
    "- part of speech tagging (pos.teach)  \n",
    "- vectors & terminology (terms.teach)\n",
    "- computer vision (image.manual)\n",
    "\n",
    "In the command below, we use the `ner.teach` recipe to annotate the `historic_places` dataset, using the `en_core_web_sm` model to add the new entity `PLACE` after loading the patterns in `patterns.jsonl`.  \n",
    "\n",
    "*Click on the stop button to intterupt the kernel when you're done.*"
   ]
  },
  {
   "cell_type": "code",
   "execution_count": null,
   "metadata": {
    "scrolled": false
   },
   "outputs": [],
   "source": [
    "!prodigy ner.teach DH-Budapest en_core_web_sm principal_navigations.txt --label PLACE --patterns patterns.jsonl"
   ]
  },
  {
   "cell_type": "markdown",
   "metadata": {},
   "source": [
    "Once you have completed adding annotations, the next step is to train the model.  \n",
    "\n",
    "In the command below, we use `ner.batch-train` to use the annotations in the `historic_places` dataset to train the `en_core_web_sm` model on the new entity `PLACE`.  We then save the updated model as `new_model`."
   ]
  },
  {
   "cell_type": "code",
   "execution_count": null,
   "metadata": {
    "scrolled": true
   },
   "outputs": [],
   "source": [
    "!prodigy ner.batch-train DH-Budapest en_core_web_sm --label PLACE --output new_model "
   ]
  },
  {
   "cell_type": "markdown",
   "metadata": {},
   "source": [
    "If you think the model would benefit from more training you can run this process again to load and update `new_model`.  You can also add the `--n-iter` argument to specify the number of iterations."
   ]
  },
  {
   "cell_type": "code",
   "execution_count": null,
   "metadata": {
    "scrolled": false
   },
   "outputs": [],
   "source": [
    "!prodigy ner.batch-train DH-Budapest new_model --output new_model --label PLACE --n-iter 120"
   ]
  },
  {
   "cell_type": "markdown",
   "metadata": {},
   "source": [
    "Would our model improve with more data?"
   ]
  },
  {
   "cell_type": "code",
   "execution_count": null,
   "metadata": {},
   "outputs": [],
   "source": [
    "!prodigy ner.train-curve DH-Budapest new_model --label PLACE --n-iter 10 --eval-split 0.2 --dropout 0.2  --n-samples 4 "
   ]
  },
  {
   "cell_type": "markdown",
   "metadata": {},
   "source": [
    "To load and see the results of our new model "
   ]
  },
  {
   "cell_type": "code",
   "execution_count": null,
   "metadata": {
    "scrolled": true
   },
   "outputs": [],
   "source": [
    "import spacy\n",
    "\n",
    "nlp = spacy.load(\"new_model\")\n",
    "doc = nlp(\n",
    "    \"ITEM because that the kings most deare Uncle, the king of Denmarke, Norway & Sweveland, as the same our soveraigne Lord the king of his intimation hath understood, considering the manifold & great losses, perils, hurts and damage which have late happened aswell to him and his, as to other foraines and strangers, and also friends and speciall subjects of our said soveraigne Lord the king of his Realme of England, by ye going in, entring & passage of such forain & strange persons into his realme of Norwey & other dominions, streits, territories, jurisdictions & places subdued and subject to him, specially into his Iles of Fynmarke, and elswhere, aswell in their persons as their things and goods\"\n",
    ")\n",
    "displacy.render(doc, style=\"ent\")"
   ]
  },
  {
   "cell_type": "markdown",
   "metadata": {},
   "source": [
    "That's not too bad.  What about a text that the model has never seen before? Let's try Çelebi Evliya's [Narrative of travels in Europe, Asia, and Africa](https://archive.org/details/narrativeoftrave01evli/page/n4)"
   ]
  },
  {
   "cell_type": "code",
   "execution_count": null,
   "metadata": {},
   "outputs": [],
   "source": [
    "import spacy\n",
    "\n",
    "nlp = spacy.load(\"new_model\")\n",
    "doc = nlp(\n",
    "    \"\"\"The army marched from Konia to Kaiseria (Caesarea), and thence to Sivas, where the feast of the Korbân (sacrifice) was celebrated. Here Mustafâ Pâshâ, the emperor's favourite, was promoted to the rank of second vezir, and called into the divân. The army then continued its march to Erzerum. Besides tiie guns provided by the commander-in-chief, there were forty large guns dragged by two thousand pairs of buftaloes. The army entered the castle of Kazmaghan, and halted under the walls of Eriviin in the year 1044 (1634).  \n",
    "\"\"\"\n",
    ")\n",
    "\n",
    "counter = 0\n",
    "for ent in doc.ents:\n",
    "    if ent.text in places:\n",
    "        print(ent.text, ent.start_char, ent.end_char, ent.label_)\n",
    "        counter += 1\n",
    "\n",
    "print(f\"{counter} of the place entities were in the training data\")\n",
    "displacy.render(doc, style=\"ent\")"
   ]
  },
  {
   "cell_type": "markdown",
   "metadata": {},
   "source": [
    "Mustafâ Pâshâ is a person, but the model has done as passable job. Let's use our model to automatically identify historical place names and produce a markedup TEI document. "
   ]
  },
  {
   "cell_type": "code",
   "execution_count": null,
   "metadata": {},
   "outputs": [],
   "source": [
    "text = \"\"\"The army marched from Konia to Kaiseria (Caesarea), and thence to Sivas, where the feast of the Korbân (sacrifice) was celebrated. Here Mustafâ Pâshâ, the emperor's favourite, was promoted to the rank of second vezir, and called into the divân. The army then continued its march to Erzerum. Besides tiie guns provided by the commander-in-chief, there were forty large guns dragged by two thousand pairs of buftaloes. The army entered the castle of Kazmaghan, and halted under the walls of Eriviin in the year 1044 (1634).\"\"\"  \n",
    "\n",
    "import spacy\n",
    "nlp = spacy.load('new_model')\n",
    "doc = nlp(text)\n",
    "text_list = [i.text for i in doc]\n",
    "\n",
    "for token in doc:\n",
    "    if token.ent_type_ == 'PLACE': \n",
    "        text_list[token.i] = '<name type=\"place\">' + text_list[token.i] + '</name>'\n",
    "\n",
    "punct = ['.',\"'\",',',')',':',';']\n",
    "\n",
    "text=''\n",
    "for i, token in enumerate(text_list):\n",
    "    try:\n",
    "        if text_list[i+1] in punct:\n",
    "            text += token\n",
    "\n",
    "        else: \n",
    "            text += token + ' '\n",
    "        \n",
    "    except IndexError:\n",
    "        pass\n",
    "   \n",
    "    \n",
    "text.replace('\\n','').replace('( ','(')"
   ]
  },
  {
   "cell_type": "code",
   "execution_count": null,
   "metadata": {},
   "outputs": [],
   "source": [
    "# save text as tei \n",
    "filename = 'my_tei.xml'\n",
    "language = 'en'\n",
    "\n",
    "tei_string = f\"\"\"\n",
    "<TEI.2>\n",
    "  <text lang=\"{language}\">\n",
    "    <body>\n",
    "        <p>\n",
    "            {text}\n",
    "        </p>\n",
    "    </body>\n",
    "  </text>\n",
    "</TEI.2>\n",
    "\"\"\"\n",
    "doc = etree.fromstring(tei_string)\n",
    "tree = etree.ElementTree(doc)\n",
    "tree.write(f'{filename}', pretty_print=True, xml_declaration=False,   encoding=\"utf-8\")\n"
   ]
  },
  {
   "cell_type": "code",
   "execution_count": null,
   "metadata": {},
   "outputs": [],
   "source": [
    "with open('my_tei.xml','r') as f:\n",
    "    print(f.read())"
   ]
  },
  {
   "cell_type": "markdown",
   "metadata": {},
   "source": [
    "### B. TEI to TEI\n"
   ]
  },
  {
   "cell_type": "code",
   "execution_count": null,
   "metadata": {},
   "outputs": [],
   "source": [
    "!prodigy dataset tei_to_tei \"A dataset for British historic places for the TEI to TEI section\" --author Andy"
   ]
  },
  {
   "cell_type": "markdown",
   "metadata": {},
   "source": [
    "The cell below uses David Lassner's [standoff converter](https://github.com/millawell/standoffconverter).  The tree_to_standoff() function returns a tuple with the plain text at index 0, a list of dictionaries for each xml tag at 1. Each tag contains the 'begin' and 'end' index in the text, the 'tag' as well as a dictionary of attributes ['attrib'] and ['depth'] \n",
    "\n",
    "```json\n",
    "[{'begin': 0, 'tag': 'TEI.2', 'attrib': {}, 'depth': 0, 'end': 51499},  ... ]\n",
    "```"
   ]
  },
  {
   "cell_type": "code",
   "execution_count": null,
   "metadata": {},
   "outputs": [],
   "source": [
    "import json\n",
    "import srsly   #https://pypi.org/project/srsly/\n",
    "import standoffconverter\n",
    "\n",
    "url = 'http://www.perseus.tufts.edu/hopper/xmlchunk?doc=' + refs[2]\n",
    "print(url)\n",
    "\n",
    "tei = urlopen(url).read()\n",
    "tei = etree.XML(tei)\n",
    "\n",
    "jsonl = {}\n",
    "standoff = standoffconverter.tree_to_standoff(tei)\n",
    "jsonl[\"text\"] = standoff[0]\n",
    "with open('my_tei.jsonl', 'w') as outfile:  \n",
    "    json.dump(jsonl, outfile)\n",
    "\n",
    "show = False \n",
    "if show:\n",
    "    with open('my_tei.jsonl','r') as fr:\n",
    "            jsonl = fr.read()\n",
    "            print(json.loads(jsonl)['text'])\n",
    "    "
   ]
  },
  {
   "cell_type": "code",
   "execution_count": null,
   "metadata": {},
   "outputs": [],
   "source": [
    "!prodigy ner.teach tei_to_tei en_core_web_sm my_tei.jsonl --patterns patterns.jsonl"
   ]
  },
  {
   "cell_type": "code",
   "execution_count": null,
   "metadata": {},
   "outputs": [],
   "source": [
    "import json\n",
    "import standoffconverter\n",
    "\n",
    "url = 'http://www.perseus.tufts.edu/hopper/xmlchunk?doc=' + refs[1]\n",
    "print(url)\n",
    "\n",
    "tei = urlopen(url).read()\n",
    "\n",
    "tree = etree.XML(tei)\n",
    "\n",
    "standoff = standoffconverter.Standoff()\n",
    "\n",
    "standoff.from_lxml_tree(tree)\n",
    "\n",
    "jsonl = {}\n",
    "\n",
    "text = standoff.plain\n",
    "nlp = spacy.load('new_model')\n",
    "doc = nlp(text)\n",
    "\n",
    "for ent in doc.ents:\n",
    "\n",
    "    new_tag = {}\n",
    "    new_tag['begin'] = ent.start_char\n",
    "    new_tag['end'] = ent.end_char\n",
    "    new_tag['tag'] = ent.label_  # change PERSON to a valid TEI label\n",
    "    new_tag['attrib'] = {}\n",
    "    new_tag['depth'] = 0\n",
    "    standoff.standoffs.append(new_tag)\n",
    "\n",
    "    \n",
    "new = standoff.to_xml()\n",
    "new"
   ]
  },
  {
   "cell_type": "markdown",
   "metadata": {},
   "source": [
    "## Prodigy as a manual annotation tool \n",
    "text > tei manual markup"
   ]
  },
  {
   "cell_type": "code",
   "execution_count": null,
   "metadata": {},
   "outputs": [],
   "source": [
    "text = \"\"\"The army marched from Konia to Kaiseria (Caesarea), and thence to Sivas, where the feast of the Korbân (sacrifice) was celebrated. Here Mustafâ Pâshâ, the emperor's favourite, was promoted to the rank of second vezir, and called into the divân. The army then continued its march to Erzerum. Besides tiie guns provided by the commander-in-chief, there were forty large guns dragged by two thousand pairs of buftaloes. The army entered the castle of Kazmaghan, and halted under the walls of Eriviin in the year 1044 (1634).\"\"\"  \n",
    "with open('text2tei.txt','w') as f:\n",
    "    f.write(text)"
   ]
  },
  {
   "cell_type": "code",
   "execution_count": null,
   "metadata": {},
   "outputs": [],
   "source": [
    "!prodigy dataset text2tei \"A dataset for British historic places with text input\" --author Andy"
   ]
  },
  {
   "cell_type": "code",
   "execution_count": null,
   "metadata": {},
   "outputs": [],
   "source": [
    "!prodigy ner.manual text2tei en_core_web_sm text2tei.txt"
   ]
  },
  {
   "cell_type": "code",
   "execution_count": null,
   "metadata": {},
   "outputs": [],
   "source": [
    "!prodigy db-out text2tei ."
   ]
  },
  {
   "cell_type": "code",
   "execution_count": null,
   "metadata": {},
   "outputs": [],
   "source": [
    "with open('text2tei.jsonl','r') as f:\n",
    "    jsonl = json.loads(f.read())\n",
    "    print(jsonl['spans'])"
   ]
  },
  {
   "cell_type": "code",
   "execution_count": null,
   "metadata": {},
   "outputs": [],
   "source": [
    "import json \n",
    "\n",
    "def jsonl_to_xml(jsonl):    \n",
    "    jsonl = json.loads(jsonl)\n",
    "    text = jsonl['text']\n",
    "    offset = 0\n",
    "    \n",
    "    for span in jsonl['spans']:\n",
    "\n",
    "        new_text = f\"<{span['label']}>\" + text[span[\"start\"] +offset : span[\"end\"] + offset] +  f\"</{span['label']}>\" \n",
    "        text = text[:span[\"start\"] + offset] + new_text + text[span[\"end\"] + offset:]\n",
    "        offset += len(new_text) - (span[\"end\"] - span[\"start\"])\n",
    "    \n",
    "    return text\n",
    "        \n",
    "\n",
    "with open('text2tei.jsonl','r') as f:\n",
    "    jsonl = f.read()\n",
    "    xml = jsonl_to_xml(jsonl)\n",
    "    print(xml)"
   ]
  },
  {
   "cell_type": "code",
   "execution_count": null,
   "metadata": {
    "scrolled": true
   },
   "outputs": [],
   "source": [
    "# save text as tei \n",
    "filename = 'annotated_tei.xml'\n",
    "language = 'en'\n",
    "\n",
    "tei_string = f\"\"\"\n",
    "<TEI.2>\n",
    "  <text lang=\"{language}\">\n",
    "    <body>\n",
    "        <p>\n",
    "            {xml}\n",
    "        </p>\n",
    "    </body>\n",
    "  </text>\n",
    "</TEI.2>\n",
    "\"\"\"\n",
    "doc = etree.fromstring(tei_string)\n",
    "tree = etree.ElementTree(doc)\n",
    "tree.write(f'{filename}', pretty_print=True, xml_declaration=False,   encoding=\"utf-8\")\n",
    "\n",
    "with open(filename,'r') as f:\n",
    "    print(f.read())"
   ]
  },
  {
   "cell_type": "markdown",
   "metadata": {},
   "source": [
    "For complex annotation tasks, see [brat](https://brat.nlplab.org/index.html), ([demo](http://weaver.nlplab.org/~brat/demo/latest/#/))"
   ]
  },
  {
   "cell_type": "markdown",
   "metadata": {},
   "source": [
    "# Thank you for your attention!  How might you use spaCy and Prodigy in your research? "
   ]
  },
  {
   "cell_type": "code",
   "execution_count": null,
   "metadata": {},
   "outputs": [],
   "source": []
  }
 ],
 "metadata": {
  "kernelspec": {
   "display_name": "wh2",
   "language": "python",
   "name": "wh2"
  },
  "language_info": {
   "codemirror_mode": {
    "name": "ipython",
    "version": 3
   },
   "file_extension": ".py",
   "mimetype": "text/x-python",
   "name": "python",
   "nbconvert_exporter": "python",
   "pygments_lexer": "ipython3",
   "version": "3.7.4"
  }
 },
 "nbformat": 4,
 "nbformat_minor": 2
}
