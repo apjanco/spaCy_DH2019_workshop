{
  "nbformat": 4,
  "nbformat_minor": 0,
  "metadata": {
    "kernelspec": {
      "display_name": "Python 3",
      "language": "python",
      "name": "python3"
    },
    "language_info": {
      "codemirror_mode": {
        "name": "ipython",
        "version": 3
      },
      "file_extension": ".py",
      "mimetype": "text/x-python",
      "name": "python",
      "nbconvert_exporter": "python",
      "pygments_lexer": "ipython3",
      "version": "3.7.5"
    },
    "colab": {
      "name": "Intro_to_spaCy.ipynb",
      "provenance": [],
      "collapsed_sections": []
    }
  },
  "cells": [
    {
      "cell_type": "markdown",
      "metadata": {
        "id": "WiGY3AW0lulV",
        "colab_type": "text"
      },
      "source": [
        "\n",
        "## Introduction to \n",
        "<img width=500 src=\"https://miro.medium.com/max/1200/1*HTtQseukwrBiREJf8MSVcA.jpeg\" alt=\"Spacy Logo\"/>\n",
        "\n",
        "\n",
        "- [Main Documentation Page](https://spacy.io/)  \n",
        "- [How to install spaCy](https://spacy.io/usage)\n",
        "- [spaCy 101, The most important concepts, explained in simple terms\n",
        "](https://spacy.io/usage/spacy-101)\n",
        "- [Free course- Advanced NLP with spaCy](https://course.spacy.io/)\n",
        "\n",
        "- Please go ahead and form into groups of 2-4 people. Say hello and give a brief introduction.  I encourage you to talk and ask questions during the workshop. Listen to me with one ear while you work on code, tinker and make sense of things in ways that have relevance to you.  Please share your ideas and interupt me. Move around. The main goal is that you come away with a basic understanding of spaCy and how it might be useful in your projects.    \n"
      ]
    },
    {
      "cell_type": "markdown",
      "metadata": {
        "id": "HRbX-RD9kb2H",
        "colab_type": "text"
      },
      "source": [
        "# Strings \n",
        "\n",
        "### Without spaCy, Python is able to process text as a sequence of characters (called a string).  We can slice a string, we can add strings, replace sections of a string and many other tasks.  \n",
        "\n",
        "See [w3schools string functions](https://www.w3schools.com/python/python_ref_string.asp)\n",
        "\n",
        "Common examples for working with strings:"
      ]
    },
    {
      "cell_type": "code",
      "metadata": {
        "id": "a-RO_cNiluli",
        "colab_type": "code",
        "colab": {}
      },
      "source": [
        "#Selecting a slice, selecting part of the string from [begin : end]\n",
        "wilde = 'Be yourself; everyone else is already taken.'\n",
        "print('the string \"{}\" has {} characters. Note that the index begins at 0.'.format(wilde, len(wilde)))\n",
        "\n",
        "[print(i, charachter) for i, charachter in enumerate(wilde)][0]"
      ],
      "execution_count": 0,
      "outputs": []
    },
    {
      "cell_type": "code",
      "metadata": {
        "id": "sU5pM0AZlul_",
        "colab_type": "code",
        "colab": {}
      },
      "source": [
        "print('wilde[4:12] will start at position 4 and end at 12 ->', wilde[4:12])\n",
        "print('or read backwards from the end [-40: -32] ->', wilde[-40:-32])\n",
        "print('you can even mix forward and backward! wilde[-40:12]', wilde[-40:12])"
      ],
      "execution_count": 0,
      "outputs": []
    },
    {
      "cell_type": "code",
      "metadata": {
        "id": "H_URSsHTlumU",
        "colab_type": "code",
        "colab": {}
      },
      "source": [
        "#Find and replace\n",
        "wilde = 'Be yourself; everyone else is already taken.'\n",
        "wilde.replace('yourself', 'a fish').replace('everyone', 'everything')"
      ],
      "execution_count": 0,
      "outputs": []
    },
    {
      "cell_type": "code",
      "metadata": {
        "id": "fiH0FRmKlump",
        "colab_type": "code",
        "colab": {}
      },
      "source": [
        "#Split \n",
        "wilde = 'Be yourself; everyone else is already taken.'\n",
        "print(wilde.split()) # Split on empty spaces\n",
        "print(wilde.split(';'))\n",
        "print(wilde.split('y'))  #Note that the charachter or space used to split the string is removed"
      ],
      "execution_count": 0,
      "outputs": []
    },
    {
      "cell_type": "code",
      "metadata": {
        "id": "NSnowJAdlum_",
        "colab_type": "code",
        "colab": {}
      },
      "source": [
        "# We can join a list of strings\n",
        "print(' '.join(['Be', 'yourself;', 'everyone', 'else', 'is', 'already', 'taken.']))\n",
        "\n",
        "import random\n",
        "\n",
        "animals = ['fish', 'turtle', 'panther', 'parrot']\n",
        "adjective = ['scary', 'green', 'overweight', 'fluffy']\n",
        "print('Be a ' + ' '.join([random.choice(adjective), random.choice(animals)]) + ' everything else is taken.')\n"
      ],
      "execution_count": 0,
      "outputs": []
    },
    {
      "cell_type": "markdown",
      "metadata": {
        "id": "mzUFZaXqlunS",
        "colab_type": "text"
      },
      "source": [
        "# Base Language object\n",
        "### spaCy gives the machine an understanding of text, not just as a sequence of characters, but as natural language\n",
        "\n",
        "[A full list of base languages](https://github.com/explosion/spaCy/tree/master/spacy/lang)\n",
        "\n",
        "- stop words \n",
        "- lemmatization \n",
        "\n",
        "\n"
      ]
    },
    {
      "cell_type": "code",
      "metadata": {
        "id": "iTah4hePlunZ",
        "colab_type": "code",
        "colab": {}
      },
      "source": [
        "from spacy.lang.de import German\n",
        "\n",
        "nlp = German()\n",
        "doc = nlp('Sei du selbst! Alle anderen sind bereits vergeben.')\n",
        "\n",
        "\n",
        "from spacy.lang.en import English \n",
        "\n",
        "nlp = English()\n",
        "doc = nlp('Be yourself; everyone else is already taken.')"
      ],
      "execution_count": 0,
      "outputs": []
    },
    {
      "cell_type": "markdown",
      "metadata": {
        "id": "jN_klNNxlunu",
        "colab_type": "text"
      },
      "source": [
        "### The document object\n",
        "Once we have imported a base language class or language model and a text, spaCy will create what is called a document (doc) object.  \n",
        "The doc object typically contains:\n",
        "\n",
        "\n",
        "|   [attributes](https://spacy.io/api/doc#attributes) |   | \n",
        "|---|---|\n",
        "| tokens (individual parts of the text)  | doc[5]  |\n",
        "|  the text  | doc.text\n",
        "| the text split into sentences  | doc.sents |\n",
        "| entities detected in the text | doc.ents |\n",
        "\n",
        "\n",
        "Full documentation can be found [here](https://spacy.io/api/doc).\n"
      ]
    },
    {
      "cell_type": "code",
      "metadata": {
        "id": "3uf5zn_Zlunz",
        "colab_type": "code",
        "colab": {}
      },
      "source": [
        "print('**Note the difference between working with a slice of a doc object versus a Python string**')\n",
        "\n",
        "print(wilde[:3])\n",
        "print(doc[:3])\n",
        "\n",
        "print('**Also note how spaCy tokenization differs from Python split()**')\n",
        "print('[*] Python:')\n",
        "for token in wilde.split():\n",
        "    print(token)\n",
        "    \n",
        "print('------')    \n",
        "print('[*] spaCy:')\n",
        "for token in doc:\n",
        "    print(token)"
      ],
      "execution_count": 0,
      "outputs": []
    },
    {
      "cell_type": "code",
      "metadata": {
        "id": "-FuwTW47luoM",
        "colab_type": "code",
        "colab": {}
      },
      "source": [
        "# The to_json() method is a useful way to view the information contained in the doc object\n",
        "\n",
        "doc = nlp('Be yourself; everyone else is already taken.')\n",
        "doc.to_json()"
      ],
      "execution_count": 0,
      "outputs": []
    },
    {
      "cell_type": "markdown",
      "metadata": {
        "id": "Nf1vUJKwluob",
        "colab_type": "text"
      },
      "source": [
        "<img height=100 src=\"https://upload.wikimedia.org/wikipedia/commons/thumb/8/88/SpaCy_logo.svg/1200px-SpaCy_logo.svg.png\" alt=\"Spacy Logo\" style=\"width: 80px;\"/>  \n",
        "##  Tokens\n",
        "As you can see above, the doc contains a split of the text into tokens.  Each token object has [65 attributes](https://spacy.io/api/token#attributes) that can be used during analysis.  Common tasks include:\n",
        "- removing all punctuation from the text\n",
        "- counting root forms of the words (lemmata)\n",
        "- removing stopwords from the doc\n",
        "\n",
        "\n",
        "|   [attributes](https://spacy.io/api/token#attributes) |   | \n",
        "|---|---|\n",
        "| root form (lemma)  | token.lemma_  |\n",
        "| Named entity type  | token.ent_type_ |\n",
        "| token is punctuation  | token.is_punct |\n",
        "| part of speech | token.pos_ |\n",
        "| in stop words | token.is_stop |\n",
        "\n",
        "\n",
        "Full documentation can be found [here](https://spacy.io/api/token#_title).\n"
      ]
    },
    {
      "cell_type": "code",
      "metadata": {
        "id": "zzPYwsyyluoi",
        "colab_type": "code",
        "colab": {}
      },
      "source": [
        "for token in doc:\n",
        "    print(token.text,\n",
        "         token.lemma_,\n",
        "         token.pos_,\n",
        "         token.dep_,\n",
        "         token.shape_,\n",
        "         token.is_stop)"
      ],
      "execution_count": 0,
      "outputs": []
    },
    {
      "cell_type": "code",
      "metadata": {
        "id": "DAzfvNVAluot",
        "colab_type": "code",
        "colab": {}
      },
      "source": [
        "# Useful function to make sense of linguistic terminology and abbreviations \n",
        "import spacy \n",
        "\n",
        "spacy.explain(\"PRON\")\n"
      ],
      "execution_count": 0,
      "outputs": []
    },
    {
      "cell_type": "markdown",
      "metadata": {
        "id": "Gg2_ssmulupl",
        "colab_type": "text"
      },
      "source": [
        "<img height=100 src=\"https://upload.wikimedia.org/wikipedia/commons/thumb/8/88/SpaCy_logo.svg/1200px-SpaCy_logo.svg.png\" alt=\"Spacy Logo\" style=\"width: 80px;\"/>  \n",
        "##  Spans\n",
        "When studying text, we are often interested in features that involve more than one token.  To do this, we can create a span.  For example, \"New York City\"\n",
        "\n",
        "Span [attributes](https://spacy.io/api/span#attributes)\n",
        "\n",
        "Full documentation can be found [here](https://spacy.io/api/span#_title). "
      ]
    },
    {
      "cell_type": "code",
      "metadata": {
        "id": "s8JT4DQQlups",
        "colab_type": "code",
        "colab": {}
      },
      "source": [
        "text = 'I just got back from New York City.'\n",
        "nlp = English()\n",
        "doc = nlp(text)\n",
        "\n",
        "nyc = doc[5:8] \n",
        "\n",
        "print(\n",
        "    '[*] spaCy',\n",
        "    nyc.start,\n",
        "    nyc.end,\n",
        "    doc[nyc.start:nyc.end],\n",
        ")\n",
        "print(  \n",
        "    '[*] string',\n",
        "    nyc.start_char,\n",
        "    nyc.end_char,\n",
        "    text[nyc.start_char:nyc.end_char]\n",
        ")"
      ],
      "execution_count": 0,
      "outputs": []
    },
    {
      "cell_type": "markdown",
      "metadata": {
        "id": "ZgGYxqq7luqG",
        "colab_type": "text"
      },
      "source": [
        "# Exercise: create individualized vocabularly lists \n",
        "At Haverford, we have an application called [the Bridge](https://bridge.haverford.edu/) that generates custom vocabulary lists for learning Latin and ancient Greek.  To do this, we create a list of words from texts that the student has already read and understood.  We then use the lemma of each word to compare the list of known words against words in a new text.  We can then identify which words will be new to the reader.\n",
        "\n",
        "<img height=\"400\" src='https://www.boxofficepro.com/wp-content/uploads/2020/02/emma-dom-E_FP_00001_rgb-scaled.jpg'>\n",
        "\n",
        "Let's say that I'm learning English and reading Jane Austen's *Emma* (1815).  I have just finished volume one and want to know what new words I will encounter when reading volume two.   \n",
        "\n",
        ">*Note* I am using Python sets to find the difference between the two volumes. I could also find the union, the intersection and other set operations.  For more on this topic, there is an excellent tutorial from [Real Python](https://realpython.com/python-sets/). "
      ]
    },
    {
      "cell_type": "code",
      "metadata": {
        "id": "vQDdJTuiluqV",
        "colab_type": "code",
        "colab": {}
      },
      "source": [
        "# Here I use the requests library to get the texts from Project Gutenberg\n",
        "import requests \n",
        "emma = requests.get('http://www.gutenberg.org/files/158/158-0.txt')\n",
        "split = emma.text.find('VOLUME II')\n",
        "vol_1 = emma.text[:split]\n",
        "vol_2 = emma.text[split:]"
      ],
      "execution_count": 0,
      "outputs": []
    },
    {
      "cell_type": "code",
      "metadata": {
        "id": "zuE7n2TGluqu",
        "colab_type": "code",
        "colab": {}
      },
      "source": [
        "from spacy.lang.en import English\n",
        "nlp = English()\n",
        "nlp.max_length = 1070000 # This is needed given the length of the text \n",
        "\n",
        "vol_1_doc = nlp(vol_1)\n",
        "\n",
        "# Create a set of words that are not punctuation or stop words\n",
        "vol_1_words = set([token.lemma_ for token in vol_1_doc if token.is_stop is False and token.is_punct is False])\n",
        "\n",
        "vol_2_doc = nlp(vol_2)\n",
        "vol_2_words = set([token.lemma_ for token in vol_2_doc if token.is_stop is False and token.is_punct is False])\n",
        "\n",
        "new_words = vol_2_words.difference(vol_1_words)\n",
        "len(new_words)\n"
      ],
      "execution_count": 0,
      "outputs": []
    },
    {
      "cell_type": "markdown",
      "metadata": {
        "id": "FXE3B7znlurG",
        "colab_type": "text"
      },
      "source": [
        "## Ouch, that's far too many words to learn!  Let's only count the 100 most frequent words and then create our list."
      ]
    },
    {
      "cell_type": "code",
      "metadata": {
        "scrolled": true,
        "id": "CDCLoVJilurN",
        "colab_type": "code",
        "colab": {}
      },
      "source": [
        "from spacy.tokens import Token\n",
        "from collections import Counter\n",
        "\n",
        "# Add an extension to our tokens called \"count\"\n",
        "Token.set_extension(\"count\", default=False, force=True)\n",
        "\n",
        "\n",
        "# Calculate the number of times that a lemma appears in the text\n",
        "counts = Counter([token.lemma_ for token in vol_1_doc if not token.is_punct and not token.is_stop]).most_common(100)\n",
        "counts = dict(counts)\n",
        "\n",
        "# Add the count to each token. \n",
        "vol_1_doc = nlp(vol_1)\n",
        "for token in vol_1_doc:\n",
        "    if token.lemma_ in counts.keys():\n",
        "        token._.count = counts[token.lemma_]\n",
        "\n",
        "# Repeat for the second text and find the difference \n",
        "counts = Counter([token.lemma_ for token in vol_2_doc if not token.is_punct and not token.is_stop]).most_common(100)\n",
        "counts = dict(counts)\n",
        "\n",
        "# These are clearly not words, let's get rid of them\n",
        "del counts['\\r\\n']\n",
        "del counts['\\r\\n\\r\\n']\n",
        "del counts[' ']\n",
        "\n",
        "\n",
        "vol_2_doc = nlp(vol_2)\n",
        "for token in vol_2_doc:\n",
        "    if token.lemma_ in counts.keys():\n",
        "        token._.count = counts[token.lemma_]\n",
        "\n",
        "# Now we find the difference between the most common words in the two texts        \n",
        "#set_vol1 = set([(token.lemma_, token._.count) for token in vol_1_doc if token._.count])\n",
        "#set_vol2 = set([(token.lemma_, token._.count) for token in vol_2_doc if token._.count])\n",
        "not_words = ['\\r\\n','\\r\\n\\r\\n',' ']\n",
        "set_vol1 = set([token.lemma_ for token in vol_1_doc if token._.count and token.lemma_ not in not_words])\n",
        "set_vol2 = set([token.lemma_ for token in vol_2_doc if token._.count and token.lemma_ not in not_words])\n",
        "\n",
        "difference = set_vol1.difference(set_vol2)\n",
        "difference"
      ],
      "execution_count": 0,
      "outputs": []
    },
    {
      "cell_type": "markdown",
      "metadata": {
        "id": "ylbG2bC5lur8",
        "colab_type": "text"
      },
      "source": [
        "# Models \n",
        "\n",
        "What if we wanted to create a list of the 100 most freqent verbs or nouns in the text?  With the base Hungarian model, token.pos_ returns nothing. Also take a look at our lemmas. Are those really the root forms?  The basic Hungarian model simply does not know parts of speech or lemmata.  We need one that does. \n",
        "\n",
        "Here is a listing of the officially supported spaCy models: https://spacy.io/models\n",
        "There are currently models for :\n",
        "- English\n",
        "- German\n",
        "- French\n",
        "- Spanish\n",
        "- Portuguese\n",
        "- Italian\n",
        "- Dutch\n",
        "- Greek\n",
        "- Multi-language\n",
        "\n",
        "The spaCy documentation lists the features and capabilities of each model.  Keep in mind that there can be several models for a language.  Larger models are often slower and require more memory. In exchange, the larger models are often more accurate and have more features such as word vectors, dependency parsing and other pipelines.   If you're not using the more advanced features of a large model, then you would probably be better off using something small.  As a general rule, it's best to start small and then deliberately move up as needed. \n",
        "\n",
        "\n",
        "To add a spaCy supported model, simply type: \n",
        "`python -m spacy download <name of model>` `en_core_web_sm` for example\n"
      ]
    },
    {
      "cell_type": "code",
      "metadata": {
        "id": "m-W6T6yblusA",
        "colab_type": "code",
        "colab": {}
      },
      "source": [
        "import spacy\n",
        "\n",
        "#English base language object\n",
        "#nlp = English()\n",
        "\n",
        "#English small language model\n",
        "nlp = spacy.load('en_core_web_sm')\n",
        "\n",
        "\n",
        "doc = nlp('Be yourself; everyone else is already taken.')\n",
        "print(doc.text)\n",
        "for token in doc:\n",
        "    print(token.text, token.pos_, token.dep_)"
      ],
      "execution_count": 0,
      "outputs": []
    },
    {
      "cell_type": "markdown",
      "metadata": {
        "id": "SghahbnvlutB",
        "colab_type": "text"
      },
      "source": [
        "**Further Reading on Parts of Speech**  \n",
        "\n",
        "[Johnathan Reeve, Isolating Literary Style with Raymond Queneau\n",
        "](https://jonreeve.com/2019/09/exercises-in-style/) ([code notebook](https://gist.github.com/JonathanReeve/cacf9d874b405b621710a7436425af49))"
      ]
    },
    {
      "cell_type": "markdown",
      "metadata": {
        "id": "SJn8NpNLlutI",
        "colab_type": "text"
      },
      "source": [
        "<img height=100 src=\"https://upload.wikimedia.org/wikipedia/commons/thumb/8/88/SpaCy_logo.svg/1200px-SpaCy_logo.svg.png\" alt=\"Spacy Logo\" style=\"width: 80px;\"/>  \n",
        "##  Named Entity Recognition\n",
        "Most of the models in spaCy have an entity recognizer.  This is similar to identifying parts of speech in the text, but greatly expands what we can automatically identify.  The types of entities and categories will vary from model to model and should be in the model's documentation. For most languages, the categories are: \n",
        "\n",
        "|   [named entities](https://spacy.io/api/annotation#ner-wikipedia-scheme) |   | \n",
        "|---|---|\n",
        "| PER  | Named person or family  |\n",
        "| ORG  | Named corporate, governmental, or other organizational entitity. |\n",
        "| LOC  | Name of politically or grographically defined location (cities, provinces, countries, international regions, bodies of water, mountains).  |\n",
        "| MISC | Miscellaneous entities, e.g. events, nationalities, products or works of art. |\n",
        "\n",
        "[Here is a list of the categories in the spaCy small English model](https://spacy.io/api/annotation#named-entities)\n",
        "\n",
        "[Here is a useful web application that can be used to assess the categories available in various spaCy models](https://explosion.ai/demos/displacy-ent)\n",
        "\n",
        "\n",
        "Full documentation can be found [here](https://spacy.io/usage/linguistic-features#named-entities-101).\n",
        "\n",
        "--- \n",
        "\n",
        "H.G. Wells, *The Invisible Man* (1897)\n",
        "<img src=\"https://www.slashfilm.com/wp/wp-content/images/invisible-man-cast-new.jpg\" alt=\"invisible man photo\" style=\"width: 600px;\"/>"
      ]
    },
    {
      "cell_type": "code",
      "metadata": {
        "id": "st0OcOaelutR",
        "colab_type": "code",
        "colab": {}
      },
      "source": [
        "import requests \n",
        "invisible_man = requests.get('http://www.gutenberg.org/cache/epub/5230/pg5230.txt')"
      ],
      "execution_count": 0,
      "outputs": []
    },
    {
      "cell_type": "code",
      "metadata": {
        "id": "tggeYyBRluth",
        "colab_type": "code",
        "colab": {}
      },
      "source": [
        "import spacy\n",
        "from spacy import displacy\n",
        "import en_core_web_sm\n",
        "from IPython.display import HTML, IFrame\n",
        "\n",
        "nlp = spacy.load('en_core_web_sm')\n",
        "doc = nlp(invisible_man.text[600:1500])\n",
        "\n",
        "HTML(displacy.render(doc, style=\"ent\"))"
      ],
      "execution_count": 0,
      "outputs": []
    },
    {
      "cell_type": "code",
      "metadata": {
        "id": "wLbnq_FMlutq",
        "colab_type": "code",
        "colab": {}
      },
      "source": [
        "# list of people that appear in the text \n",
        "import pandas as pd\n",
        "doc = nlp(invisible_man.text)\n",
        "person_list = []\n",
        "for ent in doc.ents:\n",
        "    if ent.label_ == 'PERSON':\n",
        "        person_list.append(ent.text.replace('\\r','').replace('\\n',''))\n",
        "\n",
        "df = pd.DataFrame(set(person_list)) \n",
        "df.head(10)"
      ],
      "execution_count": 0,
      "outputs": []
    },
    {
      "cell_type": "code",
      "metadata": {
        "id": "3IK_ZS2Blut5",
        "colab_type": "code",
        "colab": {}
      },
      "source": [
        "# list of places that appear in the text \n",
        "import pandas as pd\n",
        "doc = nlp(invisible_man.text)\n",
        "place_list = []\n",
        "for ent in doc.ents:\n",
        "    if ent.label_ == 'GPE':\n",
        "        place_list.append(ent.text)\n",
        "\n",
        "df = pd.DataFrame(set(place_list)) \n",
        "df.head(10)"
      ],
      "execution_count": 0,
      "outputs": []
    },
    {
      "cell_type": "code",
      "metadata": {
        "id": "o7AzGBNbluuH",
        "colab_type": "code",
        "colab": {}
      },
      "source": [
        "import spacy\n",
        "from spacy import displacy\n",
        "\n",
        "nlp = spacy.load(\"en_core_web_sm\")\n",
        "HTML(displacy.render(next(doc.sents), style=\"dep\"))"
      ],
      "execution_count": 0,
      "outputs": []
    },
    {
      "cell_type": "code",
      "metadata": {
        "id": "JYJabHcMluuP",
        "colab_type": "code",
        "outputId": "54778efc-f6cf-4b6d-f495-d12dc71ce270",
        "colab": {
          "base_uri": "https://localhost:8080/",
          "height": 35
        }
      },
      "source": [
        "# Source https://github.com/pmbaumgartner/binder-notebooks/blob/master/holy-nlp.ipynb \n",
        "\n",
        "actors_and_actions = []\n",
        "\n",
        "def token_is_subject_with_action(token):\n",
        "    nsubj = token.dep_ == 'nsubj'\n",
        "    head_verb = token.head.pos_ == 'VERB'\n",
        "    person = token.ent_type_ == 'PERSON'\n",
        "    return nsubj and head_verb and person\n",
        "\n",
        "for token in doc:\n",
        "    if token_is_subject_with_action(token):\n",
        "        span = doc[token.head.left_edge.i:token.head.right_edge.i+1]\n",
        "        data = dict(name=token.orth_,\n",
        "                    span=span.text,\n",
        "                    verb=token.head.lower_,\n",
        "                    log_prob=token.head.prob,\n",
        "                    )\n",
        "        actors_and_actions.append(data)\n",
        "\n",
        "print(len(actors_and_actions))"
      ],
      "execution_count": 0,
      "outputs": [
        {
          "output_type": "stream",
          "text": [
            "473\n"
          ],
          "name": "stdout"
        }
      ]
    },
    {
      "cell_type": "code",
      "metadata": {
        "id": "h4ZRDOjGluuV",
        "colab_type": "code",
        "outputId": "14f5f876-460f-469e-e7f3-093c95bb8b9c",
        "colab": {
          "base_uri": "https://localhost:8080/",
          "height": 35
        }
      },
      "source": [
        "import pandas as pd\n",
        "\n",
        "action_df = pd.DataFrame(actors_and_actions)\n",
        "\n",
        "print('Unique Names:', action_df['name'].nunique())\n",
        "\n",
        "most_common = (action_df\n",
        "    .groupby(['name', 'verb'])\n",
        "    .size()\n",
        "    .groupby(level=0, group_keys=False)\n",
        "    .nlargest(1)\n",
        "    .rename('Count')\n",
        "    .reset_index(level=0)\n",
        "    .rename(columns={\n",
        "        'verb': 'Most Common'\n",
        "    })\n",
        ")\n",
        "\n",
        "# exclude log prob < -20, those indicate absence in the model vocabulary\n",
        "most_unique = (action_df[action_df['log_prob'] > -20]\n",
        "    .groupby(['name', 'verb'])['log_prob']\n",
        "    .min()\n",
        "    .groupby(level=0, group_keys=False)\n",
        "    .nsmallest(1)\n",
        "    .rename('Log Prob.')\n",
        "    .reset_index(level = 0)\n",
        "    .rename(columns={\n",
        "        'verb': 'Most Unique'\n",
        "    })\n",
        ")\n",
        "\n",
        "# SO groupby credit\n",
        "# https: //stackoverflow.com/questions/27842613/pandas-groupby-sort-within-groups"
      ],
      "execution_count": 0,
      "outputs": [
        {
          "output_type": "stream",
          "text": [
            "Unique Names: 30\n"
          ],
          "name": "stdout"
        }
      ]
    },
    {
      "cell_type": "code",
      "metadata": {
        "id": "aJ0E_AESluuk",
        "colab_type": "code",
        "outputId": "28f37d43-8c86-4008-a48f-34cb91618bba",
        "colab": {
          "base_uri": "https://localhost:8080/",
          "height": 539
        }
      },
      "source": [
        "most_common.sort_values('Count', ascending=False).head(15)\n"
      ],
      "execution_count": 0,
      "outputs": [
        {
          "output_type": "execute_result",
          "data": {
            "text/html": [
              "<div>\n",
              "<style scoped>\n",
              "    .dataframe tbody tr th:only-of-type {\n",
              "        vertical-align: middle;\n",
              "    }\n",
              "\n",
              "    .dataframe tbody tr th {\n",
              "        vertical-align: top;\n",
              "    }\n",
              "\n",
              "    .dataframe thead th {\n",
              "        text-align: right;\n",
              "    }\n",
              "</style>\n",
              "<table border=\"1\" class=\"dataframe\">\n",
              "  <thead>\n",
              "    <tr style=\"text-align: right;\">\n",
              "      <th></th>\n",
              "      <th>name</th>\n",
              "      <th>Count</th>\n",
              "    </tr>\n",
              "    <tr>\n",
              "      <th>verb</th>\n",
              "      <th></th>\n",
              "      <th></th>\n",
              "    </tr>\n",
              "  </thead>\n",
              "  <tbody>\n",
              "    <tr>\n",
              "      <th>said</th>\n",
              "      <td>Kemp</td>\n",
              "      <td>68</td>\n",
              "    </tr>\n",
              "    <tr>\n",
              "      <th>said</th>\n",
              "      <td>Marvel</td>\n",
              "      <td>50</td>\n",
              "    </tr>\n",
              "    <tr>\n",
              "      <th>said</th>\n",
              "      <td>Hall</td>\n",
              "      <td>34</td>\n",
              "    </tr>\n",
              "    <tr>\n",
              "      <th>said</th>\n",
              "      <td>Adye</td>\n",
              "      <td>19</td>\n",
              "    </tr>\n",
              "    <tr>\n",
              "      <th>said</th>\n",
              "      <td>Henfrey</td>\n",
              "      <td>13</td>\n",
              "    </tr>\n",
              "    <tr>\n",
              "      <th>said</th>\n",
              "      <td>Bunting</td>\n",
              "      <td>11</td>\n",
              "    </tr>\n",
              "    <tr>\n",
              "      <th>said</th>\n",
              "      <td>Cuss</td>\n",
              "      <td>10</td>\n",
              "    </tr>\n",
              "    <tr>\n",
              "      <th>said</th>\n",
              "      <td>Jaffers</td>\n",
              "      <td>9</td>\n",
              "    </tr>\n",
              "    <tr>\n",
              "      <th>said</th>\n",
              "      <td>Griffin</td>\n",
              "      <td>4</td>\n",
              "    </tr>\n",
              "    <tr>\n",
              "      <th>go</th>\n",
              "      <td>Lemme</td>\n",
              "      <td>3</td>\n",
              "    </tr>\n",
              "    <tr>\n",
              "      <th>said</th>\n",
              "      <td>Wadgers</td>\n",
              "      <td>2</td>\n",
              "    </tr>\n",
              "    <tr>\n",
              "      <th>said</th>\n",
              "      <td>Teddy</td>\n",
              "      <td>2</td>\n",
              "    </tr>\n",
              "    <tr>\n",
              "      <th>said</th>\n",
              "      <td>Huxter</td>\n",
              "      <td>2</td>\n",
              "    </tr>\n",
              "    <tr>\n",
              "      <th>works</th>\n",
              "      <td>tm</td>\n",
              "      <td>2</td>\n",
              "    </tr>\n",
              "    <tr>\n",
              "      <th>had</th>\n",
              "      <td>Phipps</td>\n",
              "      <td>1</td>\n",
              "    </tr>\n",
              "  </tbody>\n",
              "</table>\n",
              "</div>"
            ],
            "text/plain": [
              "          name  Count\n",
              "verb                 \n",
              "said      Kemp     68\n",
              "said    Marvel     50\n",
              "said      Hall     34\n",
              "said      Adye     19\n",
              "said   Henfrey     13\n",
              "said   Bunting     11\n",
              "said      Cuss     10\n",
              "said   Jaffers      9\n",
              "said   Griffin      4\n",
              "go       Lemme      3\n",
              "said   Wadgers      2\n",
              "said     Teddy      2\n",
              "said    Huxter      2\n",
              "works       tm      2\n",
              "had     Phipps      1"
            ]
          },
          "metadata": {
            "tags": []
          },
          "execution_count": 9
        }
      ]
    },
    {
      "cell_type": "markdown",
      "metadata": {
        "id": "hecr2eW_luu3",
        "colab_type": "text"
      },
      "source": [
        "## Working with Stanfordnlp models ![](https://pbs.twimg.com/profile_images/897182721272799232/0CplRl36_400x400.jpg)\n",
        "\n",
        "[Documentation](https://stanfordnlp.github.io/stanfordnlp/installation_usage.html)\n",
        "\n",
        "```\n",
        "$ pip install stanfordnlp spacy-stanfordnlp\n",
        "\n",
        "```"
      ]
    },
    {
      "cell_type": "markdown",
      "metadata": {
        "id": "kTENNbhDluu5",
        "colab_type": "text"
      },
      "source": [
        "```python\n",
        "import stanfordnlp\n",
        "stanfordnlp.download('en')   # This downloads the English models for the neural pipeline\n",
        "\n",
        "\n",
        "Using the default treebank \"en_ewt\" for language \"en\".\n",
        "Would you like to download the models for: en_ewt now? (Y/n)\n",
        "y\n",
        "\n",
        "Default download directory: /home/ajanco/stanfordnlp_resources\n",
        "Hit enter to continue or type an alternate directory.\n",
        "\n",
        "\n",
        "Downloading models for: en_ewt\n",
        "Download location: /home/ajanco/stanfordnlp_resources/en_ewt_models.zip\n",
        "100%|██████████| 235M/235M [00:51<00:00, 4.92MB/s] \n",
        "\n",
        "Download complete.  Models saved to: /home/ajanco/stanfordnlp_resources/en_ewt_models.zip\n",
        "Extracting models file for: en_ewt\n",
        "Cleaning up...Done.\n",
        "```"
      ]
    },
    {
      "cell_type": "code",
      "metadata": {
        "id": "ZX7-9OIsluu8",
        "colab_type": "code",
        "colab": {}
      },
      "source": [
        "import stanfordnlp\n",
        "from spacy_stanfordnlp import StanfordNLPLanguage\n",
        "\n",
        "snlp = stanfordnlp.Pipeline(lang=\"en\")\n",
        "nlp = StanfordNLPLanguage(snlp)\n",
        "\n",
        "doc = nlp('Be yourself; everyone else is already taken.')\n",
        "for token in doc:\n",
        "    print(token.text, token.lemma_, token.pos_, token.dep_)"
      ],
      "execution_count": 0,
      "outputs": []
    },
    {
      "cell_type": "markdown",
      "metadata": {
        "id": "zq2yzyIqLR_O",
        "colab_type": "text"
      },
      "source": [
        "# Transformer models \n",
        "[spaCy meets Transformers: Fine-tune BERT, XLNet and GPT-2](https://explosion.ai/blog/spacy-transformers)"
      ]
    },
    {
      "cell_type": "code",
      "metadata": {
        "id": "szga11k5LU9T",
        "colab_type": "code",
        "outputId": "5b0d3084-01ad-4a29-cf15-47c0e3bc0027",
        "colab": {
          "base_uri": "https://localhost:8080/",
          "height": 225
        }
      },
      "source": [
        "!pip install spacy-transformers\n",
        "!python -m spacy download en_vectors_web_lg"
      ],
      "execution_count": 0,
      "outputs": [
        {
          "output_type": "stream",
          "text": [
            "Collecting en_vectors_web_lg==2.1.0\n",
            "\u001b[?25l  Downloading https://github.com/explosion/spacy-models/releases/download/en_vectors_web_lg-2.1.0/en_vectors_web_lg-2.1.0.tar.gz (661.8MB)\n",
            "\u001b[K     |████████████████████████████████| 661.8MB 1.2MB/s \n",
            "\u001b[?25hBuilding wheels for collected packages: en-vectors-web-lg\n",
            "  Building wheel for en-vectors-web-lg (setup.py) ... \u001b[?25l\u001b[?25hdone\n",
            "  Created wheel for en-vectors-web-lg: filename=en_vectors_web_lg-2.1.0-cp36-none-any.whl size=663461747 sha256=29c0b957ba460d655f6326b68ae96f4fdb8d9597f3c631b0005fd2769663e6f5\n",
            "  Stored in directory: /tmp/pip-ephem-wheel-cache-grylxdwg/wheels/ce/3e/83/59647d0b4584003cce18fb68ecda2866e7c7b2722c3ecaddaf\n",
            "Successfully built en-vectors-web-lg\n",
            "Installing collected packages: en-vectors-web-lg\n",
            "Successfully installed en-vectors-web-lg-2.1.0\n",
            "\u001b[38;5;2m✔ Download and installation successful\u001b[0m\n",
            "You can now load the model via spacy.load('en_vectors_web_lg')\n"
          ],
          "name": "stdout"
        }
      ]
    },
    {
      "cell_type": "code",
      "metadata": {
        "id": "VQumqKvOMVLW",
        "colab_type": "code",
        "outputId": "6cd29afe-e9c7-4f08-a40e-b51df704502b",
        "colab": {
          "base_uri": "https://localhost:8080/",
          "height": 311
        }
      },
      "source": [
        "nlp = spacy.load(\"en_vectors_web_lg\")\n"
      ],
      "execution_count": 0,
      "outputs": [
        {
          "output_type": "error",
          "ename": "OSError",
          "evalue": "ignored",
          "traceback": [
            "\u001b[0;31m---------------------------------------------------------------------------\u001b[0m",
            "\u001b[0;31mOSError\u001b[0m                                   Traceback (most recent call last)",
            "\u001b[0;32m<ipython-input-19-13115037de81>\u001b[0m in \u001b[0;36m<module>\u001b[0;34m()\u001b[0m\n\u001b[0;32m----> 1\u001b[0;31m \u001b[0mnlp\u001b[0m \u001b[0;34m=\u001b[0m \u001b[0mspacy\u001b[0m\u001b[0;34m.\u001b[0m\u001b[0mload\u001b[0m\u001b[0;34m(\u001b[0m\u001b[0;34m\"en_vectors_web_lg\"\u001b[0m\u001b[0;34m)\u001b[0m\u001b[0;34m\u001b[0m\u001b[0;34m\u001b[0m\u001b[0m\n\u001b[0m",
            "\u001b[0;32m/usr/local/lib/python3.6/dist-packages/spacy/__init__.py\u001b[0m in \u001b[0;36mload\u001b[0;34m(name, **overrides)\u001b[0m\n\u001b[1;32m     25\u001b[0m     \u001b[0;32mif\u001b[0m \u001b[0mdepr_path\u001b[0m \u001b[0;32mnot\u001b[0m \u001b[0;32min\u001b[0m \u001b[0;34m(\u001b[0m\u001b[0;32mTrue\u001b[0m\u001b[0;34m,\u001b[0m \u001b[0;32mFalse\u001b[0m\u001b[0;34m,\u001b[0m \u001b[0;32mNone\u001b[0m\u001b[0;34m)\u001b[0m\u001b[0;34m:\u001b[0m\u001b[0;34m\u001b[0m\u001b[0;34m\u001b[0m\u001b[0m\n\u001b[1;32m     26\u001b[0m         \u001b[0mdeprecation_warning\u001b[0m\u001b[0;34m(\u001b[0m\u001b[0mWarnings\u001b[0m\u001b[0;34m.\u001b[0m\u001b[0mW001\u001b[0m\u001b[0;34m.\u001b[0m\u001b[0mformat\u001b[0m\u001b[0;34m(\u001b[0m\u001b[0mpath\u001b[0m\u001b[0;34m=\u001b[0m\u001b[0mdepr_path\u001b[0m\u001b[0;34m)\u001b[0m\u001b[0;34m)\u001b[0m\u001b[0;34m\u001b[0m\u001b[0;34m\u001b[0m\u001b[0m\n\u001b[0;32m---> 27\u001b[0;31m     \u001b[0;32mreturn\u001b[0m \u001b[0mutil\u001b[0m\u001b[0;34m.\u001b[0m\u001b[0mload_model\u001b[0m\u001b[0;34m(\u001b[0m\u001b[0mname\u001b[0m\u001b[0;34m,\u001b[0m \u001b[0;34m**\u001b[0m\u001b[0moverrides\u001b[0m\u001b[0;34m)\u001b[0m\u001b[0;34m\u001b[0m\u001b[0;34m\u001b[0m\u001b[0m\n\u001b[0m\u001b[1;32m     28\u001b[0m \u001b[0;34m\u001b[0m\u001b[0m\n\u001b[1;32m     29\u001b[0m \u001b[0;34m\u001b[0m\u001b[0m\n",
            "\u001b[0;32m/usr/local/lib/python3.6/dist-packages/spacy/util.py\u001b[0m in \u001b[0;36mload_model\u001b[0;34m(name, **overrides)\u001b[0m\n\u001b[1;32m    137\u001b[0m     \u001b[0;32melif\u001b[0m \u001b[0mhasattr\u001b[0m\u001b[0;34m(\u001b[0m\u001b[0mname\u001b[0m\u001b[0;34m,\u001b[0m \u001b[0;34m\"exists\"\u001b[0m\u001b[0;34m)\u001b[0m\u001b[0;34m:\u001b[0m  \u001b[0;31m# Path or Path-like to model data\u001b[0m\u001b[0;34m\u001b[0m\u001b[0;34m\u001b[0m\u001b[0m\n\u001b[1;32m    138\u001b[0m         \u001b[0;32mreturn\u001b[0m \u001b[0mload_model_from_path\u001b[0m\u001b[0;34m(\u001b[0m\u001b[0mname\u001b[0m\u001b[0;34m,\u001b[0m \u001b[0;34m**\u001b[0m\u001b[0moverrides\u001b[0m\u001b[0;34m)\u001b[0m\u001b[0;34m\u001b[0m\u001b[0;34m\u001b[0m\u001b[0m\n\u001b[0;32m--> 139\u001b[0;31m     \u001b[0;32mraise\u001b[0m \u001b[0mIOError\u001b[0m\u001b[0;34m(\u001b[0m\u001b[0mErrors\u001b[0m\u001b[0;34m.\u001b[0m\u001b[0mE050\u001b[0m\u001b[0;34m.\u001b[0m\u001b[0mformat\u001b[0m\u001b[0;34m(\u001b[0m\u001b[0mname\u001b[0m\u001b[0;34m=\u001b[0m\u001b[0mname\u001b[0m\u001b[0;34m)\u001b[0m\u001b[0;34m)\u001b[0m\u001b[0;34m\u001b[0m\u001b[0;34m\u001b[0m\u001b[0m\n\u001b[0m\u001b[1;32m    140\u001b[0m \u001b[0;34m\u001b[0m\u001b[0m\n\u001b[1;32m    141\u001b[0m \u001b[0;34m\u001b[0m\u001b[0m\n",
            "\u001b[0;31mOSError\u001b[0m: [E050] Can't find model 'en_vectors_web_lg'. It doesn't seem to be a shortcut link, a Python package or a valid path to a data directory."
          ]
        }
      ]
    },
    {
      "cell_type": "markdown",
      "metadata": {
        "id": "21Tqr1QpluvK",
        "colab_type": "text"
      },
      "source": [
        "![](https://spacy.io/architecture-bcdfffe5c0b9f221a2f6607f96ca0e4a.svg)"
      ]
    },
    {
      "cell_type": "markdown",
      "metadata": {
        "id": "CISPd6VWCKiV",
        "colab_type": "text"
      },
      "source": [
        "# Summary"
      ]
    },
    {
      "cell_type": "code",
      "metadata": {
        "id": "XShhpz-oluvN",
        "colab_type": "code",
        "colab": {}
      },
      "source": [
        "# Language object\n",
        "from spacy.lang.es import Spanish\n",
        "nlp = Spanish()\n",
        "\n",
        "# Doc object\n",
        "doc = nlp(\"La duda es uno de los nombres de la inteligencia.\")\n",
        "\n",
        "# Tokens\n",
        "for token in doc:\n",
        "    print(token)\n",
        "    \n",
        "# Spans\n",
        "span = doc[0:2]\n",
        "print(span)"
      ],
      "execution_count": 0,
      "outputs": []
    },
    {
      "cell_type": "code",
      "metadata": {
        "id": "swkJ8z7LluvY",
        "colab_type": "code",
        "colab": {}
      },
      "source": [
        "import spacy \n",
        "# python -m spacy download es_core_news_sm\n",
        "\n",
        "# Models\n",
        "nlp = spacy.load(\"es_core_news_sm\")\n",
        "doc = nlp(\"La duda es uno de los nombres de la inteligencia.\")\n",
        "\n",
        "# Part of speech \n",
        "for token in doc:\n",
        "    print(token.pos_)\n",
        "    \n",
        "# Entities \n",
        "for token in doc.ents:\n",
        "    print(token.label_)"
      ],
      "execution_count": 0,
      "outputs": []
    }
  ]
}