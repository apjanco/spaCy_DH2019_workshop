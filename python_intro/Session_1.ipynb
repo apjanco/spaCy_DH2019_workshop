{
 "cells": [
  {
   "cell_type": "markdown",
   "metadata": {},
   "source": [
    "<h2>Introduction to Python</h2>"
   ]
  },
  {
   "cell_type": "markdown",
   "metadata": {},
   "source": [
    "<h3>Session 1</h3>\n",
    "    <ul>\n",
    "        <li>Variables</li>\n",
    "        <li>Data Types</li>\n",
    "        <li>Operators</li>\n",
    "        <li>Loops</li>\n",
    "        <li>Indexing</li>\n",
    "        <li>Functions</li>\n",
    "        <li>Classes</li>\n",
    "        <li>Flow Control</li>\n",
    "   </ul>"
   ]
  },
  {
   "cell_type": "code",
   "execution_count": null,
   "metadata": {},
   "outputs": [],
   "source": [
    "print(\"Hello World\")"
   ]
  },
  {
   "cell_type": "markdown",
   "metadata": {},
   "source": [
    "<h3>Variables</h3>\n",
    "\n",
    "We can assign values to variables using the = operator. A variable is just a name we give to a particular value, you can imagine it as a box you put a certain value into, and on which you write a name with a black marker. The following code block contains two operations. First, we assign the value 2 to the name x. After that x will hold the value 2. You might say Python stored the value 2 in x. Finally we print the value using the print() command."
   ]
  },
  {
   "cell_type": "code",
   "execution_count": null,
   "metadata": {},
   "outputs": [],
   "source": [
    "x = 2\n",
    "print(x)"
   ]
  },
  {
   "cell_type": "markdown",
   "metadata": {},
   "source": [
    "We can also store text in variables"
   ]
  },
  {
   "cell_type": "code",
   "execution_count": null,
   "metadata": {},
   "outputs": [],
   "source": [
    "x = \"Let's learn some python!\"\n",
    "print(x)"
   ]
  },
  {
   "cell_type": "markdown",
   "metadata": {},
   "source": [
    "<h3>Data Types</h3>\n",
    "<h4>Base Types</h4>\n",
    "Integer: whole numbers (-23,-22, 1, 2, 3, 4, 432, 10000) <br>\n",
    "Float: floating-point numbers (-1.4, 0.2342, 9.2312314, 100.2, 23.0)<br>\n",
    "String: Text/Characters (\"HI\", \"This is a test.\", \"v\", \"x\") <br>\n",
    "Bool: Boolean Values (True/False)\n",
    "\n",
    "We can find out what data type a variable has by using type()"
   ]
  },
  {
   "cell_type": "code",
   "execution_count": null,
   "metadata": {},
   "outputs": [],
   "source": [
    "x = 12 \n",
    "type(x)"
   ]
  },
  {
   "cell_type": "code",
   "execution_count": null,
   "metadata": {},
   "outputs": [],
   "source": [
    "x = 12.0\n",
    "type(x)"
   ]
  },
  {
   "cell_type": "code",
   "execution_count": null,
   "metadata": {},
   "outputs": [],
   "source": [
    "x = \"12\" \n",
    "type(x)"
   ]
  },
  {
   "cell_type": "code",
   "execution_count": null,
   "metadata": {},
   "outputs": [],
   "source": [
    "x = True \n",
    "type(x)"
   ]
  },
  {
   "cell_type": "markdown",
   "metadata": {},
   "source": [
    "<h4>Lists, Dictionaries</h4><br>\n",
    "There are more complex Datatypes we can use to assign multiple values to.<br>\n",
    "List: Ordered list of items ([1,2,2,4],[\"a\",6,\"c\"],[\"Hi, how are\",\"you\"])<br>\n",
    "Set: Unordered list of unique items ({1,2,4},{6,\"a\",\"c\"})<br>\n",
    "Dictionary: Collection of key-value pairs {\"berry\":\"red\", \"lemon\":\"yellow\", \"lime\":\"green\"}<br>"
   ]
  },
  {
   "cell_type": "code",
   "execution_count": null,
   "metadata": {},
   "outputs": [],
   "source": [
    "x = [1,2,3] # use brackets\n",
    "type(x)"
   ]
  },
  {
   "cell_type": "code",
   "execution_count": null,
   "metadata": {},
   "outputs": [],
   "source": [
    "x = {1,2,3} # use braces\n",
    "type(x)"
   ]
  },
  {
   "cell_type": "code",
   "execution_count": null,
   "metadata": {},
   "outputs": [],
   "source": [
    "x = {\"Romeo and Juliet\": \"Shakespeare\"} # use braces and colon\n",
    "type(x)"
   ]
  },
  {
   "cell_type": "markdown",
   "metadata": {},
   "source": [
    "<h4>Type Conversion</h4><br>\n",
    "Sometimes it is needed to convert a variable to another datatype.<br>\n",
    "You can do it with these commands:<br>\n",
    "\n",
    "Integer: int()<br>\n",
    "Float: float()<br>\n",
    "String: str()<br>\n",
    "Bool: bool()<br>\n",
    "List: list()<br>\n",
    "Set: set()<br>\n",
    "Dictionary: dict()<br>"
   ]
  },
  {
   "cell_type": "code",
   "execution_count": null,
   "metadata": {},
   "outputs": [],
   "source": [
    "x = \"4\"\n",
    "print(type(x))\n",
    "x = int(x)\n",
    "print(type(x))"
   ]
  },
  {
   "cell_type": "code",
   "execution_count": null,
   "metadata": {},
   "outputs": [],
   "source": [
    "x = \"This is a test.\"\n",
    "print(type(x))\n",
    "x = list(x)\n",
    "print(type(x))"
   ]
  },
  {
   "cell_type": "markdown",
   "metadata": {},
   "source": [
    "Wait, what happend here?"
   ]
  },
  {
   "cell_type": "code",
   "execution_count": null,
   "metadata": {},
   "outputs": [],
   "source": [
    "print(x)"
   ]
  },
  {
   "cell_type": "markdown",
   "metadata": {},
   "source": [
    "<h3>Operators</h3>\n",
    "\n",
    "\\+ : add <br>\n",
    "\\- : substract<br>\n",
    "\\* : mulitply<br>\n",
    "/ : divide<br>\n",
    "== : equals<br>\n",
    "!= : not equal <br>\n",
    "<  : less than<br>\n",
    "\\> : greater than<br>\n",
    "<= : less than or equal<br>\n",
    "=> : greater than or equal<br>"
   ]
  },
  {
   "cell_type": "code",
   "execution_count": null,
   "metadata": {},
   "outputs": [],
   "source": [
    "a = 4\n",
    "b = 6\n",
    "c = a+b\n",
    "print(c)"
   ]
  },
  {
   "cell_type": "code",
   "execution_count": null,
   "metadata": {},
   "outputs": [],
   "source": [
    "a = 4\n",
    "b = 6\n",
    "c = a-b\n",
    "print(c)"
   ]
  },
  {
   "cell_type": "code",
   "execution_count": null,
   "metadata": {},
   "outputs": [],
   "source": [
    "a = 4\n",
    "b = 6\n",
    "c = a == b # What is the resulting datatype??\n",
    "print(c)"
   ]
  },
  {
   "cell_type": "code",
   "execution_count": null,
   "metadata": {},
   "outputs": [],
   "source": [
    "a = \"Hello \"\n",
    "b = \"World\"\n",
    "c = a+b\n",
    "print(c)"
   ]
  },
  {
   "cell_type": "code",
   "execution_count": null,
   "metadata": {},
   "outputs": [],
   "source": [
    "a = \"Hello \"\n",
    "b = \"World\"\n",
    "c = a-b\n",
    "print(c)"
   ]
  },
  {
   "cell_type": "markdown",
   "metadata": {},
   "source": [
    "As you can see not every operator can be used with every datatype!<br>\n",
    "But nevermind, if you try to use it you'll get an Error that explains\n",
    "your mistake."
   ]
  },
  {
   "cell_type": "code",
   "execution_count": null,
   "metadata": {},
   "outputs": [],
   "source": [
    "a = [1,2,3]\n",
    "b = [4,5,6]\n",
    "c = a+b\n",
    "print(c)"
   ]
  },
  {
   "cell_type": "markdown",
   "metadata": {},
   "source": [
    "<h3>Loops and Indexing</h3>"
   ]
  },
  {
   "cell_type": "markdown",
   "metadata": {},
   "source": [
    "In the list-datatype we can acess items via indexing:<br>\n",
    "For example:"
   ]
  },
  {
   "cell_type": "code",
   "execution_count": null,
   "metadata": {},
   "outputs": [],
   "source": [
    "a = [\"This\",\"is\",\"a\",\"small\",\"list\"]"
   ]
  },
  {
   "cell_type": "markdown",
   "metadata": {},
   "source": [
    "If we want the first element in this list we do:"
   ]
  },
  {
   "cell_type": "code",
   "execution_count": null,
   "metadata": {},
   "outputs": [],
   "source": [
    "print(a[0]) # Index start with zero!"
   ]
  },
  {
   "cell_type": "markdown",
   "metadata": {},
   "source": [
    "And for the last element:"
   ]
  },
  {
   "cell_type": "code",
   "execution_count": null,
   "metadata": {},
   "outputs": [],
   "source": [
    "print(a[4])"
   ]
  },
  {
   "cell_type": "code",
   "execution_count": null,
   "metadata": {},
   "outputs": [],
   "source": [
    "print(a[-1]) # We could also do inverse indexing!"
   ]
  },
  {
   "cell_type": "markdown",
   "metadata": {},
   "source": [
    "Imagine we want to add 5 to each element in a list of numbers like:"
   ]
  },
  {
   "cell_type": "code",
   "execution_count": null,
   "metadata": {},
   "outputs": [],
   "source": [
    "numbers = [1,2,3,4,5]\n",
    "print(numbers)"
   ]
  },
  {
   "cell_type": "markdown",
   "metadata": {},
   "source": [
    "A solution could look like this:"
   ]
  },
  {
   "cell_type": "code",
   "execution_count": null,
   "metadata": {},
   "outputs": [],
   "source": [
    "print(numbers[0] + 5)\n",
    "print(numbers[1] + 5)\n",
    "print(numbers[2] + 5)\n",
    "print(numbers[3] + 5)\n",
    "print(numbers[4] + 5)"
   ]
  },
  {
   "cell_type": "markdown",
   "metadata": {},
   "source": [
    "But this is neither elegant nor practical if you have large lists.\n",
    "For this reason there is a mechanic called loop that helps to apply\n",
    "the same operation to every element within a list."
   ]
  },
  {
   "cell_type": "code",
   "execution_count": null,
   "metadata": {},
   "outputs": [],
   "source": [
    "my_list = [\"This\",\"is\",\"a\",\"loop\"]\n",
    "    \n",
    "for element in my_list:\n",
    "    print(element)"
   ]
  },
  {
   "cell_type": "markdown",
   "metadata": {},
   "source": [
    "To add 5 to each element in the number list we can do:"
   ]
  },
  {
   "cell_type": "code",
   "execution_count": null,
   "metadata": {},
   "outputs": [],
   "source": [
    "numbers = [1,2,3,4,5]\n",
    "\n",
    "for number in numbers:\n",
    "    new_value = number + 5\n",
    "    print(new_value)"
   ]
  },
  {
   "cell_type": "markdown",
   "metadata": {},
   "source": [
    "In addition to the for-loop there is a while-loop. <br>\n",
    "The for-loop just iterates over every element in a list<br>\n",
    "While-loops are bound to a certain stop-condiction:"
   ]
  },
  {
   "cell_type": "code",
   "execution_count": 70,
   "metadata": {},
   "outputs": [
    {
     "name": "stdout",
     "output_type": "stream",
     "text": [
      "16\n"
     ]
    }
   ],
   "source": [
    "a = 1\n",
    "while a < 14: # the loop stops if a < 14 is no longer true\n",
    "    \n",
    "    a = a + 3\n",
    "    \n",
    "print(a)"
   ]
  },
  {
   "cell_type": "markdown",
   "metadata": {},
   "source": [
    "Why is this a bad idea?"
   ]
  },
  {
   "cell_type": "code",
   "execution_count": 72,
   "metadata": {},
   "outputs": [
    {
     "ename": "KeyboardInterrupt",
     "evalue": "",
     "output_type": "error",
     "traceback": [
      "\u001b[0;31m---------------------------------------------------------------------------\u001b[0m",
      "\u001b[0;31mKeyboardInterrupt\u001b[0m                         Traceback (most recent call last)",
      "\u001b[0;32m<ipython-input-72-9ca4de47b154>\u001b[0m in \u001b[0;36m<module>\u001b[0;34m\u001b[0m\n\u001b[1;32m      2\u001b[0m \u001b[0;32mwhile\u001b[0m \u001b[0ma\u001b[0m \u001b[0;34m!=\u001b[0m \u001b[0;36m14\u001b[0m\u001b[0;34m:\u001b[0m \u001b[0;31m# the loop stops if a < 14 is no longer true\u001b[0m\u001b[0;34m\u001b[0m\u001b[0;34m\u001b[0m\u001b[0m\n\u001b[1;32m      3\u001b[0m \u001b[0;34m\u001b[0m\u001b[0m\n\u001b[0;32m----> 4\u001b[0;31m     \u001b[0ma\u001b[0m \u001b[0;34m=\u001b[0m \u001b[0ma\u001b[0m \u001b[0;34m+\u001b[0m \u001b[0;36m3\u001b[0m\u001b[0;34m\u001b[0m\u001b[0;34m\u001b[0m\u001b[0m\n\u001b[0m\u001b[1;32m      5\u001b[0m \u001b[0;34m\u001b[0m\u001b[0m\n\u001b[1;32m      6\u001b[0m \u001b[0mprint\u001b[0m\u001b[0;34m(\u001b[0m\u001b[0ma\u001b[0m\u001b[0;34m)\u001b[0m\u001b[0;34m\u001b[0m\u001b[0;34m\u001b[0m\u001b[0m\n",
      "\u001b[0;31mKeyboardInterrupt\u001b[0m: "
     ]
    }
   ],
   "source": [
    "a = 1\n",
    "while a != 14: # the loop stops if a != 14 is no longer true\n",
    "    \n",
    "    a = a + 3\n",
    "    \n",
    "print(a)"
   ]
  },
  {
   "cell_type": "markdown",
   "metadata": {},
   "source": [
    "<h3>Excursus: White space in python</h3>\n",
    "\n",
    "In the example below the code after the for statement is indented.\n",
    "In contrast to other programming languages whitespace has a \n",
    "meaning in python. It applies a hierachical order to code."
   ]
  },
  {
   "cell_type": "code",
   "execution_count": null,
   "metadata": {},
   "outputs": [],
   "source": [
    "numbers = [1,2,3,4,5]\n",
    "\n",
    "for number in numbers:\n",
    "    \n",
    "    new_value = number + 5 # These lines belong inside the loop e.g. the last non indented line of cod\n",
    "    print(new_value)       \n",
    "    \n",
    "print(\"Loop done\")         # By stop using indent, we leave the loop"
   ]
  },
  {
   "cell_type": "markdown",
   "metadata": {},
   "source": [
    "<h3>Flow Control</h3>\n",
    "<br>\n",
    "Flow control is used to define condition that manage if a code block should be executed.\n",
    "Available control statements:<br>\n",
    "<br>\n",
    "if: check if a condition is true<br>\n",
    "else: supplements if-statement<br>\n",
    "elif: supplements if-statement and adds extra condition<br>\n",
    "pass: do nothing<br>\n",
    "continue: stop and go to next element in list<br>\n",
    "break: stop the whole loop<br>"
   ]
  },
  {
   "cell_type": "code",
   "execution_count": 149,
   "metadata": {},
   "outputs": [
    {
     "name": "stdout",
     "output_type": "stream",
     "text": [
      "This number is to low: 1\n",
      "This number is to low: 2\n",
      "This number is to low: 3\n",
      "4\n",
      "5\n"
     ]
    }
   ],
   "source": [
    "numbers = [1,2,3,4,5]\n",
    "\n",
    "for number in numbers:\n",
    "    \n",
    "    if number > 3:\n",
    "        print(number)\n",
    "    \n",
    "    else:\n",
    "        print(\"This number is to low: \" + str(number))\n",
    "    "
   ]
  },
  {
   "cell_type": "code",
   "execution_count": 151,
   "metadata": {},
   "outputs": [
    {
     "name": "stdout",
     "output_type": "stream",
     "text": [
      "4\n",
      "5\n"
     ]
    }
   ],
   "source": [
    "numbers = [1,2,3,4,5]\n",
    "\n",
    "for number in numbers:\n",
    "    \n",
    "    if number > 3:\n",
    "        print(number)\n",
    "    \n",
    "    else:\n",
    "        pass"
   ]
  },
  {
   "cell_type": "code",
   "execution_count": 152,
   "metadata": {},
   "outputs": [
    {
     "name": "stdout",
     "output_type": "stream",
     "text": [
      "4\n",
      "5\n"
     ]
    }
   ],
   "source": [
    "numbers = [1,2,3,4,5]\n",
    "\n",
    "for number in numbers:\n",
    "    \n",
    "    if number > 3:\n",
    "        print(number)\n",
    "    \n",
    "    else:\n",
    "        continue"
   ]
  },
  {
   "cell_type": "code",
   "execution_count": 154,
   "metadata": {},
   "outputs": [
    {
     "name": "stdout",
     "output_type": "stream",
     "text": [
      "2\n",
      "4\n",
      "5\n"
     ]
    }
   ],
   "source": [
    "numbers = [1,2,3,4,5]\n",
    "\n",
    "for number in numbers:\n",
    "    \n",
    "    if number > 3:\n",
    "        print(number)\n",
    "    \n",
    "    elif number == 2:\n",
    "        print(number)\n",
    "        \n",
    "    else:\n",
    "        pass"
   ]
  },
  {
   "cell_type": "code",
   "execution_count": 153,
   "metadata": {},
   "outputs": [],
   "source": [
    "numbers = [1,2,3,4,5]\n",
    "\n",
    "for number in numbers:\n",
    "    \n",
    "    if number > 3:\n",
    "        print(number)\n",
    "    \n",
    "    else:\n",
    "        break"
   ]
  },
  {
   "cell_type": "markdown",
   "metadata": {},
   "source": [
    "<h3>Functions</h3>\n",
    "\n",
    "Functions are used to store certain operations we need to apply\n",
    "multiple times within our code."
   ]
  },
  {
   "cell_type": "code",
   "execution_count": 67,
   "metadata": {},
   "outputs": [],
   "source": [
    "def myfunction(inputnumber, divisor, addition):\n",
    "    \n",
    "    result = inputnumber / divisor\n",
    "    result = result + addition\n",
    "    \n",
    "    return result"
   ]
  },
  {
   "cell_type": "markdown",
   "metadata": {},
   "source": [
    "![alt text](function.png \"Logo Title Text 1\")"
   ]
  },
  {
   "cell_type": "markdown",
   "metadata": {},
   "source": [
    "Lets use our own function!"
   ]
  },
  {
   "cell_type": "code",
   "execution_count": 66,
   "metadata": {},
   "outputs": [
    {
     "name": "stdout",
     "output_type": "stream",
     "text": [
      "6.0\n"
     ]
    }
   ],
   "source": [
    "a = 10\n",
    "b = 2\n",
    "c = 1\n",
    "\n",
    "x = myfunction(a, b, c)\n",
    "print(x)"
   ]
  },
  {
   "cell_type": "markdown",
   "metadata": {},
   "source": [
    "<h3>Classes</h3>\n",
    "\n",
    "Classes are used to bind abstract data structures and functions that may be\n",
    "applied to those together.<br>\n",
    "<br>\n",
    "The following example shows a class named icecream. Objects of this\n",
    "class contain data about price and flavor of iceream and functions to\n",
    "alter the price."
   ]
  },
  {
   "cell_type": "code",
   "execution_count": 95,
   "metadata": {},
   "outputs": [],
   "source": [
    "class icecream():\n",
    "    \n",
    "    def __init__(self, flavor, price): # def __init__ holds values that have to be declared for \n",
    "                                       # an icecream instance\n",
    "        self.flavor = flavor\n",
    "        self.price = price\n",
    "    \n",
    "    def lower_price(self, amout):\n",
    "        self.price -= amout\n",
    "             \n",
    "    def higher_price(self, amout):\n",
    "        self.price += amout"
   ]
  },
  {
   "cell_type": "code",
   "execution_count": 91,
   "metadata": {},
   "outputs": [],
   "source": [
    "my_icecream = icecream(flavor=\"vanilla\", price=3)"
   ]
  },
  {
   "cell_type": "code",
   "execution_count": 92,
   "metadata": {},
   "outputs": [
    {
     "name": "stdout",
     "output_type": "stream",
     "text": [
      "vanilla\n",
      "3\n"
     ]
    }
   ],
   "source": [
    "print(my_ice.flavor)\n",
    "print(my_ice.price)"
   ]
  },
  {
   "cell_type": "code",
   "execution_count": 93,
   "metadata": {},
   "outputs": [
    {
     "name": "stdout",
     "output_type": "stream",
     "text": [
      "2\n"
     ]
    }
   ],
   "source": [
    "my_ice.lower_price(1)\n",
    "print(my_ice.price)"
   ]
  },
  {
   "cell_type": "code",
   "execution_count": 94,
   "metadata": {},
   "outputs": [
    {
     "name": "stdout",
     "output_type": "stream",
     "text": [
      "6\n"
     ]
    }
   ],
   "source": [
    "my_ice.higher_price(4)\n",
    "print(my_ice.price)"
   ]
  },
  {
   "cell_type": "markdown",
   "metadata": {},
   "source": [
    "<h3>Suprise! Everything is a object!</h3>\n",
    "\n",
    "Every datatype we learned about till now is a\n",
    "class and everytime we assign a value we create\n",
    "an object. That means there are predefined functions\n",
    "we can apply to those.\n",
    "Lets look at some:"
   ]
  },
  {
   "cell_type": "markdown",
   "metadata": {},
   "source": [
    "<h4>Strings</h4>"
   ]
  },
  {
   "cell_type": "code",
   "execution_count": 115,
   "metadata": {
    "scrolled": true
   },
   "outputs": [
    {
     "name": "stdout",
     "output_type": "stream",
     "text": [
      " This is a short example \n",
      " this is a short example \n",
      " THIS IS A SHORT EXAMPLE \n",
      "This is a short example\n",
      "['', 'This', 'is', 'a', 'short', 'example', '']\n",
      "3\n"
     ]
    }
   ],
   "source": [
    "a = \" This is a short example \"\n",
    "print(a)\n",
    "print(a.lower())\n",
    "print(a.upper())\n",
    "print(a.strip(\" \"))\n",
    "print(a.split(\" \"))\n",
    "print(a.find(\"i\"))"
   ]
  },
  {
   "cell_type": "markdown",
   "metadata": {},
   "source": [
    "<h4>Lists</h4>"
   ]
  },
  {
   "cell_type": "code",
   "execution_count": 138,
   "metadata": {},
   "outputs": [
    {
     "name": "stdout",
     "output_type": "stream",
     "text": [
      "[1, 2, 3, 4]\n",
      "[1, 2, 4]\n"
     ]
    }
   ],
   "source": [
    "a = [1,2,3]\n",
    "a.append(4)\n",
    "print(a)\n",
    "a.pop(2)\n",
    "print(a)"
   ]
  },
  {
   "cell_type": "markdown",
   "metadata": {},
   "source": [
    "<h4>Dictionaries</h4>"
   ]
  },
  {
   "cell_type": "code",
   "execution_count": 145,
   "metadata": {},
   "outputs": [
    {
     "name": "stdout",
     "output_type": "stream",
     "text": [
      "{'France': 'Paris', 'Spain': 'Madrid'}\n",
      "dict_keys(['France', 'Spain'])\n",
      "dict_values(['Paris', 'Madrid'])\n",
      "dict_items([('France', 'Paris'), ('Spain', 'Madrid')])\n",
      "{'France': 'Paris', 'Spain': 'Madrid', 'Hungray': 'Budapest'}\n"
     ]
    }
   ],
   "source": [
    "a = {\"France\":\"Paris\",\"Spain\":\"Madrid\"}\n",
    "print(a)\n",
    "print(a.keys())\n",
    "print(a.values())\n",
    "print(a.items())\n",
    "a.update({\"Hungray\":\"Budapest\"})\n",
    "print(a)"
   ]
  }
 ],
 "metadata": {
  "kernelspec": {
   "display_name": "Python 3",
   "language": "python",
   "name": "python3"
  },
  "language_info": {
   "codemirror_mode": {
    "name": "ipython",
    "version": 3
   },
   "file_extension": ".py",
   "mimetype": "text/x-python",
   "name": "python",
   "nbconvert_exporter": "python",
   "pygments_lexer": "ipython3",
   "version": "3.6.8"
  }
 },
 "nbformat": 4,
 "nbformat_minor": 2
}
