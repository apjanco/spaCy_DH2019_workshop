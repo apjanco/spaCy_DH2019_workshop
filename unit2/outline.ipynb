{
 "cells": [
  {
   "cell_type": "code",
   "execution_count": 1,
   "metadata": {},
   "outputs": [],
   "source": [
    "%load_ext autoreload\n",
    "%autoreload 2\n",
    "from IPython.core.display import display, HTML"
   ]
  },
  {
   "cell_type": "markdown",
   "metadata": {},
   "source": [
    "# TEI to spaCy\n",
    "\n",
    "## Contents\n",
    "\n",
    "1. Basic Pipeline from TEI to Spacy with annotations on document-level\n",
    "\n",
    "    1. load 50 TEI encoded XMLs from Deutsches Textarchiv\n",
    "    2. Extract plain text and author GND\n",
    "    3. Annotate each document with it's author id\n",
    "\n",
    "2. A little more advanced Pipeline from TEI to Spacy annotations on character-level\n",
    "    1. load 50 TEI encoded XMLs from Berliner Intellektuelle\n",
    "    2. Extract initial and last version\n",
    "    3. annotate sub-tokens that have been added or deleted\n",
    "    \n",
    "3. Loading word vectors from fasttext"
   ]
  },
  {
   "cell_type": "code",
   "execution_count": 2,
   "metadata": {},
   "outputs": [],
   "source": [
    "from tei_dataloader import dta_loader, bi_loader, wilhelminus_loader\n",
    "from tei_dataloader import extract_text_versions_from_etree as extract_versions\n",
    "import numpy as np\n",
    "from lxml import etree\n",
    "\n",
    "spec = {\"tei\":\"http://www.tei-c.org/ns/1.0\"}"
   ]
  },
  {
   "cell_type": "markdown",
   "metadata": {},
   "source": [
    "## 1. Basic Pipeline from TEI to Spacy with annotations on document-level"
   ]
  },
  {
   "cell_type": "markdown",
   "metadata": {},
   "source": [
    "### 1.1 Deutsches Textarchiv"
   ]
  },
  {
   "cell_type": "code",
   "execution_count": 3,
   "metadata": {},
   "outputs": [
    {
     "name": "stdout",
     "output_type": "stream",
     "text": [
      "XMLSyntaxError\n"
     ]
    }
   ],
   "source": [
    "txts = []\n",
    "labels = []\n",
    "\n",
    "for dta_doc in dta_loader():\n",
    "    \n",
    "    # find out author GND from XML\n",
    "    authors = dta_doc.xpath(\".//tei:author/tei:persName\", namespaces=spec)\n",
    "    \n",
    "    author_gnd = None\n",
    "    for author in authors:\n",
    "        if \"ref\" in author.attrib:\n",
    "            author_gnd = author.attrib[\"ref\"]\n",
    "            break\n",
    "    author_gnd = \"anonymous\" if author_gnd == None else author_gnd\n",
    "    \n",
    "    # retrieve plain text\n",
    "    new_txt = []\n",
    "    for body in dta_doc.findall(\".//tei:body\", namespaces=spec):\n",
    "        new_txt.append(''.join(body.itertext()).strip())\n",
    "    txts.append(''.join(new_txt))\n",
    "    labels.append(author_gnd)\n",
    "        "
   ]
  },
  {
   "cell_type": "code",
   "execution_count": 4,
   "metadata": {},
   "outputs": [
    {
     "name": "stdout",
     "output_type": "stream",
     "text": [
      "http://d-nb.info/gnd/11856109X\n",
      "Erſtes Kapitel.\n",
      "  Am fruͤhen Morgen, als Sonnenglanz durch\n",
      "das viele Laubwerk in's Zimmer drang, wur\n"
     ]
    },
    {
     "data": {
      "text/plain": [
       "523"
      ]
     },
     "execution_count": 4,
     "metadata": {},
     "output_type": "execute_result"
    }
   ],
   "source": [
    "print(labels[0])\n",
    "print(txts[0][:100])\n",
    "len(txts)"
   ]
  },
  {
   "cell_type": "code",
   "execution_count": 5,
   "metadata": {},
   "outputs": [],
   "source": [
    "from collections import Counter\n",
    "authors, _ = zip(*Counter(labels).most_common(2))\n",
    "authors\n",
    "\n",
    "two_class_txts, two_class_labels = [], []\n",
    "for txt, label in zip(txts, labels):\n",
    "    if label in authors:\n",
    "        two_class_txts.append(txt)\n",
    "        two_class_labels.append(label)"
   ]
  },
  {
   "cell_type": "code",
   "execution_count": 3,
   "metadata": {},
   "outputs": [],
   "source": [
    "import spacy\n",
    "\n",
    "spacy.tokens.Doc.set_extension('author', default=None, force=True)\n",
    "\n",
    "nlp_de = spacy.load(\"de\", disable=['parser', 'tagger', 'ner'])\n",
    "nlp_nl = spacy.load(\"nl\", disable=['parser', 'tagger', 'ner'])"
   ]
  },
  {
   "cell_type": "code",
   "execution_count": 7,
   "metadata": {
    "scrolled": true
   },
   "outputs": [],
   "source": [
    "docs = []\n",
    "for author,doc in zip(two_class_labels, nlp_de.pipe(two_class_txts)):\n",
    "    doc._.set(\"author\", author)\n",
    "    docs.append(doc)"
   ]
  },
  {
   "cell_type": "code",
   "execution_count": 8,
   "metadata": {},
   "outputs": [
    {
     "data": {
      "text/plain": [
       "'http://d-nb.info/gnd/118557211'"
      ]
     },
     "execution_count": 8,
     "metadata": {},
     "output_type": "execute_result"
    }
   ],
   "source": [
    "docs[0]._.author"
   ]
  },
  {
   "cell_type": "markdown",
   "metadata": {},
   "source": [
    "### Example for text classification"
   ]
  },
  {
   "cell_type": "code",
   "execution_count": 4,
   "metadata": {},
   "outputs": [],
   "source": [
    "def evaluate(tokenizer, textcat, docs, cats):\n",
    "\n",
    "    tp = 0.0   # True positives\n",
    "    fp = 1e-8  # False positives\n",
    "    fn = 1e-8  # False negatives\n",
    "    tn = 0.0   # True negatives\n",
    "    for i, doc in enumerate(textcat.pipe(docs)):\n",
    "        gold = cats[i]\n",
    "        for label, score in doc.cats.items():\n",
    "            if label not in gold:\n",
    "                continue\n",
    "            if score >= 0.5 and gold[label] >= 0.5:\n",
    "                tp += 1.\n",
    "            elif score >= 0.5 and gold[label] < 0.5:\n",
    "                fp += 1.\n",
    "            elif score < 0.5 and gold[label] < 0.5:\n",
    "                tn += 1\n",
    "            elif score < 0.5 and gold[label] >= 0.5:\n",
    "                fn += 1\n",
    "    precision = tp / (tp + fp)\n",
    "    recall = tp / (tp + fn)\n",
    "    f_score = 2 * (precision * recall) / (precision + recall)\n",
    "    return {'textcat_p': precision, 'textcat_r': recall, 'textcat_f': f_score}"
   ]
  },
  {
   "cell_type": "code",
   "execution_count": 5,
   "metadata": {
    "scrolled": false
   },
   "outputs": [],
   "source": [
    "from sklearn.model_selection import train_test_split\n",
    "\n",
    "def create_textcat(docs, nlp):\n",
    "    labels = [doc._.author for doc in docs]\n",
    "    authors = list(set(labels))\n",
    "    texts, labels = docs, [{author:True if label == author else False for author in authors} for label in labels]\n",
    "\n",
    "    X_train, X_test, y_train, y_test = train_test_split(texts, labels)\n",
    "\n",
    "    train_data = list(zip(X_train, [{'cats': cats} for cats in y_train]))\n",
    "\n",
    "    if 'textcat' not in nlp.pipe_names:\n",
    "        textcat = nlp.create_pipe('textcat')\n",
    "        nlp.add_pipe(textcat, last=True)\n",
    "    else:\n",
    "        # otherwise, get it, so we can add labels to it\n",
    "        textcat = nlp.get_pipe('textcat')\n",
    "\n",
    "    for author in authors:\n",
    "        textcat.add_label(author)\n",
    "\n",
    "    return textcat, train_data, (X_test, y_test)"
   ]
  },
  {
   "cell_type": "code",
   "execution_count": 6,
   "metadata": {},
   "outputs": [],
   "source": [
    "from spacy.util import minibatch, compounding\n",
    "\n",
    "def train(train_data, test_data, nlp, textcat):\n",
    "\n",
    "    other_pipes = [pipe for pipe in nlp.pipe_names if pipe != 'textcat']\n",
    "    with nlp.disable_pipes(*other_pipes):  # only train textcat\n",
    "        optimizer = nlp.begin_training()\n",
    "        print(\"Training the model...\")\n",
    "        print('{:^5}\\t{:^5}\\t{:^5}\\t{:^5}'.format('LOSS', 'P', 'R', 'F'))\n",
    "        for i in range(5):\n",
    "            losses = {}\n",
    "            # batch up the examples using spaCy's minibatch\n",
    "            batches = minibatch(train_data, size=compounding(4., 32., 1.001))\n",
    "            for batch in batches:\n",
    "                texts, annotations = zip(*batch)\n",
    "                nlp.update(texts, annotations, sgd=optimizer, drop=0.2,\n",
    "                           losses=losses)\n",
    "            with textcat.model.use_params(optimizer.averages):\n",
    "                # evaluate on the dev data split off in load_data()\n",
    "                scores = evaluate(nlp.tokenizer, textcat, *test_data)\n",
    "            print('{0:.3f}\\t{1:.3f}\\t{2:.3f}\\t{3:.3f}'  # print a simple table\n",
    "                  .format(losses['textcat'], scores['textcat_p'],\n",
    "                          scores['textcat_r'], scores['textcat_f']))\n",
    "\n",
    "#textcat, train_data, test_data = create_textcat(docs, nlp_de)\n",
    "#train(train_data, test_data, nlp_de, textcat)"
   ]
  },
  {
   "cell_type": "markdown",
   "metadata": {},
   "source": [
    "## 1.2 Wilhelminus Challenge"
   ]
  },
  {
   "cell_type": "code",
   "execution_count": 7,
   "metadata": {},
   "outputs": [
    {
     "name": "stdout",
     "output_type": "stream",
     "text": [
      "Wilhelmus van Nassouwe\n",
      "        Ben ick van Duytschen bloet,\n",
      "        Den Vaderlant ghetrouwe\n",
      "        Blijf ick tot inden doot:\n",
      "        Een Prince van Oraengien\n",
      "        Ben ick vrij onverveert,\n",
      "        Den Coninck van Hispaengien\n",
      "        Heb ick altijt gheeert.\n",
      "      \n",
      "      \n",
      "        In Godes vrees te leven\n",
      "        Heb ick altijt betracht,\n",
      "        Daerom ben ick verdreven\n",
      "        Om Landt om Luyd ghebracht:\n",
      "        Maer Godt sal my regeren\n",
      "        Als een goet Instrument,\n",
      "        Dat ick sal wederkeeren\n",
      "        In mijnen Regiment.\n",
      "      \n",
      "      \n",
      "        Lijdt u mijn Ondersaten\n",
      "        Die oprecht zijn van aert,\n",
      "        Godt sal u niet verlaten,\n",
      "        Al zijt ghy nu beswaert:\n",
      "        Die vroom begheert te leven\n",
      "        Bidt Godt nacht ende dach,\n",
      "        Dat hy my cracht wil gheven\n",
      "        Dat ick u helpen mach.\n",
      "      \n",
      "      \n",
      "        Lijf en goet al te samen\n",
      "        Heb ick u niet verschoont,\n",
      "        Mijn Broeders hooch van Namen\n",
      "        Hebbent u oock vertoont:\n",
      "        Graef Adolff is ghebleven,\n",
      "        In Vrieslandt in den Slach,\n",
      "        Zijn Siel int eewich Leven\n",
      "        Verwacht den Jongsten dach.\n",
      "      \n",
      "      \n",
      "        Edel en Hooch gheboren\n",
      "        Van Keyserlicken Stam:\n",
      "        Een Vorst des Rijcks vercoren\n",
      "        Als een vroom Christen Man,\n",
      "        Voor Godes Woort ghepreesen,\n",
      "        Heb ick vrij onversaecht,\n",
      "        Als een Helt sonder vreesen\n",
      "        Mijn Edel bloet ghewaecht.\n",
      "      \n",
      "      \n",
      "        Mijn Schilt ende betrouwen\n",
      "        Sijt ghy, o Godt mijn Heer,\n",
      "        Op u soo wil ick bouwen\n",
      "        Verlaet my nemmermeer:\n",
      "        Dat ick doch vroom mach blijven\n",
      "        U dienaer taller stondt\n",
      "        Die Tyranny verdrijven,\n",
      "        Die my mijn hert doorwondt.\n",
      "      \n",
      "      \n",
      "        Van al die my beswaren,\n",
      "        End mijn Vervolghers zijn,\n",
      "        Mijn Godt wilt doch bewaren\n",
      "        Den trouwen dienaer dijn:\n",
      "        Dat sy my niet verrasschen\n",
      "        In haren boosen moet,\n",
      "        Haer handen niet en wasschen\n",
      "        In mijn onschuldich bloet.\n",
      "      \n",
      "      \n",
      "        Als David moeste vluchten\n",
      "        Voor Saul den Tyran:\n",
      "        Soo heb ick moeten suchten\n",
      "        Met menich Edelman:\n",
      "        Maer Godt heeft hem verheven,\n",
      "        Verlost uut alder noot,\n",
      "        Een Coninckrijck ghegheven\n",
      "        In Israel seer groot.\n",
      "      \n",
      "      \n",
      "        Nae tsuer sal ick ontfanghen:\n",
      "        Van Godt mijn Heer dat soet,\n",
      "        Daer na so doet verlanghen\n",
      "        Mijn Vorstelick ghemoet,\n",
      "        Dat is dat ick mach sterven\n",
      "        Met eeren in dat Velt,\n",
      "        Een eewich Rijck verwerven\n",
      "        Als een ghetrouwe Helt.\n",
      "      \n",
      "      \n",
      "        Niet doet my meer erbarmen\n",
      "        In mijnen wederspoet,\n",
      "        Dan datmen siet verarmen\n",
      "        Des Conincks Landen goet,\n",
      "        Dat u de Spaengiaerts crencken\n",
      "        O Edel Neerlandt soet,\n",
      "        Als ick daer aen ghedencke\n",
      "        Mijn Edel hert dat bloet.\n",
      "      \n",
      "      \n",
      "        Als een Prins op gheseten\n",
      "        Met mijner Heyres cracht,\n",
      "        Vanden Tyran vermeten\n",
      "        Heb ick den Slach verwacht,\n",
      "        Die by Maestricht begraven\n",
      "        Bevreesde mijn ghewelt,\n",
      "        Mijn Ruyters sachmen draven\n",
      "        Seer moedich door dat Velt.\n",
      "      \n",
      "      \n",
      "        Soo het den wille des Heeren\n",
      "        Op die tijt had gheweest,\n",
      "        Had ick gheern willen keeren\n",
      "        Van u dit swaer tempeest:\n",
      "        Maer de Heer van hier boven\n",
      "        Die alle dinck regeert,\n",
      "        Diemen altijt moet loven\n",
      "        En heeftet niet begheert.\n",
      "      \n",
      "      \n",
      "        Seer Prinslick was ghedreven\n",
      "        Mijn Princelick ghemoet,\n",
      "        Stantvastich is ghebleven\n",
      "        Mijn hert in teghenspoet,\n",
      "        Den Heer heb ick ghebeden\n",
      "        Van mijnes herten gront,\n",
      "        Dat hy mijn saeck wil reden,\n",
      "        Mijn onschult doen bekant.\n",
      "      \n",
      "      \n",
      "        Oorlof mijn arme Schapen\n",
      "        Die zijt in grooten noot,\n",
      "        U Herder sal niet slapen\n",
      "        Al zijt ghy nu verstroyt:\n",
      "        Tot Godt wilt u begheven,\n",
      "        Sijn heylsaem Woort neemt aen,\n",
      "        Als vrome Christen leven,\n",
      "        Tsal hier haest zijn ghedaan.\n",
      "      \n",
      "      \n",
      "        Voor Godt wil ick belijden\n",
      "        End zijner grooter Macht,\n",
      "        Dat ick tot gheenen tijden\n",
      "        Den Coninck heb veracht:\n",
      "        Dan dat ick Godt den Heere\n",
      "        Der Hoochster Majesteyt,\n",
      "        Heb moeten obedieren,\n",
      "        Inder gherechticheyt.\n"
     ]
    }
   ],
   "source": [
    "wilhelminus5135 = 'Wilhelmus van Nassouwe\\n        Ben ick van Duytschen bloet,\\n        Den Vaderlant ghetrouwe\\n        Blijf ick tot inden doot:\\n        Een Prince van Oraengien\\n        Ben ick vrij onverveert,\\n        Den Coninck van Hispaengien\\n        Heb ick altijt gheeert.\\n      \\n      \\n        In Godes vrees te leven\\n        Heb ick altijt betracht,\\n        Daerom ben ick verdreven\\n        Om Landt om Luyd ghebracht:\\n        Maer Godt sal my regeren\\n        Als een goet Instrument,\\n        Dat ick sal wederkeeren\\n        In mijnen Regiment.\\n      \\n      \\n        Lijdt u mijn Ondersaten\\n        Die oprecht zijn van aert,\\n        Godt sal u niet verlaten,\\n        Al zijt ghy nu beswaert:\\n        Die vroom begheert te leven\\n        Bidt Godt nacht ende dach,\\n        Dat hy my cracht wil gheven\\n        Dat ick u helpen mach.\\n      \\n      \\n        Lijf en goet al te samen\\n        Heb ick u niet verschoont,\\n        Mijn Broeders hooch van Namen\\n        Hebbent u oock vertoont:\\n        Graef Adolff is ghebleven,\\n        In Vrieslandt in den Slach,\\n        Zijn Siel int eewich Leven\\n        Verwacht den Jongsten dach.\\n      \\n      \\n        Edel en Hooch gheboren\\n        Van Keyserlicken Stam:\\n        Een Vorst des Rijcks vercoren\\n        Als een vroom Christen Man,\\n        Voor Godes Woort ghepreesen,\\n        Heb ick vrij onversaecht,\\n        Als een Helt sonder vreesen\\n        Mijn Edel bloet ghewaecht.\\n      \\n      \\n        Mijn Schilt ende betrouwen\\n        Sijt ghy, o Godt mijn Heer,\\n        Op u soo wil ick bouwen\\n        Verlaet my nemmermeer:\\n        Dat ick doch vroom mach blijven\\n        U dienaer taller stondt\\n        Die Tyranny verdrijven,\\n        Die my mijn hert doorwondt.\\n      \\n      \\n        Van al die my beswaren,\\n        End mijn Vervolghers zijn,\\n        Mijn Godt wilt doch bewaren\\n        Den trouwen dienaer dijn:\\n        Dat sy my niet verrasschen\\n        In haren boosen moet,\\n        Haer handen niet en wasschen\\n        In mijn onschuldich bloet.\\n      \\n      \\n        Als David moeste vluchten\\n        Voor Saul den Tyran:\\n        Soo heb ick moeten suchten\\n        Met menich Edelman:\\n        Maer Godt heeft hem verheven,\\n        Verlost uut alder noot,\\n        Een Coninckrijck ghegheven\\n        In Israel seer groot.\\n      \\n      \\n        Nae tsuer sal ick ontfanghen:\\n        Van Godt mijn Heer dat soet,\\n        Daer na so doet verlanghen\\n        Mijn Vorstelick ghemoet,\\n        Dat is dat ick mach sterven\\n        Met eeren in dat Velt,\\n        Een eewich Rijck verwerven\\n        Als een ghetrouwe Helt.\\n      \\n      \\n        Niet doet my meer erbarmen\\n        In mijnen wederspoet,\\n        Dan datmen siet verarmen\\n        Des Conincks Landen goet,\\n        Dat u de Spaengiaerts crencken\\n        O Edel Neerlandt soet,\\n        Als ick daer aen ghedencke\\n        Mijn Edel hert dat bloet.\\n      \\n      \\n        Als een Prins op gheseten\\n        Met mijner Heyres cracht,\\n        Vanden Tyran vermeten\\n        Heb ick den Slach verwacht,\\n        Die by Maestricht begraven\\n        Bevreesde mijn ghewelt,\\n        Mijn Ruyters sachmen draven\\n        Seer moedich door dat Velt.\\n      \\n      \\n        Soo het den wille des Heeren\\n        Op die tijt had gheweest,\\n        Had ick gheern willen keeren\\n        Van u dit swaer tempeest:\\n        Maer de Heer van hier boven\\n        Die alle dinck regeert,\\n        Diemen altijt moet loven\\n        En heeftet niet begheert.\\n      \\n      \\n        Seer Prinslick was ghedreven\\n        Mijn Princelick ghemoet,\\n        Stantvastich is ghebleven\\n        Mijn hert in teghenspoet,\\n        Den Heer heb ick ghebeden\\n        Van mijnes herten gront,\\n        Dat hy mijn saeck wil reden,\\n        Mijn onschult doen bekant.\\n      \\n      \\n        Oorlof mijn arme Schapen\\n        Die zijt in grooten noot,\\n        U Herder sal niet slapen\\n        Al zijt ghy nu verstroyt:\\n        Tot Godt wilt u begheven,\\n        Sijn heylsaem Woort neemt aen,\\n        Als vrome Christen leven,\\n        Tsal hier haest zijn ghedaan.\\n      \\n      \\n        Voor Godt wil ick belijden\\n        End zijner grooter Macht,\\n        Dat ick tot gheenen tijden\\n        Den Coninck heb veracht:\\n        Dan dat ick Godt den Heere\\n        Der Hoochster Majesteyt,\\n        Heb moeten obedieren,\\n        Inder gherechticheyt.'\n",
    "print(wilhelminus5135)"
   ]
  },
  {
   "cell_type": "code",
   "execution_count": 8,
   "metadata": {},
   "outputs": [
    {
     "name": "stdout",
     "output_type": "stream",
     "text": [
      "XMLSyntaxError\n",
      "XMLSyntaxError\n",
      "XMLSyntaxError\n",
      "XMLSyntaxError\n",
      "Author tag not found\n",
      "XMLSyntaxError\n"
     ]
    }
   ],
   "source": [
    "def get_author(tree):\n",
    "    authors = tree.xpath(\".//author\")\n",
    "    if len(authors) == 1:\n",
    "        return authors[0].text\n",
    "    else:\n",
    "        print(\"Author tag not found\")\n",
    "        return None\n",
    "\n",
    "def get_text(tree):\n",
    "    text = tree.xpath(\".//text\")\n",
    "    if len(text) == 1:\n",
    "        return ''.join(text[0].itertext()).strip()\n",
    "    else:\n",
    "        print(\"Text tag not found\")\n",
    "        return None\n",
    "\n",
    "        \n",
    "txts = []\n",
    "labels = []\n",
    "for wilheminus_doc in wilhelminus_loader():\n",
    "    txts.append(get_text(wilheminus_doc))\n",
    "    labels.append(get_author(wilheminus_doc))"
   ]
  },
  {
   "cell_type": "code",
   "execution_count": 9,
   "metadata": {},
   "outputs": [
    {
     "data": {
      "text/plain": [
       "27769"
      ]
     },
     "execution_count": 9,
     "metadata": {},
     "output_type": "execute_result"
    }
   ],
   "source": [
    "len(labels)"
   ]
  },
  {
   "cell_type": "code",
   "execution_count": 10,
   "metadata": {},
   "outputs": [
    {
     "name": "stdout",
     "output_type": "stream",
     "text": [
      "Johan Fruytiers 67\n",
      "D.V. Coornhert 80\n",
      "Philips van Marnix van Sint Aldegonde 72\n",
      "Pieter Datheen 125\n"
     ]
    }
   ],
   "source": [
    "chosen_authors = [\"Johan Fruytiers\", \"D.V. Coornhert\", \"Philips van Marnix van Sint Aldegonde\", \"Pieter Datheen\"]\n",
    "\n",
    "for cauthor in chosen_authors:\n",
    "    print(cauthor, labels.count(cauthor))\n",
    "    \n",
    "#chosen_authors = set()\n",
    "#for author in labels:\n",
    "#    if labels.count(author) > 60 and author not in [\"Anonymous\", \"anoniem\", \"8904\", None] and \", \" not in author:\n",
    "#        chosen_authors.add(author)    "
   ]
  },
  {
   "cell_type": "code",
   "execution_count": 11,
   "metadata": {},
   "outputs": [
    {
     "name": "stdout",
     "output_type": "stream",
     "text": [
      "number of documents,  344\n"
     ]
    }
   ],
   "source": [
    "docs = []        \n",
    "\n",
    "for author,txt in zip(labels, txts):\n",
    "    if author in chosen_authors:\n",
    "        doc = nlp_nl(txt)\n",
    "        doc._.set(\"author\", author)\n",
    "        docs.append(doc)\n",
    "        \n",
    "print(\"number of documents, \", len(docs))"
   ]
  },
  {
   "cell_type": "code",
   "execution_count": 13,
   "metadata": {
    "scrolled": false
   },
   "outputs": [
    {
     "name": "stdout",
     "output_type": "stream",
     "text": [
      "len(train_data) 2\n",
      "len(test_data) 86\n",
      "Warning: Unnamed vectors -- this won't allow multiple vectors models to be loaded. (Shape: (0, 0))\n",
      "Training the model...\n",
      "LOSS \t  P  \t  R  \t  F  \n",
      "33.238\t0.955\t0.744\t0.837\n",
      "12.461\t1.000\t0.919\t0.958\n",
      "4.169\t0.975\t0.919\t0.946\n",
      "1.591\t0.988\t0.977\t0.982\n",
      "0.540\t0.977\t0.977\t0.977\n"
     ]
    }
   ],
   "source": [
    "textcat, train_data, test_data = create_textcat(docs, nlp_nl)\n",
    "print(\"len(train_data)\", len(train_data[1]))\n",
    "print(\"len(test_data)\", len(test_data[1]))\n",
    "train(train_data, test_data, nlp_nl, textcat)"
   ]
  },
  {
   "cell_type": "code",
   "execution_count": 15,
   "metadata": {},
   "outputs": [
    {
     "data": {
      "text/plain": [
       "{'Johan Fruytiers': 0.7054607272148132,\n",
       " 'Philips van Marnix van Sint Aldegonde': 0.0050908648408949375,\n",
       " 'Pieter Datheen': 4.539787187241018e-05,\n",
       " 'D.V. Coornhert': 0.00021142925834283233}"
      ]
     },
     "execution_count": 15,
     "metadata": {},
     "output_type": "execute_result"
    }
   ],
   "source": [
    "wilhelminus5135_doc = nlp_nl(wilhelminus5135)\n",
    "prediction = textcat(wilhelminus5135_doc)\n",
    "prediction.cats"
   ]
  },
  {
   "cell_type": "markdown",
   "metadata": {},
   "source": [
    "## 2. Spacy annotations on character-level"
   ]
  },
  {
   "cell_type": "code",
   "execution_count": 16,
   "metadata": {},
   "outputs": [],
   "source": [
    "import spacy\n",
    "from spacy.tokens import Token, Span\n",
    "\n",
    "Token.set_extension('initial', default=list(), force=True)\n",
    "Token.set_extension('final', default=list(), force=True)\n",
    "\n",
    "Token.set_extension(\n",
    "    'has_been_modified',\n",
    "    method=lambda token: np.sum(token._.initial ^ token._.final) != 0,\n",
    "    force=True\n",
    ")\n",
    "\n",
    "Span.set_extension(\n",
    "    'has_been_modified',\n",
    "    method=lambda span: any(t._.has_been_modified() for t in span),\n",
    "    force=True\n",
    ")\n",
    "\n",
    "nlp = spacy.load(\"de\", disable=['parser', 'tagger', 'ner'])\n",
    "nlp.add_pipe(nlp.create_pipe('sentencizer'))"
   ]
  },
  {
   "cell_type": "code",
   "execution_count": 17,
   "metadata": {},
   "outputs": [
    {
     "name": "stdout",
     "output_type": "stream",
     "text": [
      "XMLSyntaxError\n"
     ]
    }
   ],
   "source": [
    "docs = []\n",
    "nlp.max_length = 1e10\n",
    "for bi_doc in bi_loader():\n",
    "    for body in bi_doc.findall(\".//tei:body\", namespaces=spec):\n",
    "        doc, in_init, in_final = extract_versions(body)\n",
    "        spacified = nlp(doc)\n",
    "        for token in spacified:\n",
    "            token._.initial = np.array(in_init[token.idx:token.idx+len(token)])\n",
    "            token._.final = np.array(in_final[token.idx:token.idx+len(token)])\n",
    "        docs.append(spacified)"
   ]
  },
  {
   "cell_type": "code",
   "execution_count": 50,
   "metadata": {
    "scrolled": false
   },
   "outputs": [
    {
     "data": {
      "text/html": [
       "\n",
       "<div class=\"entities\" style=\"line-height: 2.5\"></br>            </br>                </br>                </br>                279</br>                Tieck an Raumer</br>                </br>                    Den 18 </br>                        Febr.Februar 401840</br>                    Mein geliebter Freund,</br>                </br>                Wieder habe ich so lange gezögert, Ihnen zu schreiben, </br>                    daß ich mich schämen muß. Doch – – &c &c — </br>                    Wie schöne Briefe habe ich seit dem von Ihnen erhalten! </br>                    Schöne, aber nicht erfreuliche. – Wie kommen Sie,  </br>                    + der ächte Mann, zu dieser Hypochondrie, zu dem Kleinmuth?1840-1842 erschien die </br>                        2. Auflage von Raumers Geschichte der Hohenstaufen. Die erneute Auseinandersetzung mit seinem Werk </br>                        (Erstveröffentlichung 1823–25) und dessen Rezeption machte Raumer offenbar zu schaffen, worauf neben dem dem vorliegenden Brief auch der Brief </br>                        Raumers an Tieck vom 14. Dezember 1839 hinweist. Dort berichtet Raumer von den zahlreichen kritischen Stimmen, die er zwar versucht, </br>                        von sich zu weisen, – „doch inkommodiren mich diese Flöhe, die man mir von allen Seiten in meinen Pelz setzt. [...] Doch was rede ich von Flöhen, </br>                        Männer sind meine Gegner.“ (Litterarischer Nachlaß II, S. 181).</br>                     </br>                    Ich muß Sie jezt selbst an das schöne Wort Schlözers an </br>                    Joh.Johann  </br>                    Müller erinnern, (der Brief ist jezt auch gedruckt) daß es  </br>                    Ihnen ziemt, über Alles das, was verdrüßlich sein  </br>                    möchte, kein Mouvement zu machen.Der Brief Schlözers an Müller, auf den Tieck anspielt, handelt vom Umgang mit Kritiken: „Eine Recension! </br>                        Eine Recension! – Mann, Schweizermann, seyen Sie größer! Sie kennen die Welt, also auch die literarische, hoffentlich auch noch die </br>                        literarische deutsche Welt. Wenn mir einer mündlich sagte, ich wäre ein Dummkopf, so geb’ ich ihm ein par Ohrfeigen. Sagt mir aber einer in einem </br>                        Epigramm oder in einer Recension, ich wäre ein Rindvieh, ich hätte gestolen, ich hätte einen falschen Eid getan, so mache ich kein mouvement. Und </br>                        Sie – einer Recension – eines Anonymi – wegen wollen die ganze Autorschaft aufgeben? O Mann! Schweizermann!“ (Schlözer an Müller, </br>                        16. Januar 1781, in: Briefe an Johann von Müller III, S. 49). </br>                    </br>                    </br>                        Den 22sten FebrFebruar   </br>                        Ihre Werke werden stehn bleiben und gelesen werden,  </br>                        wenn das Meiste der jetzigen Tage völlig vergessen ist. Es mag  </br>                        anmassend klingen, von der Zukunft prophezeien zu wollen, </br>                        aber es giebt doch auch ein Gefühl nicht nur, sondern selbst eine  </br>                        + Ueberzeugung und richtige Einsicht von der Vortreflichkeit eines  </br>                        Werkes, das unmöglich den gesunden und unpartheiischen Sinn  </br>                        täuschen kann. Wie jezt in der Physik alle 12 Wochen eine  </br>                        neue, unerhörte und ungeahndete Entdeckung auftaucht, über  </br>                        + welche die Kundigen jubeln, und neue Naturgesetze wahrnehmen,  </br>                        + wo ich als Laye nur neue Erscheinungen wahrnehmen kann, –  </br>                        + so eifern jezt viele neue Geschichtschreiber wett mit diesen,  </br>                        Alles neuzugestalten, ganz neue Ansichten zu erfinden, wie  </br>                        + oft willkührlich aus der Luft gegriffen, oder vorige, längst  </br>                        + ausgemachte Dinge fratzenhaft auf den Kopf zu stellen.  </br>                        Ranke mag sich nur hüthen, daß ihn seine zu rasche Combination  </br>                        und Entdeckungslust nicht in diese  Asterien? , in diese enfans  </br>                            perdus der wahren Armen hinein treibt. LangenMöglicherweise ist  </br>                                Friedrich Albert von Langenn gemeint. hier (ihr wahrer  </br>                        Freund und Bewundrer) erzählte mir, daß er den faulen Kaiser Frd III  </br>                        in seinem neusten Buche Buch von Langen? um 1840 über Frd III?  rechtfertigen, und so zu sagen bewundern will. </br>                    </br>                </br>                                      </br>                    </br>                   </br>                       Den 25sten </br>                           Febr.Februar — Sie haben uns mit Bewußtsein und begründet von  </br>                       allen zuerst eine wahre Kunde, keine bloß poetisirende, vom MittelAlter, </br>                       seiner Herrlichkeit, dem Reichthum und der Mannigfaltigkeit der  </br>                       Zeit gegeben: diese ausdauernde Begeisterung und das Resultat eines </br>                       zwanzigjährigen Studiums ist nun als feste Basis, als Tempel,  </br>                       als Pallast für alle Zeiten da. Einzelnes mag neu entwickelt, </br>                       aufgefunden, anders bedingt werden; die Sache an sich, als Geschichte, </br>                       ist abgemacht, – </br>                   </br>                   </br>                      Den 28sten Febr.Februar </br>                       Und, wie einfach, fest, sicher Alles, umnun weiter zu bauen, </br>                       und vor und rückwärts die Zeit zu verstehn, denn dieser Glanzpunkt  </br>                       der Hohenstaufen beleuchtet erst richtig die grossen, so zu sagen homerischen </br>                       Ottonen, und die bürgerlichen gutmüthigen Habsburger und Nachfolger,  </br>                       bis mit Carl V. wieder, in anderer Art, deutsche Geschichte die Weltgeschichte </br>                       wird. [Stempel:] Staatsbibliothek Preußischer Kulturbesitz</br>                   </br>                   </br>                      \n",
       "<mark class=\"entity\" style=\"background: #d62728; padding: 0.45em 0.6em; margin: 0 0.25em; line-height: 1; border-radius: 0.35em; box-decoration-break: clone; -webkit-box-decoration-break: clone\">\n",
       "    30ster\n",
       "    <span style=\"font-size: 0.8em; font-weight: bold; line-height: 1; border-radius: 0.35em; text-transform: uppercase; vertical-align: middle; margin-left: 0.5rem\">DEL</span>\n",
       "</mark>\n",
       " \n",
       "<mark class=\"entity\" style=\"background: #d62728; padding: 0.45em 0.6em; margin: 0 0.25em; line-height: 1; border-radius: 0.35em; box-decoration-break: clone; -webkit-box-decoration-break: clone\">\n",
       "    Febr\n",
       "    <span style=\"font-size: 0.8em; font-weight: bold; line-height: 1; border-radius: 0.35em; text-transform: uppercase; vertical-align: middle; margin-left: 0.5rem\">DEL</span>\n",
       "</mark>\n",
       "\n",
       "<mark class=\"entity\" style=\"background: #d62728; padding: 0.45em 0.6em; margin: 0 0.25em; line-height: 1; border-radius: 0.35em; box-decoration-break: clone; -webkit-box-decoration-break: clone\">\n",
       "    .\n",
       "    <span style=\"font-size: 0.8em; font-weight: bold; line-height: 1; border-radius: 0.35em; text-transform: uppercase; vertical-align: middle; margin-left: 0.5rem\">DEL</span>\n",
       "</mark>\n",
       " </br>                          \n",
       "<mark class=\"entity\" style=\"background: #2ca02c; padding: 0.45em 0.6em; margin: 0 0.25em; line-height: 1; border-radius: 0.35em; box-decoration-break: clone; -webkit-box-decoration-break: clone\">\n",
       "    1\n",
       "    <span style=\"font-size: 0.8em; font-weight: bold; line-height: 1; border-radius: 0.35em; text-transform: uppercase; vertical-align: middle; margin-left: 0.5rem\">ADD</span>\n",
       "</mark>\n",
       " \n",
       "<mark class=\"entity\" style=\"background: #2ca02c; padding: 0.45em 0.6em; margin: 0 0.25em; line-height: 1; border-radius: 0.35em; box-decoration-break: clone; -webkit-box-decoration-break: clone\">\n",
       "    M.März\n",
       "    <span style=\"font-size: 0.8em; font-weight: bold; line-height: 1; border-radius: 0.35em; text-transform: uppercase; vertical-align: middle; margin-left: 0.5rem\">ADD</span>\n",
       "</mark>\n",
       " Im̄er gestört \n",
       "                       uund unterbrochen! – Was mich auch bewog, meinen  \n",
       "                       Brief aufzuschieben, war die fast gewisse Nachricht, daß Sie Ostern nicht zu \n",
       "                       uns kommen würden. Ich hoffe, das wird noch abgeändert, denn ich darüber  \n",
       "                       bisher so melankolisch gewesen, daß es mich an Allem gehindert hat. \n",
       "                   \n",
       "                   \n",
       "                    2 März Also, Sie kommen? Nicht wahr? Das muß ich, scheint es, \n",
       "                       aufgeben, daß Sie recht lange hier verweilen. – Den Brief, der nun \n",
       "                       von Ihnen an Dorothee geschrieben ist, giebt mir die Hofnung, Sie zu sehn. – \n",
       "                       Die Muse mag mir verzeihen, wenn ich darinn Unrecht habe, daß ich \n",
       "                       St.Steffens  \n",
       "                       Religionsfil.Religionsphilosophie für ein ganz schlechtes, verfehltes Buch halte, \n",
       "                       daß der Absicht \n",
       "                       auf keine Weise entspricht. Mir scheint es das alte Wesen, was schon in der  \n",
       "                       Anthrop.Anthropologie in den \n",
       "                       Carricaturen und schon sonst von ihm vorgetragen ist: \n",
       "                       nur hier noch ein angewendetes, willkührliches Christenthum auf  \n",
       "                       seine schwankende, halb phantasirende Naturphil.Naturphilosophie gepfropft: – oder \n",
       "                       eine sonst musikal.musikalische Naturphil.Naturphilosophie und \n",
       "                       etude auf ein altes Volkslied  \n",
       "                       von Christenthum monoton variirend gelegt und applicirt. (Aber \n",
       "                       meine scharfe Tadelsucht nicht ausgeplaudert.) Wollte doch \n",
       "                       St.Steffens wenigstens \n",
       "                       niemals von den Alten sprechen, oder von der Geschichte und \n",
       "                       Kunst und Poesie; da er von allen diesen grossen Gegenständen  \n",
       "                       gar keine Kenntniß nicht nur besizt, sondern ihm selbst der Sinn \n",
       "                       für diese Erscheinungen des Göttlichen abgeht. Ich habe eine sonderbare Erfahrung  \n",
       "                       beim Lesen gemacht. \n",
       "                                       \n",
       "                   \n",
       "                   \n",
       "                280\n",
       "                   Ich liebe Kant nicht. Seine Bücher liegen ganz ausserhalb meines \n",
       "                   Horizontes. Aber so oft St.Steffens eine Stelle von ihm anführt, \n",
       "                       wurde  \n",
       "                   mir wohl, heiter und behaglich, ja sogar poetisch. – Was unser Solger \n",
       "                       sich vorsezte, war doch etwas ganz Andres, wohl Entgegengeseztes.  \n",
       "                   Mache ich Erde, Natur zu einem schwachgemuthen Christen; sind mir \n",
       "                       alle Parabeln uund Allegorieen buchstäbliche Wahrheit: und wiederum  \n",
       "                       die Wirklichkeit uund alle Erscheinungen der Physik, die man neu entdeckte \n",
       "                   Naturgesetze nennen will, wieder nur Metaphern und Allegorien \n",
       "                       für die Offenbarung, so ist ein jeder Sophist dieser Aufgabe und Lösung  \n",
       "                   gewachsen. Und das fehlte uns wirklich noch, solche alexandrinische \n",
       "                       Sofisterei in die Religion hinein zu werfen, um unser Babel  \n",
       "                       noch mehr zu babelisiren. – Das Buch selbst – Worte! Worte! – \n",
       "                   \n",
       "                   \n",
       "                       Ich bin fast beschämt, daß mir Hagen die 3 grossen Quartanten \n",
       "                       zum Geschenk gemacht. Ich habe schon viel gelesen. Welche Masse von  \n",
       "                   Notizen und Nachweisungen, – aber wieder, – wie so oft unsre \n",
       "                       deutsche Forschung – wie formlos! Wie oft muß bei dieser Planlosigkeit \n",
       "                   dasselbe wiederholt werden, und wie schwindelt der Suchende \n",
       "                       fast seekrank in diesen Meereswellen unbehaglich umher.\n",
       "                   \n",
       "                   \n",
       "                       Unser Bülow sammelt hier uund anderwärts \n",
       "                       Subskribenten \n",
       "                       für die nachgelassenen Dramen der Adel.Adelheid Reinbold.Die \n",
       "                           geplante Ausgabe nachgelassener Dramen der 1839 verstorbenen Adelheid Reinbold kam nicht zustande. \n",
       "                       Wollten \n",
       "                       Sie nicht auch für Ihre Bekannten uund Umgebung eine List anlegen? \n",
       "                       Vieleicht daß doch Manche sich für interessiren. Der \n",
       "                       Preis möchte nur etwas mehr als Einen Th.Thaler betragen. \n",
       "                   \n",
       "                   \n",
       "                \n",
       "                       Möchten Sie nicht auch eine Aktie für den Stuttgarter \n",
       "                       Verein nehmen? Wen̄ es ist, so melden Sie es mir uund vieleicht  \n",
       "                       andren Liebhabern in Berl: denn ich sam̄le hier für dsediese \n",
       "                       geschichtl.geschichtliche Anstalt uund bin auch Theilnehmer. \n",
       "                   \n",
       "                   \n",
       "                       Nun Adieu! Bald sehn wir uns. Schreiben Sie \n",
       "                       recht bald, und recht umständlich, um so schöner. – Ich \n",
       "                       lege für unsren Hagen ein Blatt ein.Vgl. den Brief von Tieck an \n",
       "                           von der Hagen vom 4. März 1840, in dem sich Tieck für das Geschenk der drei \n",
       "                           Minnesinger-Bände bedankt. Der Brief ist nachzulesen bei Schweikert 1974, S. 257f. Allen den Ihrigen \n",
       "                       meine herzl.herzlichen Grüsse \n",
       "                       \n",
       "                   \n",
       "                       Ihr \n",
       "                           getreuer FrdFreund \n",
       "                           L. Tieck.\n",
       "                  \n",
       "                   \n",
       "                \n",
       "                       \n",
       "                \n",
       "                [Stempel:] DRESDEN  MAERZ 40\n",
       "                Neben dem Datumsstempel von Anfang März 1840 trägt das Umschlagblatt einige weitere Postvermerke.\n",
       "                An den Herrn\n",
       "                    Regierungsrath und Professor Friedrich \n",
       "                    von Raumer Hochwohlgebohren\n",
       "                    \n",
       "                    frei  \n",
       "                    Berlin \n",
       "                    Kochstraße. \n",
       "                \n",
       "            \n",
       "        \n",
       "    </div>\n"
      ],
      "text/plain": [
       "<IPython.core.display.HTML object>"
      ]
     },
     "metadata": {},
     "output_type": "display_data"
    }
   ],
   "source": [
    "modified_tokens = []\n",
    "\n",
    "for doc in docs:\n",
    "    break;\n",
    "for token in doc:\n",
    "    if token._.has_been_modified():\n",
    "        \n",
    "        if len(token.__str__().strip()) > 0:\n",
    "            if np.sum(np.logical_and(~token._.initial, token._.final)) > 0:\n",
    "                modified_tokens.append({\n",
    "                    \"label\": \"ADD\",\n",
    "                    \"start\": token.idx,\n",
    "                    \"end\": token.idx+len(token)\n",
    "                })\n",
    "            if np.sum(np.logical_and(token._.initial, ~token._.final)) > 0:\n",
    "                modified_tokens.append({\n",
    "                    \"label\": \"DEL\",\n",
    "                    \"start\": token.idx,\n",
    "                    \"end\": token.idx+len(token)\n",
    "                })\n",
    "\n",
    "\n",
    "from spacy.displacy.render import EntityRenderer\n",
    "options={\n",
    "    'colors': {'ADD': '#2ca02c', 'DEL': '#d62728'},\n",
    "    'ents': ['ADD', 'DEL']\n",
    "}\n",
    "\n",
    "renderer = EntityRenderer(options=options)\n",
    "display(HTML(renderer.render_ents(doc.__str__(), modified_tokens, \"\")))"
   ]
  },
  {
   "cell_type": "markdown",
   "metadata": {},
   "source": [
    "## 3. Loading word vectors from fasttext\n",
    "In order to run the following cell, choose your model in the preferred language from https://fasttext.cc/docs/en/crawl-vectors.html#models and change the path accordingly. "
   ]
  },
  {
   "cell_type": "code",
   "execution_count": null,
   "metadata": {},
   "outputs": [],
   "source": [
    "#%path_to_cc_XX_300_vec = \"/datasets/text/fasttext/cc.de.300.vec\"\n",
    "\n",
    "try:\n",
    "    #nlp = spacy.load(\"fasttext_model_de\")\n",
    "    pass\n",
    "except OSError:\n",
    "\n",
    "    from spacy.lang.de import German\n",
    "    nlp = German()\n",
    "\n",
    "    with open(path_to_cc_XX_300_vec, 'rb') as file_:\n",
    "        header = file_.readline()\n",
    "        nr_row, nr_dim = header.split()\n",
    "        nlp.vocab.reset_vectors(width=int(nr_dim))\n",
    "        for line in file_:\n",
    "            line = line.rstrip().decode('utf8')\n",
    "            pieces = line.rsplit(' ', int(nr_dim))\n",
    "            word = pieces[0]\n",
    "            vector = np.asarray([float(v) for v in pieces[1:]], dtype='f')\n",
    "            nlp.vocab.set_vector(word, vector)  # add the vectors to the vocab\n",
    "\n",
    "    nlp.to_disk('fasttext_model_de')\n",
    "    \n"
   ]
  }
 ],
 "metadata": {
  "kernelspec": {
   "display_name": "spacy-workshop",
   "language": "python",
   "name": "spacy-workshop"
  },
  "language_info": {
   "codemirror_mode": {
    "name": "ipython",
    "version": 3
   },
   "file_extension": ".py",
   "mimetype": "text/x-python",
   "name": "python",
   "nbconvert_exporter": "python",
   "pygments_lexer": "ipython3",
   "version": "3.7.0"
  }
 },
 "nbformat": 4,
 "nbformat_minor": 2
}
