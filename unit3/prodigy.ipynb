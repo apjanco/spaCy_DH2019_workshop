{
 "cells": [
  {
   "cell_type": "markdown",
   "metadata": {},
   "source": [
    "# ✨Prodigy \n",
    "\n",
    "[Prodigy Documentation](https://spacy.apjan.co/docs/)\n",
    "\n",
    "Exercise I: Basic NER with pre-trained spaCy models [source](https://towardsdatascience.com/named-entity-recognition-with-nltk-and-spacy-8c4a7d88e7da)"
   ]
  },
  {
   "cell_type": "code",
   "execution_count": null,
   "metadata": {},
   "outputs": [],
   "source": [
    "import os \n",
    "import pickle\n",
    "import spacy\n",
    "from spacy import displacy\n",
    "from collections import Counter\n",
    "\n",
    "import en_core_web_sm\n",
    "nlp = en_core_web_sm.load()"
   ]
  },
  {
   "cell_type": "code",
   "execution_count": null,
   "metadata": {
    "scrolled": false
   },
   "outputs": [],
   "source": [
    "doc = nlp(\n",
    "    \"Hosted by Utrecht University, the 2019 iteration of the Digital Humanities (DH) conference, the annual international conference of the Alliance of Digital Humanities Organizations, will take place in the medieval city of Utrecht, one of the oldest cities in the Netherlands. The city’s rapid modernization and growth has inspired the conference’s guiding theme, complexity.\"\n",
    ")\n",
    "displacy.render(doc, style=\"ent\")\n"
   ]
  },
  {
   "cell_type": "markdown",
   "metadata": {},
   "source": [
    "## Problem\n",
    "This works very well for many 20th and 21st century texts.  But what about 17th century English?"
   ]
  },
  {
   "cell_type": "code",
   "execution_count": null,
   "metadata": {
    "scrolled": true
   },
   "outputs": [],
   "source": [
    "doc = nlp(\n",
    "    \"ITEM because that the kings most deare Uncle, the king of Denmarke, Norway & Sweveland, as the same our soveraigne Lord the king of his intimation hath understood, considering the manifold & great losses, perils, hurts and damage which have late happened aswell to him and his, as to other foraines and strangers, and also friends and speciall subjects of our said soveraigne Lord the king of his Realme of England, by ye going in, entring & passage of such forain & strange persons into his realme of Norwey & other dominions, streits, territories, jurisdictions & places subdued and subject to him, specially into his Iles of Fynmarke, and elswhere, aswell in their persons as their things and goods\"\n",
    ")\n",
    "displacy.render(doc, style=\"ent\")\n"
   ]
  },
  {
   "cell_type": "markdown",
   "metadata": {},
   "source": [
    "## Introduction to ✨Prodigy\n",
    "\n",
    "Prodigy is an annotation tool for active machine teaching.  Prodigy makes it possible to quickly experiment and improve models with relatively little data, time and typically only one annotator.  Prodigy will sort a model's results by certainty, and ask for human input where the results are most ambiguous. Prodigy stores these annotations and uses them to update the model.  Machine teaching can be used to: \n",
    "\n",
    "- improve an existing model for a specific context or set of documents\n",
    "- add a new entity or category to a text model \n",
    "- custom image categorization and object recognition\n",
    "\n",
    "Prodigy does require a license to use. Researchers at degree-granting academic institutions can request a free research license [here](https://prodi.gy/forms/research-license)"
   ]
  },
  {
   "cell_type": "markdown",
   "metadata": {},
   "source": [
    "In this example, our goal is to teach an existing English-language model to identify early modern place names.\n",
    "\n",
    "There are several approaches that we could take to this problem.  Different approaches can lend better or worse result and experimentation is an essential part of any machine learning project. \n",
    "\n",
    "## How can we teach a statistical language model that Sweveland is a place?\n",
    "\n"
   ]
  },
  {
   "cell_type": "markdown",
   "metadata": {},
   "source": [
    "**Manual annotation**\n",
    "\n",
    "Some researchers may prefer to add seed annotations manually.  Using Prodigy, you can add seed terms by hand.   \n",
    "`prodigy ner.manual historic_places en_core_web_sm principal_navigations.txt --label PLACE`\n",
    "For certain personalities, myself included, this is actually kind of fun and a good way to think about the text and the goals of your experiment.   \n",
    "\n",
    "For the current problem, this is not my suggested method.  Place names are very distinct and hard to identify from context.  If the model knew that York is a place, how could it learn that New York is also a place? By contrast, titles typically occur before proper names.  It could learn that both Professor and Doctor are titles without knowing that those specific terms are used as titles.  In our current case, it's best to give the model as many examples of place names as possible.  Note that with spaCy, we are working with place names as [patterns](https://spacy.apjan.co/docs/#match-patterns) so the model can learn that place names often have several parts.  \n",
    "\n",
    "**Seed term patterns** \n",
    "\n",
    "We're going to give the model as many examples of historic places names as we can to get the learning process started. To do this, I have chosen to mine a text that has already been marked up in TEI with early modern place names and is available from the Perseus Project.  We're going to use Richard Hakluyt's [*The Principal Navigations, Voyages, Traffiques, and Discoveries of the English Nation* (1599)](http://www.perseus.tufts.edu/hopper/text?doc=Perseus%3Atext%3A1999.03.0070%3Anarrative%3D1).  I have chosen an English-language example because we'll be annotating the text in this workshop and English is a working language for DH2019.  However, you can work with texts in [any language](https://spacy.io/usage/adding-languages) even those that do not have an existing spaCy language model ([colonial Zapotec](https://ticha.haverford.edu/) for example!).    \n",
    "\n",
    "\n",
    "\n",
    "**New category or existing?** \n",
    "\n",
    "We will need to choose whether we want to add a new entity to the model (let's call it \"PLACE\") or improve the existing \"GPE\" entity for our historic places.  Either one works.  If we improve an existing entity, we retain the existing training and examples. A new entity makes it easier to distinguish between what we have taught the model and previous training.  This can also address potential bias in previous training data.  For that reason, we'll add \"PLACE\" as a new category.     "
   ]
  },
  {
   "cell_type": "markdown",
   "metadata": {},
   "source": [
    "### Download the TEI files from Persius \n",
    "- We're going to extract a list of all the place names from the text to create a patterns JSONL file.\n",
    "- We'll also extract the raw text to create a set of training documents. "
   ]
  },
  {
   "cell_type": "markdown",
   "metadata": {},
   "source": [
    "We are going to download the table of contents and create a list of the 937 segments of the document. We will then get each page, remove the place names (`<name type=\"place\">Utrect</name>`) and add them to a places list."
   ]
  },
  {
   "cell_type": "code",
   "execution_count": null,
   "metadata": {},
   "outputs": [],
   "source": [
    "from urllib.request import urlopen\n",
    "from lxml import etree\n",
    "spec = {\"tei\":\"http://www.tei-c.org/ns/1.0\"}\n",
    "\n",
    "def tei_loader(url):\n",
    "    tei = urlopen(url).read()\n",
    "    return etree.XML(tei)\n",
    "\n",
    "table_of_contents_url = \"http://www.perseus.tufts.edu/hopper/xmltoc?doc=Perseus%3Atext%3A1999.03.0070%3Anarrative%3D1\"\n",
    "table_of_contents_xml = tei_loader(table_of_contents_url)\n",
    "\n",
    "if not os.path.exists('refs.pickle'):\n",
    "    chunks = table_of_contents_xml.xpath(\"//chunk[@ref]\")\n",
    "    refs = [chunk.get('ref') for chunk in chunks] \n",
    "    # an example ref 'Perseus%3Atext%3A1999.03.0070%3Anarrative%3D6'\n",
    "\n",
    "\n",
    "    places = []\n",
    "\n",
    "    for ref in refs:\n",
    "\n",
    "        url = 'http://www.perseus.tufts.edu/hopper/xmlchunk?doc=' + ref\n",
    "        try:\n",
    "            tei = tei_loader(url)\n",
    "\n",
    "            #get all <name type='place'> tags\n",
    "            for place in tei.findall(\".//name[@type='place']\", namespaces=spec):\n",
    "                places.append(place.text.replace('\\n',''))\n",
    "        except Exception as e:\n",
    "            print(e)\n",
    "            \n",
    "    pickle.dump(places, open('places.pickle', 'wb'))\n",
    "    pickle.dump(refs, open('refs.pickle', 'wb'))\n",
    "\n",
    "else:\n",
    "    places = pickle.load(open('places.pickle', 'rb'))\n",
    "    refs = pickle.load(open('refs.pickle', 'rb'))\n",
    "    print('pickles loaded')\n"
   ]
  },
  {
   "cell_type": "code",
   "execution_count": null,
   "metadata": {
    "scrolled": true
   },
   "outputs": [],
   "source": [
    "print('number of documents: ', len(refs))\n",
    "print('number of places found: ', len(set(places)))\n",
    "places[9]"
   ]
  },
  {
   "cell_type": "markdown",
   "metadata": {},
   "source": [
    "### Create a patterns.jsonl file with seed terms.  \n",
    "These terms provide examples that the model can use to learn the new category. It is good to use as many terms as are practical; preferably 100-200. Further examples of patterns files can be found [here](https://github.com/explosion/prodigy-recipes/tree/master/example-patterns) and there is a very helpful tool for creating patterns that are relevant to your projects and texts [here](https://explosion.ai/demos/matcher)\n"
   ]
  },
  {
   "cell_type": "code",
   "execution_count": null,
   "metadata": {},
   "outputs": [],
   "source": [
    "import json\n",
    "new_label = 'PLACE'\n",
    "\n",
    "if not os.path.exists('patterns.jsonl'):\n",
    "    with open('patterns.jsonl','w') as f:\n",
    "        for place in set(places):   # A set is used here to remove duplicate place names\n",
    "            \n",
    "            row = {}\n",
    "                \n",
    "            row['label'] = new_label\n",
    "            row['pattern'] = []\n",
    "            for token in place.split():\n",
    "                pattern = {}\n",
    "                pattern['lower'] = token.lower()\n",
    "                row['pattern'].append(pattern)\n",
    "        \n",
    "            f.write(str(json.dumps(row) +'\\n')) \n",
    "            \n",
    "        '''Polite intervention:  \n",
    "        Sweveland is not in our list of historic and beautiful places, but is essential to the narrative of this notebook.\n",
    "        To correct this error, the line below has been added, with appologies to our colleagues from Sweveland'''\n",
    "        row = {\"label\": \"PLACE\", \"pattern\": [{\"lower\": \"sweveland\"}]}\n",
    "        f.write(json.dumps(row))"
   ]
  },
  {
   "cell_type": "code",
   "execution_count": null,
   "metadata": {
    "scrolled": false
   },
   "outputs": [],
   "source": [
    "with open('patterns.jsonl','r') as f:\n",
    "    print(f.read()[:185])"
   ]
  },
  {
   "cell_type": "code",
   "execution_count": null,
   "metadata": {},
   "outputs": [],
   "source": [
    "#Now to extract the full text\n",
    "percent_of_texts_to_process = 0.05 \n",
    "'''We are only using a tiny portion of the text for annotation.  \n",
    "Unlike many machine learning tasks, in this case, more text data for annotations does not necessarily\n",
    "improve learning. More text will dramatically increase Prodigy's memory usage, so keep that in mind.'''\n",
    "\n",
    "end_index = int(len(refs) * percent_of_texts_to_process)\n",
    "\n",
    "if os.path.exists(\"principal_navigations.txt\"):\n",
    "    print(\n",
    "        \"The file already exists. This process takes several minutes. To re-run, change process_anew to True. You can also adjust the percentage of the corpus to be gathered.\"\n",
    "    )\n",
    "    \n",
    "process_anew = False\n",
    "if process_anew:\n",
    "    txts = []\n",
    "    for ref in refs[:end_index]:\n",
    "\n",
    "        url = 'http://www.perseus.tufts.edu/hopper/xmlchunk?doc=' + ref\n",
    "        try:\n",
    "            tei = tei_loader(url)\n",
    "\n",
    "            new_txt = []\n",
    "            for body in tei.iter('body'):\n",
    "                new_txt.append(''.join(body.itertext()).strip().replace('\\n',''))\n",
    "                txts.append(''.join(new_txt))\n",
    "\n",
    "        except Exception as e:\n",
    "            print(e)\n",
    "            \n",
    "\n",
    "    full_text = [\n",
    "        txt.replace(\"        \", \" \").replace(\"   \", \" \").replace(\"  \", \" \")\n",
    "        for txt in txts\n",
    "    ]\n",
    "    \n",
    "    with open('principal_navigations.txt','w') as f:\n",
    "        f.write(str(full_text))"
   ]
  },
  {
   "cell_type": "code",
   "execution_count": null,
   "metadata": {},
   "outputs": [],
   "source": [
    "with open('principal_navigations.txt','r') as f: \n",
    "    print(f.read()[:600])\n",
    "    "
   ]
  },
  {
   "cell_type": "markdown",
   "metadata": {},
   "source": [
    "## With patterns and text files created, we can now work with ✨Prodigy!"
   ]
  },
  {
   "cell_type": "markdown",
   "metadata": {},
   "source": [
    "The `dataset` command will create a database table to save your annotations. The default is sqlite, but you can connect to [MySQL or postgres](https://spacy.apjan.co/docs/#database-setup)"
   ]
  },
  {
   "cell_type": "code",
   "execution_count": null,
   "metadata": {
    "scrolled": true
   },
   "outputs": [],
   "source": [
    "!prodigy dataset historic_places \"A dataset for British historic places\" --author Andy"
   ]
  },
  {
   "cell_type": "markdown",
   "metadata": {},
   "source": [
    "If you'd like to delete a dataset:   \n",
    "\n",
    "`prodigy drop historic_places`\n",
    "\n"
   ]
  },
  {
   "cell_type": "markdown",
   "metadata": {},
   "source": [
    "## A. Plaintext to TEI. \n"
   ]
  },
  {
   "cell_type": "markdown",
   "metadata": {},
   "source": [
    "To start the annotation application for a named entity recognition task, we use the `ner.teach` recipe. Similar [built-in recipes](https://spacy.apjan.co/docs/#built-in-recipes) are available for: \n",
    "- text categorization (textcat.teach) \n",
    "- part of speech tagging (pos.teach)  \n",
    "- vectors & terminology (terms.teach)\n",
    "- computer vision (image.manual)\n",
    "\n",
    "In the command below, we use the `ner.teach` recipe to annotate the `historic_places` dataset, using the `en_core_web_sm` model to add the new entity `PLACE` after loading the patterns in `patterns.jsonl`.  \n",
    "\n",
    "**Please be patient, this next step can take a few minutes to load**  \n",
    "Click on the stop button to intterupt the kernel when you're done. "
   ]
  },
  {
   "cell_type": "code",
   "execution_count": null,
   "metadata": {},
   "outputs": [],
   "source": [
    "!prodigy ner.manual historic_places en_core_web_sm principal_navigations.txt --label PLACE"
   ]
  },
  {
   "cell_type": "code",
   "execution_count": null,
   "metadata": {
    "scrolled": false
   },
   "outputs": [],
   "source": [
    "!prodigy ner.teach historic_places en_core_web_sm principal_navigations.txt --label PLACE --patterns patterns.jsonl"
   ]
  },
  {
   "cell_type": "markdown",
   "metadata": {},
   "source": [
    "Once you have completed adding annotations, the next step is to train the model.  \n",
    "\n",
    "In the command below, we use `ner.batch-train` to use the annotations in the `historic_places` dataset to train the `en_core_web_sm` model on the new entity `PLACE`.  We then save the updated model as `new_model`."
   ]
  },
  {
   "cell_type": "code",
   "execution_count": null,
   "metadata": {
    "scrolled": true
   },
   "outputs": [],
   "source": [
    "!prodigy ner.batch-train historic_places en_core_web_sm --label PLACE --output new_model "
   ]
  },
  {
   "cell_type": "markdown",
   "metadata": {},
   "source": [
    "If you think the model would benefit from more training you can run this process again to load and update `new_model`.  You can also add the `--n-iter` argument to specify the number of iterations."
   ]
  },
  {
   "cell_type": "code",
   "execution_count": null,
   "metadata": {
    "scrolled": false
   },
   "outputs": [],
   "source": [
    "!prodigy ner.batch-train historic_places new_model --output new_model --label PLACE --n-iter 120"
   ]
  },
  {
   "cell_type": "markdown",
   "metadata": {},
   "source": [
    "Would our model improve with more data?"
   ]
  },
  {
   "cell_type": "code",
   "execution_count": null,
   "metadata": {},
   "outputs": [],
   "source": [
    "!prodigy ner.train-curve historic_places new_model --label PLACE --n-iter 10 --eval-split 0.2 --dropout 0.2  --n-samples 4 "
   ]
  },
  {
   "cell_type": "markdown",
   "metadata": {},
   "source": [
    "To load and see the results of our new model "
   ]
  },
  {
   "cell_type": "code",
   "execution_count": null,
   "metadata": {
    "scrolled": true
   },
   "outputs": [],
   "source": [
    "import spacy\n",
    "\n",
    "nlp = spacy.load(\"new_model\")\n",
    "doc = nlp(\n",
    "    \"ITEM because that the kings most deare Uncle, the king of Denmarke, Norway & Sweveland, as the same our soveraigne Lord the king of his intimation hath understood, considering the manifold & great losses, perils, hurts and damage which have late happened aswell to him and his, as to other foraines and strangers, and also friends and speciall subjects of our said soveraigne Lord the king of his Realme of England, by ye going in, entring & passage of such forain & strange persons into his realme of Norwey & other dominions, streits, territories, jurisdictions & places subdued and subject to him, specially into his Iles of Fynmarke, and elswhere, aswell in their persons as their things and goods\"\n",
    ")\n",
    "displacy.render(doc, style=\"ent\")"
   ]
  },
  {
   "cell_type": "markdown",
   "metadata": {},
   "source": [
    "That's not too bad.  What about a text that the model has never seen before? Let's try Çelebi Evliya's [Narrative of travels in Europe, Asia, and Africa](https://archive.org/details/narrativeoftrave01evli/page/n4)"
   ]
  },
  {
   "cell_type": "code",
   "execution_count": null,
   "metadata": {},
   "outputs": [],
   "source": [
    "import spacy\n",
    "\n",
    "nlp = spacy.load(\"new_model\")\n",
    "doc = nlp(\n",
    "    \"\"\"The army marched from Konia to Kaiseria (Caesarea), and thence to Sivas, where the feast of the Korbân (sacrifice) was celebrated. Here Mustafâ Pâshâ, the emperor's favourite, was promoted to the rank of second vezir, and called into the divân. The army then continued its march to Erzerum. Besides tiie guns provided by the commander-in-chief, there were forty large guns dragged by two thousand pairs of buftaloes. The army entered the castle of Kazmaghan, and halted under the walls of Eriviin in the year 1044 (1634).  \n",
    "\"\"\"\n",
    ")\n",
    "counter = 0\n",
    "for ent in doc.ents:\n",
    "    if ent.text in places:\n",
    "        print(ent.text, ent.start_char, ent.end_char, ent.label_)\n",
    "        counter += 1\n",
    "\n",
    "print(f\"{counter} of the place ids were in the training data\")\n",
    "displacy.render(doc, style=\"ent\")"
   ]
  },
  {
   "cell_type": "markdown",
   "metadata": {},
   "source": [
    "Mustafâ Pâshâ is obviously a person, but the model has done as passable job. Let's use our model to automatically identify historical place names and produce a markedup TEI document. "
   ]
  },
  {
   "cell_type": "code",
   "execution_count": null,
   "metadata": {},
   "outputs": [],
   "source": [
    "text = \"\"\"The army marched from Konia to Kaiseria (Caesarea), and thence to Sivas, where the feast of the Korbân (sacrifice) was celebrated. Here Mustafâ Pâshâ, the emperor's favourite, was promoted to the rank of second vezir, and called into the divân. The army then continued its march to Erzerum. Besides tiie guns provided by the commander-in-chief, there were forty large guns dragged by two thousand pairs of buftaloes. The army entered the castle of Kazmaghan, and halted under the walls of Eriviin in the year 1044 (1634).\"\"\"  \n",
    "\n",
    "import spacy\n",
    "nlp = spacy.load('new_model')\n",
    "doc = nlp(text)\n",
    "text_list = [i.text for i in doc]\n",
    "\n",
    "for token in doc:\n",
    "    if token.ent_type_ == 'PLACE': \n",
    "        text_list[token.i] = '<name type=\"place\">' + text_list[token.i] + '</name>'\n",
    "\n",
    "punct = ['.',\"'\",',',')',':',';']\n",
    "\n",
    "text=''\n",
    "for i, token in enumerate(text_list):\n",
    "    try:\n",
    "        if text_list[i+1] in punct:\n",
    "            text += token\n",
    "\n",
    "        else: \n",
    "            text += token + ' '\n",
    "        \n",
    "    except IndexError:\n",
    "        pass\n",
    "   \n",
    "    \n",
    "text.replace('\\n','').replace('( ','(')"
   ]
  },
  {
   "cell_type": "code",
   "execution_count": null,
   "metadata": {},
   "outputs": [],
   "source": [
    "# save text as tei \n",
    "filename = 'my_tei.xml'\n",
    "language = 'en'\n",
    "\n",
    "tei_string = f\"\"\"\n",
    "<TEI.2>\n",
    "  <text lang=\"{language}\">\n",
    "    <body>\n",
    "        <p>\n",
    "            {text}\n",
    "        </p>\n",
    "    </body>\n",
    "  </text>\n",
    "</TEI.2>\n",
    "\"\"\"\n",
    "doc = etree.fromstring(tei_string)\n",
    "tree = etree.ElementTree(doc)\n",
    "tree.write(f'{filename}', pretty_print=True, xml_declaration=False,   encoding=\"utf-8\")\n"
   ]
  },
  {
   "cell_type": "code",
   "execution_count": null,
   "metadata": {},
   "outputs": [],
   "source": [
    "with open('my_tei.xml','r') as f:\n",
    "    print(f.read())"
   ]
  },
  {
   "cell_type": "markdown",
   "metadata": {},
   "source": [
    "### B. TEI to TEI\n"
   ]
  },
  {
   "cell_type": "code",
   "execution_count": null,
   "metadata": {},
   "outputs": [],
   "source": [
    "!prodigy dataset historic_places_xml \"A dataset for British historic places with TEI input\" --author Andy"
   ]
  },
  {
   "cell_type": "code",
   "execution_count": null,
   "metadata": {},
   "outputs": [],
   "source": [
    "#save xml file to disk\n",
    "with open('my_tei.txt','w') as f:\n",
    "    url = 'http://www.perseus.tufts.edu/hopper/xmlchunk?doc=' + refs[2]\n",
    "    print(url)\n",
    "    tei = urlopen(url).read()\n",
    "    tei = etree.XML(tei)\n",
    "    text = etree.tostring(tei)\n",
    "    f.write(str(text))\n",
    "\n",
    "with open('my_tei.txt','r') as fr:\n",
    "    print(fr.read()[:100])"
   ]
  },
  {
   "cell_type": "code",
   "execution_count": null,
   "metadata": {},
   "outputs": [],
   "source": [
    "!prodigy ner.teach historic_places_xml en_core_web_sm my_tei.txt --label PLACE --patterns patterns.jsonl"
   ]
  },
  {
   "cell_type": "markdown",
   "metadata": {},
   "source": [
    "## Prodigy as a manual annotation tool \n",
    "text > tei manual markup"
   ]
  },
  {
   "cell_type": "code",
   "execution_count": null,
   "metadata": {},
   "outputs": [],
   "source": [
    "text = \"\"\"The army marched from Konia to Kaiseria (Caesarea), and thence to Sivas, where the feast of the Korbân (sacrifice) was celebrated. Here Mustafâ Pâshâ, the emperor's favourite, was promoted to the rank of second vezir, and called into the divân. The army then continued its march to Erzerum. Besides tiie guns provided by the commander-in-chief, there were forty large guns dragged by two thousand pairs of buftaloes. The army entered the castle of Kazmaghan, and halted under the walls of Eriviin in the year 1044 (1634).\"\"\"  \n",
    "with open('text2tei.txt','w') as f:\n",
    "    f.write(text)"
   ]
  },
  {
   "cell_type": "code",
   "execution_count": null,
   "metadata": {},
   "outputs": [],
   "source": [
    "!prodigy dataset text2tei \"A dataset for British historic places with text input\" --author Andy"
   ]
  },
  {
   "cell_type": "code",
   "execution_count": null,
   "metadata": {},
   "outputs": [],
   "source": [
    "!prodigy ner.manual text2tei en_core_web_sm text2tei.txt"
   ]
  },
  {
   "cell_type": "code",
   "execution_count": null,
   "metadata": {},
   "outputs": [],
   "source": [
    "!prodigy db-out text2tei ."
   ]
  },
  {
   "cell_type": "code",
   "execution_count": null,
   "metadata": {},
   "outputs": [],
   "source": [
    "with open('text2tei.jsonl','r') as f:\n",
    "    jsonl = json.loads(f.read())\n",
    "    print(jsonl['spans'])"
   ]
  },
  {
   "cell_type": "code",
   "execution_count": null,
   "metadata": {},
   "outputs": [],
   "source": [
    "import json \n",
    "\n",
    "def jsonl_to_xml(jsonl):    \n",
    "    jsonl = json.loads(jsonl)\n",
    "    text = jsonl['text']\n",
    "    offset = 0\n",
    "    \n",
    "    for span in jsonl['spans']:\n",
    "\n",
    "        new_text = f\"<{span['label']}>\" + text[span[\"start\"] +offset : span[\"end\"] + offset] +  f\"</{span['label']}>\" \n",
    "        text = text[:span[\"start\"] + offset] + new_text + text[span[\"end\"] + offset:]\n",
    "        offset += len(new_text) - (span[\"end\"] - span[\"start\"])\n",
    "    \n",
    "    return text\n",
    "        \n",
    "\n",
    "with open('text2tei.jsonl','r') as f:\n",
    "    jsonl = f.read()\n",
    "    xml = jsonl_to_xml(jsonl)\n",
    "    print(xml)"
   ]
  },
  {
   "cell_type": "code",
   "execution_count": null,
   "metadata": {
    "scrolled": true
   },
   "outputs": [],
   "source": [
    "# save text as tei \n",
    "filename = 'annotated_tei.xml'\n",
    "language = 'en'\n",
    "\n",
    "tei_string = f\"\"\"\n",
    "<TEI.2>\n",
    "  <text lang=\"{language}\">\n",
    "    <body>\n",
    "        <p>\n",
    "            {xml}\n",
    "        </p>\n",
    "    </body>\n",
    "  </text>\n",
    "</TEI.2>\n",
    "\"\"\"\n",
    "doc = etree.fromstring(tei_string)\n",
    "tree = etree.ElementTree(doc)\n",
    "tree.write(f'{filename}', pretty_print=True, xml_declaration=False,   encoding=\"utf-8\")\n",
    "\n",
    "with open(filename,'r') as f:\n",
    "    print(f.read())"
   ]
  },
  {
   "cell_type": "markdown",
   "metadata": {},
   "source": [
    "## Thank you for your attention!  How could you use spaCy and Prodigy in your own projects?  "
   ]
  }
 ],
 "metadata": {
  "kernelspec": {
   "display_name": "spacy",
   "language": "python",
   "name": "spacy"
  },
  "language_info": {
   "codemirror_mode": {
    "name": "ipython",
    "version": 3
   },
   "file_extension": ".py",
   "mimetype": "text/x-python",
   "name": "python",
   "nbconvert_exporter": "python",
   "pygments_lexer": "ipython3",
   "version": "3.7.3"
  }
 },
 "nbformat": 4,
 "nbformat_minor": 2
}
